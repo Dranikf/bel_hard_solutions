{
 "cells": [
  {
   "cell_type": "markdown",
   "id": "7bb06fd2-7b3b-4dbd-b92a-ab0378a6ca7b",
   "metadata": {},
   "source": [
    "**Содержание урока 4**"
   ]
  },
  {
   "cell_type": "markdown",
   "id": "573f525c-d588-4bf4-a6cd-9708e44a8089",
   "metadata": {},
   "source": [
    "Научить комп парсить выражения умножениями делениями и т.д.\n",
    "\n",
    "12 + 11/2-15*3"
   ]
  },
  {
   "cell_type": "code",
   "execution_count": 6,
   "id": "752a82dd-9354-4901-8a88-aa264ce11c1e",
   "metadata": {},
   "outputs": [
    {
     "data": {
      "text/plain": [
       "'t'"
      ]
     },
     "execution_count": 6,
     "metadata": {},
     "output_type": "execute_result"
    }
   ],
   "source": [
    "\"test\"[3:]"
   ]
  },
  {
   "cell_type": "code",
   "execution_count": 59,
   "id": "25f636ea-7606-41aa-9902-b25ac8e23750",
   "metadata": {},
   "outputs": [
    {
     "data": {
      "text/plain": [
       "'4'"
      ]
     },
     "execution_count": 59,
     "metadata": {},
     "output_type": "execute_result"
    }
   ],
   "source": [
    "import numpy as np\n",
    "\n",
    "s = \"34+32/4-65\"\n",
    "pos = 7\n",
    "\n",
    "\n"
   ]
  },
  {
   "cell_type": "markdown",
   "id": "32a65d98-623e-41b9-9e4c-45d351156c56",
   "metadata": {},
   "source": [
    "# Задача с вычислением заданной строки без скобок"
   ]
  },
  {
   "cell_type": "markdown",
   "id": "e5fd126f-12ce-4bce-b723-29340f4628d2",
   "metadata": {},
   "source": [
    "Мое первоначальное решение"
   ]
  },
  {
   "cell_type": "code",
   "execution_count": 125,
   "id": "a226c309-28a8-4c89-b2a3-d9755d5a9585",
   "metadata": {},
   "outputs": [
    {
     "name": "stdin",
     "output_type": "stream",
     "text": [
      "Ведите выражение которое требуется для вычисления 34+36/3-45*6\n"
     ]
    },
    {
     "name": "stdout",
     "output_type": "stream",
     "text": [
      "я умножил!  34+36/3-270.0\n",
      "я поделил!  34+12.0-270.0\n",
      "я сложил!  46.0-270.0\n",
      "я отнял!  -224.0\n"
     ]
    }
   ],
   "source": [
    "def get_next_num(pos, s, symbols = \"+-/*\"):\n",
    "    '''\n",
    "        Функция позволяет получить число справа\n",
    "        заданной позиции <pos> \n",
    "        в выбранной строке <s>\n",
    "        ограничителями выступают символы <symbols>\n",
    "    '''\n",
    "    \n",
    "    # будем искать следующее число\n",
    "    nex_inds = np.setdiff1d(np.fromiter(\n",
    "        map(lambda x: s[pos + 1:].find(x), symbols), \n",
    "        dtype = \"int32\"\n",
    "    ),-1)\n",
    "    \n",
    "    # елмли ничего не нашло\n",
    "    if len(nex_inds) == 0:\n",
    "        # тогда забираем символы до конца строки\n",
    "        subs = s[pos+1:]\n",
    "    else:\n",
    "        #если же нашлось - надо забрать до меньшего найденного\n",
    "        subs = s[pos+1:np.min(nex_inds)+pos+1]\n",
    "    \n",
    "    return subs\n",
    "\n",
    "\n",
    "def get_prev_num(pos, s, symbols = \"+-/*\"):\n",
    "    '''\n",
    "        Функция позволяет получить число слева\n",
    "        заданной позиции <pos> \n",
    "        в выбранной строке <s>\n",
    "        ограничителями выступают символы <symbols>\n",
    "    '''\n",
    "    # будем искать следующее число\n",
    "    prev_inds = np.setdiff1d(np.fromiter(\n",
    "        map(lambda x: s[:pos].find(x), symbols), \n",
    "        dtype = \"int32\"\n",
    "    ),-1)\n",
    "    \n",
    "    # еcли ничего не нашло\n",
    "    if len(prev_inds) == 0:\n",
    "        # тогда забираем символы до конца строки\n",
    "        subs = s[:pos]\n",
    "    else:\n",
    "        #если же нашлось - надо забрать до меньшего найденного\n",
    "        subs = s[np.max(prev_inds)+1:pos]\n",
    "    return subs\n",
    "\n",
    "\n",
    "line = input(\"Ведите выражение которое требуется для вычисления\")\n",
    "\n",
    "line_desc = dict(\n",
    "    mult_pos = line.find(\"*\"),\n",
    "    divide_pos = line.find(\"/\"),\n",
    "    plus_pos = line.find(\"+\"),\n",
    "    minus_pos = line.find(\"-\"),\n",
    ")\n",
    "\n",
    "\n",
    "# умножение\n",
    "symb = line.find(\"*\")\n",
    "s1 = get_prev_num(symb,line)\n",
    "s2 = get_next_num(symb,line)\n",
    "line = line[:symb - len(s1)] + \\\n",
    "str(float(s1) * float(s2)) + \\\n",
    "line[symb + len(s2) + 1:]\n",
    "print(\"я умножил! \", line)\n",
    "\n",
    "# деление\n",
    "symb = line.find(\"/\")\n",
    "s1 = get_prev_num(symb,line)\n",
    "s2 = get_next_num(symb,line)\n",
    "line = line[:symb - len(s1)] + \\\n",
    "str(float(s1) / float(s2)) + \\\n",
    "line[symb + len(s2) + 1:]\n",
    "print(\"я поделил! \", line)\n",
    "\n",
    "# сложение\n",
    "symb = line.find(\"+\")\n",
    "s1 = get_prev_num(symb,line)\n",
    "s2 = get_next_num(symb,line)\n",
    "line = line[:symb - len(s1)] + \\\n",
    "str(float(s1) + float(s2)) + \\\n",
    "line[symb + len(s2) + 1:]\n",
    "print(\"я сложил! \", line)\n",
    "\n",
    "# вычитание\n",
    "symb = line.find(\"-\")\n",
    "s1 = get_prev_num(symb,line)\n",
    "s2 = get_next_num(symb,line)\n",
    "line = line[:symb - len(s1)] + \\\n",
    "str(float(s1) - float(s2)) + \\\n",
    "line[symb + len(s2) + 1:]\n",
    "print(\"я отнял! \", line)"
   ]
  },
  {
   "cell_type": "markdown",
   "id": "616f5d60-c355-4e20-9f0c-1dad577f0a7b",
   "metadata": {},
   "source": [
    "Подсказка преподавателя состояла в том, что надо разделить строки по символам +,- а потом анализировать все остальное"
   ]
  },
  {
   "cell_type": "code",
   "execution_count": 10,
   "id": "a4cae1d5-5a86-4b14-a8a0-72831c57e63d",
   "metadata": {},
   "outputs": [
    {
     "data": {
      "text/plain": [
       "8.0"
      ]
     },
     "execution_count": 10,
     "metadata": {},
     "output_type": "execute_result"
    }
   ],
   "source": [
    "import numpy as np\n",
    "def analise_mult_divide(s):\n",
    "    '''\n",
    "        Вычислить значения подстрок содержащих\n",
    "        операции деления/умножения\n",
    "    '''\n",
    "    # получаем подстроки разделенные через *\n",
    "    sub_lines = s.split(\"*\")\n",
    "\n",
    "    # получаем позиции -\n",
    "    sub_lines2 = []\n",
    "    # получаем подстроки разделенны через /\n",
    "    for l in sub_lines:\n",
    "        sub_lines2 += l.split(\"/\")\n",
    "        \n",
    "    # получаем позиции деления и умножения\n",
    "    md_signs_pos = \\\n",
    "    np.cumsum([len(line) for line in sub_lines2])[:-1] + \\\n",
    "    np.arange(len(sub_lines2) - 1)\n",
    "    \n",
    "    res = float(sub_lines2[0])\n",
    "    for i, val in enumerate(md_signs_pos):\n",
    "        sign = s[val]\n",
    "        if sign == \"*\":\n",
    "            res *= float(sub_lines2[i+1])\n",
    "        else:\n",
    "            res /= float(sub_lines2[i+1])\n",
    "            \n",
    "    return res"
   ]
  },
  {
   "cell_type": "code",
   "execution_count": 15,
   "id": "abfe3597-a0f9-4025-94c9-ce7738d3e762",
   "metadata": {},
   "outputs": [
    {
     "data": {
      "text/plain": [
       "32.0"
      ]
     },
     "execution_count": 15,
     "metadata": {},
     "output_type": "execute_result"
    }
   ],
   "source": [
    "def analise_mult_divide(s):\n",
    "    '''\n",
    "        Вычислить значения подстрок содержащих\n",
    "        операции деления/умножения\n",
    "    '''\n",
    "    # получаем подстроки разделенные через *\n",
    "    sub_lines = s.split(\"*\")\n",
    "\n",
    "    # получаем позиции -\n",
    "    sub_lines2 = []\n",
    "    # получаем подстроки разделенны через /\n",
    "    for l in sub_lines:\n",
    "        sub_lines2 += l.split(\"/\")\n",
    "        \n",
    "    # получаем позиции деления и умножения\n",
    "    md_signs_pos = \\\n",
    "    np.cumsum([len(line) for line in sub_lines2])[:-1] + \\\n",
    "    np.arange(len(sub_lines2) - 1)\n",
    "    \n",
    "    res = float(sub_lines2[0])\n",
    "    for i, val in enumerate(md_signs_pos):\n",
    "        sign = s[val]\n",
    "        if sign == \"*\":\n",
    "            res *= float(sub_lines2[i+1])\n",
    "        else:\n",
    "            res /= float(sub_lines2[i+1])\n",
    "            \n",
    "    return res\n",
    "    \n",
    "\n",
    "\n",
    "line = \"3*6-23*2+34/2+43\"\n",
    "\n",
    "# получаем подстроки разделенные через +\n",
    "sub_lines = line.split(\"+\")\n",
    "\n",
    "# получаем позиции -\n",
    "sub_lines2 = []\n",
    "# получаем подстроки разделенны через -\n",
    "for l in sub_lines:\n",
    "    sub_lines2 += l.split(\"-\")\n",
    "\n",
    "# получаем позиции минусов и плюсов\n",
    "mp_signs_pos = \\\n",
    "np.cumsum([len(line) for line in sub_lines2])[:-1] + \\\n",
    "np.arange(len(sub_lines2) - 1)\n",
    "\n",
    "res = analise_mult_divide(sub_lines2[0])\n",
    "\n",
    "# пробегаемся по позициям и вычисляем\n",
    "for i, val in enumerate(mp_signs_pos):\n",
    "    sign = line[val]\n",
    "    if sign == \"+\":\n",
    "        res += analise_mult_divide(sub_lines2[i+1])\n",
    "    else:\n",
    "        res -= analise_mult_divide(sub_lines2[i+1])\n",
    "\n",
    "res"
   ]
  },
  {
   "cell_type": "markdown",
   "id": "d9771652-b013-425d-8cdf-f7323f5b2083",
   "metadata": {},
   "source": [
    "# Форматирование строк"
   ]
  },
  {
   "cell_type": "code",
   "execution_count": 78,
   "id": "b1a93326-7b9e-471f-aed2-ebe79b732f35",
   "metadata": {},
   "outputs": [
    {
     "data": {
      "text/plain": [
       "'Я люблю Python'"
      ]
     },
     "execution_count": 78,
     "metadata": {},
     "output_type": "execute_result"
    }
   ],
   "source": [
    "my_string = \"Я люблю %s\" % \"Python\"\n",
    "my_string"
   ]
  },
  {
   "cell_type": "markdown",
   "id": "48d06a00-b67b-4360-bf29-c0f71ef078cd",
   "metadata": {},
   "source": [
    "Задачки на строки"
   ]
  },
  {
   "cell_type": "markdown",
   "id": "fdef5a51-2e95-4016-8647-7ffad4683b0d",
   "metadata": {},
   "source": [
    "9.90"
   ]
  },
  {
   "cell_type": "code",
   "execution_count": 127,
   "id": "87dfcb68-8132-4659-9d3d-190089cfe118",
   "metadata": {},
   "outputs": [
    {
     "name": "stdin",
     "output_type": "stream",
     "text": [
      "Ведите слово fdadfsa\n"
     ]
    },
    {
     "data": {
      "text/plain": [
       "'*******fdadfsa*******'"
      ]
     },
     "execution_count": 127,
     "metadata": {},
     "output_type": "execute_result"
    }
   ],
   "source": [
    "s = input(\"Ведите слово\")\n",
    "\"*\"*len(s) + s + \"*\"*len(s)"
   ]
  },
  {
   "cell_type": "markdown",
   "id": "350e0247-c7ba-4141-9cf7-66f1103d1d2f",
   "metadata": {},
   "source": [
    "<img src=\"9.184.png\">"
   ]
  }
 ],
 "metadata": {
  "kernelspec": {
   "display_name": "Python 3 (ipykernel)",
   "language": "python",
   "name": "python3"
  },
  "language_info": {
   "codemirror_mode": {
    "name": "ipython",
    "version": 3
   },
   "file_extension": ".py",
   "mimetype": "text/x-python",
   "name": "python",
   "nbconvert_exporter": "python",
   "pygments_lexer": "ipython3",
   "version": "3.10.7"
  }
 },
 "nbformat": 4,
 "nbformat_minor": 5
}

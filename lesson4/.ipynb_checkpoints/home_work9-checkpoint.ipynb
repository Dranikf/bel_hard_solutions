{
 "cells": [
  {
   "cell_type": "markdown",
   "id": "d7b2fe2e-ab30-4419-83c4-2ea11f573510",
   "metadata": {},
   "source": [
    "**Задачи главы 9 данные на дом**"
   ]
  },
  {
   "cell_type": "markdown",
   "id": "64dbf3cb-30ea-46bc-979b-e47952a90cf7",
   "metadata": {},
   "source": [
    "<img src=\"9.91.png\">"
   ]
  },
  {
   "cell_type": "code",
   "execution_count": 1,
   "id": "5e4264f2-c8fe-47de-ab92-dac83ebf3a9d",
   "metadata": {},
   "outputs": [
    {
     "data": {
      "text/plain": [
       "'как_же_это_просто'"
      ]
     },
     "execution_count": 1,
     "metadata": {},
     "output_type": "execute_result"
    }
   ],
   "source": [
    "\"как же это просто\".replace(\" \", \"_\")"
   ]
  },
  {
   "cell_type": "markdown",
   "id": "c2f5904f-f54f-4b00-a596-f6d03b46e708",
   "metadata": {},
   "source": [
    "<img src=\"9.92.png\">"
   ]
  },
  {
   "cell_type": "code",
   "execution_count": 7,
   "id": "0c26dc5b-d0ef-480e-a8f5-d7742b5d08b4",
   "metadata": {},
   "outputs": [
    {
     "data": {
      "text/plain": [
       "'ыты ыоыеыны ылыжыо'"
      ]
     },
     "execution_count": 7,
     "metadata": {},
     "output_type": "execute_result"
    }
   ],
   "source": [
    "s = \"Это тоже не сложно\"\n",
    "res = \"\"\n",
    "z = -1\n",
    "\n",
    "for i, symb in enumerate(s):\n",
    "    res += symb if i%2!=0 else \"ы\"\n",
    "    \n",
    "res"
   ]
  },
  {
   "cell_type": "markdown",
   "id": "620a9f82-0d84-4e18-b3df-47b80cb2f860",
   "metadata": {},
   "source": [
    "<img src=\"9.93.png\">"
   ]
  },
  {
   "cell_type": "code",
   "execution_count": 14,
   "id": "8e5f99e3-96f3-407a-be20-e86e8ae5f210",
   "metadata": {},
   "outputs": [
    {
     "data": {
      "text/plain": [
       "'Этa вaобaе aожa сaмоa, aенaтьaя aишa 2aпаaамaтрa'"
      ]
     },
     "execution_count": 14,
     "metadata": {},
     "output_type": "execute_result"
    }
   ],
   "source": [
    "s = \"Это вообще тоже самое, меняться лишь 2 параметра\"\n",
    "res = \"\"\n",
    "z = -1\n",
    "\n",
    "for i, symb in enumerate(s):\n",
    "    \n",
    "    res += symb if (i+1)%3!=0 else \"a\"\n",
    "    \n",
    "res"
   ]
  },
  {
   "cell_type": "markdown",
   "id": "26b41c0b-5d54-44d5-9482-bd20d34d46fc",
   "metadata": {},
   "source": [
    "<img src=\"9.94.png\">"
   ]
  },
  {
   "cell_type": "code",
   "execution_count": 15,
   "id": "3a34615d-e22b-4372-9ad7-c39d9ec58e98",
   "metadata": {},
   "outputs": [
    {
     "data": {
      "text/plain": [
       "\"ну вот оно 'yx', меняй! и тут yx тоже\""
      ]
     },
     "execution_count": 15,
     "metadata": {},
     "output_type": "execute_result"
    }
   ],
   "source": [
    "\"ну вот оно 'ax', меняй! и тут ax тоже\".replace(\"ax\", \"yx\")"
   ]
  },
  {
   "cell_type": "markdown",
   "id": "420c1288-36b2-4620-8973-75e103e55707",
   "metadata": {},
   "source": [
    "<img src=\"9.95.png\">"
   ]
  },
  {
   "cell_type": "code",
   "execution_count": 17,
   "id": "f6545077-359c-42f3-a08b-064c348f05e5",
   "metadata": {},
   "outputs": [
    {
     "data": {
      "text/plain": [
       "'прходя не можно сказать не что не в не'"
      ]
     },
     "execution_count": 17,
     "metadata": {},
     "output_type": "execute_result"
    }
   ],
   "source": [
    "\"прходя да можно сказать да что да в да\".replace(\"да\", \"не\")"
   ]
  },
  {
   "cell_type": "markdown",
   "id": "cdfc353d-0f3e-4ed5-ad74-25a0594e598d",
   "metadata": {},
   "source": [
    "<img src=\"9.96.png\">"
   ]
  },
  {
   "cell_type": "code",
   "execution_count": 18,
   "id": "dd4b6a66-4bd7-4233-9134-9d89cadd698a",
   "metadata": {},
   "outputs": [
    {
     "data": {
      "text/plain": [
       "'нетвессионально неткрастенирую нет перенетверку'"
      ]
     },
     "execution_count": 18,
     "metadata": {},
     "output_type": "execute_result"
    }
   ],
   "source": [
    "\"провессионально прокрастенирую про перепроверку\".replace(\"про\", \"нет\")"
   ]
  },
  {
   "cell_type": "markdown",
   "id": "42c66b5f-5bc3-4dcb-b7ec-650bfa466e9b",
   "metadata": {},
   "source": [
    "<img src=\"9.97.png\">"
   ]
  },
  {
   "cell_type": "code",
   "execution_count": 20,
   "id": "f977681a-7f66-417d-a4f6-7e33e91e25b2",
   "metadata": {},
   "outputs": [
    {
     "data": {
      "text/plain": [
       "'рогкойн'"
      ]
     },
     "execution_count": 20,
     "metadata": {},
     "output_type": "execute_result"
    }
   ],
   "source": [
    "\"биткойн\".replace(\"бит\", \"рог\")"
   ]
  },
  {
   "cell_type": "markdown",
   "id": "0ac9a11d-f48d-4d28-8860-0dbd1ed2e06d",
   "metadata": {},
   "source": [
    "<img src=\"9.98.png\">"
   ]
  },
  {
   "cell_type": "code",
   "execution_count": 21,
   "id": "e5437418-a272-4c52-8840-ef05b34344f8",
   "metadata": {},
   "outputs": [
    {
     "name": "stdout",
     "output_type": "stream",
     "text": [
      "с этим предложением вам предсроит поработать\n"
     ]
    },
    {
     "name": "stdin",
     "output_type": "stream",
     "text": [
      "заменаямая подстрока вам\n",
      "заменяющая подстрока мне\n"
     ]
    },
    {
     "data": {
      "text/plain": [
       "'с этим предложением мне предсроит поработать'"
      ]
     },
     "execution_count": 21,
     "metadata": {},
     "output_type": "execute_result"
    }
   ],
   "source": [
    "s = \"с этим предложением вам предсроит поработать\"\n",
    "print(s)\n",
    "s1 = input(\"заменаямая подстрока\")\n",
    "s2 = input(\"заменяющая подстрока\")\n",
    "\n",
    "s.replace(s1, s2)"
   ]
  },
  {
   "cell_type": "markdown",
   "id": "58c10ae9-5574-4931-b691-9e7d741e235d",
   "metadata": {},
   "source": [
    "<img src=\"9.99.png\">"
   ]
  },
  {
   "cell_type": "code",
   "execution_count": 30,
   "id": "42ffc62c-14ce-45bf-ae9c-6276ed417929",
   "metadata": {},
   "outputs": [
    {
     "data": {
      "text/plain": [
       "'опечaтка'"
      ]
     },
     "execution_count": 30,
     "metadata": {},
     "output_type": "execute_result"
    }
   ],
   "source": [
    "s = \"очепaтка\"\n",
    "s[0] + s[3] + s[2] + s[1] + s[4:]"
   ]
  },
  {
   "cell_type": "markdown",
   "id": "4ff014f0-05f8-47ff-93f2-58b6798e48a0",
   "metadata": {},
   "source": [
    "<img src=\"9.100.png\">"
   ]
  },
  {
   "cell_type": "code",
   "execution_count": 33,
   "id": "1e74ac7e-77e9-4ccf-ac2e-32a54d79bd04",
   "metadata": {},
   "outputs": [
    {
     "data": {
      "text/plain": [
       "'оловс'"
      ]
     },
     "execution_count": 33,
     "metadata": {},
     "output_type": "execute_result"
    }
   ],
   "source": [
    "s = \"слово\"\n",
    "s[4] + s[1:4] + s[0] + s[5:]"
   ]
  },
  {
   "cell_type": "markdown",
   "id": "46fa11e5-6e28-408c-9511-1e1a55f011ae",
   "metadata": {},
   "source": [
    "<img src=\"9.101.png\">"
   ]
  },
  {
   "cell_type": "code",
   "execution_count": 38,
   "id": "e144d397-0b3d-45d8-ab35-7f39724eac3b",
   "metadata": {},
   "outputs": [
    {
     "data": {
      "text/plain": [
       "'слaво'"
      ]
     },
     "execution_count": 38,
     "metadata": {},
     "output_type": "execute_result"
    }
   ],
   "source": [
    "s = \"словa\"\n",
    "s[0:2] + s[-1] + s[3:-1]  +s[2]"
   ]
  },
  {
   "cell_type": "markdown",
   "id": "144b1167-9dd4-4e64-ae7a-1b493c042787",
   "metadata": {},
   "source": [
    "<img src=\"9.108.png\">"
   ]
  },
  {
   "cell_type": "code",
   "execution_count": 41,
   "id": "4b5105fe-9fc9-448f-b940-15fc7ca8cc9b",
   "metadata": {},
   "outputs": [
    {
     "name": "stdout",
     "output_type": "stream",
     "text": [
      "a) глиняный\n",
      "б) графика\n"
     ]
    }
   ],
   "source": [
    "print(\"a) \" + \"глинянный\".replace(\"нн\", \"н\"))\n",
    "print(\"б) \" + \"граффика\".replace(\"фф\", \"ф\"))"
   ]
  },
  {
   "cell_type": "markdown",
   "id": "d8a21897-ef64-4590-acf2-41b2b0a57142",
   "metadata": {},
   "source": [
    "<img src=\"9.124.png\">"
   ]
  },
  {
   "cell_type": "code",
   "execution_count": 65,
   "id": "77657f74-8fc5-43aa-8ed4-7c689f66fc0a",
   "metadata": {},
   "outputs": [
    {
     "name": "stdout",
     "output_type": "stream",
     "text": [
      "a) процессор\n",
      "б) тeкстовый файл\n",
      "в) програма и алгоритм\n",
      "г) процессор и память\n"
     ]
    }
   ],
   "source": [
    "a = \"прроцесор\"\n",
    "b = \"тeекстовыйфайл\"\n",
    "c = \"програма и аллгоритм\"\n",
    "d = \"процесор и паммять\"\n",
    "\n",
    "print(\"a) \" + a[0] + a[2:7] + a[6:])\n",
    "print(\"б) \" + b[:2] + b[3:10] + \" \" + b[10:])\n",
    "print(\"в) \" + c[:7] + c[7:13] + c[14:])\n",
    "print(\"г) \" + d[:6] + d[5:14] + d[15:])"
   ]
  },
  {
   "cell_type": "markdown",
   "id": "62e2618e-f19d-4645-9018-d759275e28dd",
   "metadata": {},
   "source": [
    "<img src=\"9.145.png\">"
   ]
  },
  {
   "cell_type": "code",
   "execution_count": 69,
   "id": "a45aa91a-5743-43db-acd0-2fa4cf54a2b6",
   "metadata": {},
   "outputs": [
    {
     "data": {
      "text/plain": [
       "986.0"
      ]
     },
     "execution_count": 69,
     "metadata": {},
     "output_type": "execute_result"
    }
   ],
   "source": [
    "sum_as_line = \"33+432+434+44+43\"\n",
    "sum([float(s) for s in (sum_as_line.split(\"+\"))])"
   ]
  },
  {
   "cell_type": "markdown",
   "id": "897f845b-fe7a-420b-ae61-2583c9a95d78",
   "metadata": {},
   "source": [
    "<img src=\"9.146.png\">"
   ]
  },
  {
   "cell_type": "code",
   "execution_count": 86,
   "id": "4d870a09-9546-4080-8156-076069d538f9",
   "metadata": {},
   "outputs": [
    {
     "data": {
      "text/plain": [
       "-10.0"
      ]
     },
     "execution_count": 86,
     "metadata": {},
     "output_type": "execute_result"
    }
   ],
   "source": [
    "sum_as_line = \"33-32+44-55\"\n",
    "\n",
    "sum([\n",
    "    float(s)*(2*((i+1)%2)-1) for i, s in \n",
    "    enumerate(\n",
    "        sum_as_line.\\\n",
    "        replace(\"-\", \" \").\\\n",
    "        replace(\"+\", \" \").\\\n",
    "        split(\" \")\n",
    "    )\n",
    "])"
   ]
  },
  {
   "cell_type": "markdown",
   "id": "5c03920c-31ab-41ac-bbe9-0821bdcd931d",
   "metadata": {},
   "source": [
    "<img src=\"9.184.png\">"
   ]
  },
  {
   "cell_type": "code",
   "execution_count": 1,
   "id": "06434d64-7aeb-4c32-ab41-34e584e41608",
   "metadata": {},
   "outputs": [
    {
     "data": {
      "text/plain": [
       "{'(': [], ')': []}"
      ]
     },
     "execution_count": 1,
     "metadata": {},
     "output_type": "execute_result"
    }
   ],
   "source": [
    "import numpy as np\n",
    "\n",
    "brekits_line = \"(45+43)+(45-5\"\n",
    "# для удобства доступа я привязал\n",
    "# числа которые удобно чередовать\n",
    "# в цикле к каждой из скобок\n",
    "symbols = {1:\"(\", -1:\")\"}\n",
    "# тут буду записывать опзиции ошбок\n",
    "vals = {\"(\":[], \")\":[]}\n",
    "non_closed_counter = 0\n",
    "z = 1\n",
    "\n",
    "for i, symb in enumerate(brekits_line):\n",
    "    symbols.values()\n",
    "    # является ли найденный символ какой-либо скобкой\n",
    "    if not symb in symbols.values():\n",
    "        continue\n",
    "    \n",
    "    if symb != symbols[z]:\n",
    "        vals[symb].append(i)\n",
    "    else:\n",
    "        z *= -1\n",
    "    \n",
    "if len(vals[\"(\"]) != 0:\n",
    "    print(\"найдено %i лишних открывающих скобок\"%len(vals[\"(\"]))\n",
    "    \n",
    "vals"
   ]
  }
 ],
 "metadata": {
  "kernelspec": {
   "display_name": "Python 3 (ipykernel)",
   "language": "python",
   "name": "python3"
  },
  "language_info": {
   "codemirror_mode": {
    "name": "ipython",
    "version": 3
   },
   "file_extension": ".py",
   "mimetype": "text/x-python",
   "name": "python",
   "nbconvert_exporter": "python",
   "pygments_lexer": "ipython3",
   "version": "3.10.7"
  }
 },
 "nbformat": 4,
 "nbformat_minor": 5
}

{
 "cells": [
  {
   "cell_type": "markdown",
   "id": "782a8a01-825d-451e-b0cd-14acdc4e8ee0",
   "metadata": {},
   "source": [
    "**Лабораторки по `pandas` для `numpy`**"
   ]
  },
  {
   "cell_type": "code",
   "execution_count": 1,
   "id": "6efa6076-f5e4-4c99-88db-a705545c60be",
   "metadata": {},
   "outputs": [],
   "source": [
    "import pandas as pd\n",
    "import numpy as np"
   ]
  },
  {
   "cell_type": "markdown",
   "id": "47067618-91d7-4144-9b8e-1162b421d150",
   "metadata": {
    "jp-MarkdownHeadingCollapsed": true,
    "tags": []
   },
   "source": [
    "# Лаб 27"
   ]
  },
  {
   "cell_type": "markdown",
   "id": "0135215f-adfd-4522-a5ae-1335142a4501",
   "metadata": {},
   "source": [
    "Имена для ряда и его индекса."
   ]
  },
  {
   "cell_type": "code",
   "execution_count": 2,
   "id": "6447749f-0dd2-42e7-a91e-1a8a182fe374",
   "metadata": {},
   "outputs": [
    {
     "data": {
      "text/plain": [
       "индекс\n",
       "0    0.762903\n",
       "1    0.593953\n",
       "2    0.686161\n",
       "3    0.389572\n",
       "4    0.932124\n",
       "5    0.046712\n",
       "6    0.104658\n",
       "7    0.204957\n",
       "8    0.035882\n",
       "9    0.278918\n",
       "Name: случайные числа, dtype: float64"
      ]
     },
     "execution_count": 2,
     "metadata": {},
     "output_type": "execute_result"
    }
   ],
   "source": [
    "test_ser = pd.Series(np.random.rand(10))\n",
    "\n",
    "test_ser.name = \"случайные числа\"\n",
    "test_ser.index.name = \"индекс\"\n",
    "test_ser"
   ]
  },
  {
   "cell_type": "markdown",
   "id": "2b035f28-7b58-4aca-8a46-62d8466ca63c",
   "metadata": {},
   "source": [
    "Оказалось при обращении по индексам произвольного типа можно делать срезы."
   ]
  },
  {
   "cell_type": "code",
   "execution_count": 3,
   "id": "d94261a2-b974-45ce-bcfd-20a56aa648b1",
   "metadata": {},
   "outputs": [
    {
     "data": {
      "text/html": [
       "<div>\n",
       "<style scoped>\n",
       "    .dataframe tbody tr th:only-of-type {\n",
       "        vertical-align: middle;\n",
       "    }\n",
       "\n",
       "    .dataframe tbody tr th {\n",
       "        vertical-align: top;\n",
       "    }\n",
       "\n",
       "    .dataframe thead th {\n",
       "        text-align: right;\n",
       "    }\n",
       "</style>\n",
       "<table border=\"1\" class=\"dataframe\">\n",
       "  <thead>\n",
       "    <tr style=\"text-align: right;\">\n",
       "      <th></th>\n",
       "      <th>name</th>\n",
       "      <th>population</th>\n",
       "      <th>square</th>\n",
       "    </tr>\n",
       "  </thead>\n",
       "  <tbody>\n",
       "    <tr>\n",
       "      <th>BY</th>\n",
       "      <td>Belarus</td>\n",
       "      <td>9.5</td>\n",
       "      <td>2724902</td>\n",
       "    </tr>\n",
       "    <tr>\n",
       "      <th>RU</th>\n",
       "      <td>Russia</td>\n",
       "      <td>143.5</td>\n",
       "      <td>17125191</td>\n",
       "    </tr>\n",
       "    <tr>\n",
       "      <th>UK</th>\n",
       "      <td>Ukraine</td>\n",
       "      <td>45.5</td>\n",
       "      <td>207600</td>\n",
       "    </tr>\n",
       "  </tbody>\n",
       "</table>\n",
       "</div>"
      ],
      "text/plain": [
       "       name  population    square\n",
       "BY  Belarus         9.5   2724902\n",
       "RU   Russia       143.5  17125191\n",
       "UK  Ukraine        45.5    207600"
      ]
     },
     "execution_count": 3,
     "metadata": {},
     "output_type": "execute_result"
    }
   ],
   "source": [
    "countries = pd.DataFrame(\n",
    "    {\n",
    "        \"name\" : [\"Belarus\", \"Russia\", \"Ukraine\", \"Kazahstan\"],\n",
    "        \"population\" : [9.5, 143.5, 45.5, 17.04],\n",
    "        \"square\" : [2724902, 17125191, 207600, 603628]\n",
    "    },\n",
    "    index = [\"BY\", \"RU\", \"UK\", \"KZ\"]\n",
    ")\n",
    "\n",
    "countries[\"BY\":\"UK\"]"
   ]
  },
  {
   "cell_type": "markdown",
   "id": "8ea9d092-a4eb-4a94-bff9-927ae99ec50b",
   "metadata": {},
   "source": [
    "**Задание**\n",
    "\n",
    "Поместите данные в объект Series (используйте ассоциированные метки)\n",
    "произведите поиск информации с помощью меток."
   ]
  },
  {
   "cell_type": "markdown",
   "id": "a0cf6ee8-b256-4932-9d0b-c9484d1ba296",
   "metadata": {},
   "source": [
    "Оаказалось, что ассоциированные метки - это тоже самое, что и индекс."
   ]
  },
  {
   "cell_type": "code",
   "execution_count": 4,
   "id": "27526327-50d2-409f-b850-c271c9eb9024",
   "metadata": {},
   "outputs": [],
   "source": [
    "# создание \n",
    "ser = pd.Series(np.random.rand(200))\n",
    "# поиск\n",
    "ser[4:7]"
   ]
  },
  {
   "cell_type": "code",
   "execution_count": 15,
   "id": "6d3fc79d-de1f-4d66-9927-525d8be0a401",
   "metadata": {},
   "outputs": [
    {
     "data": {
      "text/plain": [
       "0      0.402486\n",
       "1      0.915866\n",
       "2      0.816103\n",
       "3      0.626983\n",
       "4      0.857197\n",
       "         ...   \n",
       "195    0.806267\n",
       "196    0.078064\n",
       "197    0.125178\n",
       "198    0.639826\n",
       "199    0.593893\n",
       "Length: 200, dtype: float64"
      ]
     },
     "execution_count": 15,
     "metadata": {},
     "output_type": "execute_result"
    }
   ],
   "source": [
    "df = pd.DataFrame({\n",
    "    \"col1\" : [1,2,3,4,5],\n",
    "    \"col2\" : np.random.rand(5)\n",
    "})\n",
    "\n",
    "df[\"new_col\"] = ser[:5]"
   ]
  },
  {
   "cell_type": "markdown",
   "id": "49aeff48-1e53-497e-8389-6afab8f67074",
   "metadata": {
    "tags": []
   },
   "source": [
    "# Как прочитать Excel"
   ]
  },
  {
   "cell_type": "code",
   "execution_count": 40,
   "id": "e705c0f8-ea5a-442f-81e1-910b769d11ac",
   "metadata": {},
   "outputs": [],
   "source": [
    "df = pd.read_excel(\"countries.xlsx\")"
   ]
  },
  {
   "cell_type": "code",
   "execution_count": 42,
   "id": "32c421d5-b918-495a-a207-b042dd1f3713",
   "metadata": {},
   "outputs": [],
   "source": [
    "df =pd.read_excel(\"countries.xlsx\", index_col = 0)"
   ]
  },
  {
   "cell_type": "code",
   "execution_count": 38,
   "id": "ea54b841-c91c-4ac3-bf21-b7cc4bc78aa0",
   "metadata": {},
   "outputs": [
    {
     "data": {
      "text/html": [
       "<div>\n",
       "<style scoped>\n",
       "    .dataframe tbody tr th:only-of-type {\n",
       "        vertical-align: middle;\n",
       "    }\n",
       "\n",
       "    .dataframe tbody tr th {\n",
       "        vertical-align: top;\n",
       "    }\n",
       "\n",
       "    .dataframe thead tr th {\n",
       "        text-align: left;\n",
       "    }\n",
       "</style>\n",
       "<table border=\"1\" class=\"dataframe\">\n",
       "  <thead>\n",
       "    <tr>\n",
       "      <th></th>\n",
       "      <th colspan=\"2\" halign=\"left\">колонки</th>\n",
       "      <th>колонка</th>\n",
       "    </tr>\n",
       "    <tr>\n",
       "      <th>code</th>\n",
       "      <th>col1</th>\n",
       "      <th>col2</th>\n",
       "      <th>value3</th>\n",
       "    </tr>\n",
       "  </thead>\n",
       "  <tbody>\n",
       "    <tr>\n",
       "      <th>BLR</th>\n",
       "      <td>4</td>\n",
       "      <td>5</td>\n",
       "      <td>test</td>\n",
       "    </tr>\n",
       "    <tr>\n",
       "      <th>KAZ</th>\n",
       "      <td>2</td>\n",
       "      <td>4</td>\n",
       "      <td>test2</td>\n",
       "    </tr>\n",
       "    <tr>\n",
       "      <th>RUS</th>\n",
       "      <td>4</td>\n",
       "      <td>4</td>\n",
       "      <td>test3</td>\n",
       "    </tr>\n",
       "    <tr>\n",
       "      <th>UKR</th>\n",
       "      <td>3</td>\n",
       "      <td>4</td>\n",
       "      <td>hello</td>\n",
       "    </tr>\n",
       "  </tbody>\n",
       "</table>\n",
       "</div>"
      ],
      "text/plain": [
       "     колонки      колонка\n",
       "code    col1 col2  value3\n",
       "BLR        4    5    test\n",
       "KAZ        2    4   test2\n",
       "RUS        4    4   test3\n",
       "UKR        3    4   hello"
      ]
     },
     "execution_count": 38,
     "metadata": {},
     "output_type": "execute_result"
    }
   ],
   "source": [
    "df = pd.read_excel(\"countries2.xlsx\", index_col = 0, header = [4,5])\n",
    "df"
   ]
  },
  {
   "cell_type": "code",
   "execution_count": 43,
   "id": "3ebc0e39-61d2-42e4-9f9a-a75a6547e71d",
   "metadata": {},
   "outputs": [],
   "source": [
    "df.to_excel(\"test.xlsx\")"
   ]
  },
  {
   "cell_type": "markdown",
   "id": "bb7e99f1-31fa-410d-9050-ba4f1baf04c5",
   "metadata": {},
   "source": [
    "# Лаб 28"
   ]
  },
  {
   "cell_type": "markdown",
   "id": "a05868c1-9e22-4957-b9fd-aeeb0ffa513c",
   "metadata": {},
   "source": [
    "## `groupby`\n",
    "\n",
    "Мой интерес привелек пример с применением `groupby` по двум столбцам"
   ]
  },
  {
   "cell_type": "code",
   "execution_count": 11,
   "id": "e13b8fc2-16b5-4765-912b-60551f6c06cd",
   "metadata": {},
   "outputs": [
    {
     "data": {
      "text/plain": [
       "Index(['PassengerID', 'Name', 'PClass', 'Age', 'Sex', 'Survived', 'SexCode'], dtype='object')"
      ]
     },
     "execution_count": 11,
     "metadata": {},
     "output_type": "execute_result"
    }
   ],
   "source": [
    "titanic_df = pd.read_csv(\"titanic.csv\")\n",
    "titanic_df.columns"
   ]
  },
  {
   "cell_type": "code",
   "execution_count": 13,
   "id": "b930e070-f749-48aa-8edc-e1f7b52c2821",
   "metadata": {},
   "outputs": [
    {
     "data": {
      "text/plain": [
       "Sex     Survived\n",
       "female  0           154\n",
       "        1           308\n",
       "male    0           709\n",
       "        1           142\n",
       "Name: PassengerID, dtype: int64"
      ]
     },
     "execution_count": 13,
     "metadata": {},
     "output_type": "execute_result"
    }
   ],
   "source": [
    "titanic_df.groupby(['Sex', 'Survived'])[\"PassengerID\"].count()"
   ]
  },
  {
   "cell_type": "markdown",
   "id": "c3879493-cb0d-4cb0-afa1-40ee0aebdc1f",
   "metadata": {},
   "source": [
    "## `pivot_table`\n",
    "\n",
    "Знал про эту возможность но никогда не пользовался, самое время начать изучать его."
   ]
  },
  {
   "cell_type": "code",
   "execution_count": 14,
   "id": "c4f5ca08-f5c4-4817-8647-75cdc1dde5f9",
   "metadata": {},
   "outputs": [
    {
     "data": {
      "text/html": [
       "<div>\n",
       "<style scoped>\n",
       "    .dataframe tbody tr th:only-of-type {\n",
       "        vertical-align: middle;\n",
       "    }\n",
       "\n",
       "    .dataframe tbody tr th {\n",
       "        vertical-align: top;\n",
       "    }\n",
       "\n",
       "    .dataframe thead th {\n",
       "        text-align: right;\n",
       "    }\n",
       "</style>\n",
       "<table border=\"1\" class=\"dataframe\">\n",
       "  <thead>\n",
       "    <tr style=\"text-align: right;\">\n",
       "      <th>PClass</th>\n",
       "      <th>*</th>\n",
       "      <th>1st</th>\n",
       "      <th>2nd</th>\n",
       "      <th>3rd</th>\n",
       "    </tr>\n",
       "    <tr>\n",
       "      <th>Sex</th>\n",
       "      <th></th>\n",
       "      <th></th>\n",
       "      <th></th>\n",
       "      <th></th>\n",
       "    </tr>\n",
       "  </thead>\n",
       "  <tbody>\n",
       "    <tr>\n",
       "      <th>female</th>\n",
       "      <td>NaN</td>\n",
       "      <td>143.0</td>\n",
       "      <td>107.0</td>\n",
       "      <td>212.0</td>\n",
       "    </tr>\n",
       "    <tr>\n",
       "      <th>male</th>\n",
       "      <td>1.0</td>\n",
       "      <td>179.0</td>\n",
       "      <td>172.0</td>\n",
       "      <td>499.0</td>\n",
       "    </tr>\n",
       "  </tbody>\n",
       "</table>\n",
       "</div>"
      ],
      "text/plain": [
       "PClass    *    1st    2nd    3rd\n",
       "Sex                             \n",
       "female  NaN  143.0  107.0  212.0\n",
       "male    1.0  179.0  172.0  499.0"
      ]
     },
     "execution_count": 14,
     "metadata": {},
     "output_type": "execute_result"
    }
   ],
   "source": [
    "titanic_df.pivot_table(\n",
    "    index = ['Sex'], columns = ['PClass'],\n",
    "    values = 'Name', aggfunc = 'count'\n",
    ")"
   ]
  },
  {
   "cell_type": "markdown",
   "id": "93d384c2-79fc-47b0-b20f-08697521d0c0",
   "metadata": {},
   "source": [
    "Пока совсем не понятно, для чего это надо ведь функция `crosstab` позволяет добиться того-же результата."
   ]
  },
  {
   "cell_type": "code",
   "execution_count": 16,
   "id": "3988d796-7811-4bb5-896e-992cc2e80dd0",
   "metadata": {},
   "outputs": [
    {
     "data": {
      "text/html": [
       "<div>\n",
       "<style scoped>\n",
       "    .dataframe tbody tr th:only-of-type {\n",
       "        vertical-align: middle;\n",
       "    }\n",
       "\n",
       "    .dataframe tbody tr th {\n",
       "        vertical-align: top;\n",
       "    }\n",
       "\n",
       "    .dataframe thead th {\n",
       "        text-align: right;\n",
       "    }\n",
       "</style>\n",
       "<table border=\"1\" class=\"dataframe\">\n",
       "  <thead>\n",
       "    <tr style=\"text-align: right;\">\n",
       "      <th>PClass</th>\n",
       "      <th>*</th>\n",
       "      <th>1st</th>\n",
       "      <th>2nd</th>\n",
       "      <th>3rd</th>\n",
       "    </tr>\n",
       "    <tr>\n",
       "      <th>Sex</th>\n",
       "      <th></th>\n",
       "      <th></th>\n",
       "      <th></th>\n",
       "      <th></th>\n",
       "    </tr>\n",
       "  </thead>\n",
       "  <tbody>\n",
       "    <tr>\n",
       "      <th>female</th>\n",
       "      <td>0</td>\n",
       "      <td>143</td>\n",
       "      <td>107</td>\n",
       "      <td>212</td>\n",
       "    </tr>\n",
       "    <tr>\n",
       "      <th>male</th>\n",
       "      <td>1</td>\n",
       "      <td>179</td>\n",
       "      <td>172</td>\n",
       "      <td>499</td>\n",
       "    </tr>\n",
       "  </tbody>\n",
       "</table>\n",
       "</div>"
      ],
      "text/plain": [
       "PClass  *  1st  2nd  3rd\n",
       "Sex                     \n",
       "female  0  143  107  212\n",
       "male    1  179  172  499"
      ]
     },
     "execution_count": 16,
     "metadata": {},
     "output_type": "execute_result"
    }
   ],
   "source": [
    "pd.crosstab(\n",
    "    titanic_df[\"Sex\"],\n",
    "    titanic_df[\"PClass\"]\n",
    ")"
   ]
  },
  {
   "cell_type": "markdown",
   "id": "7e74d408-445c-4169-874f-b090d321d32b",
   "metadata": {},
   "source": [
    "## Анализ временных рядов"
   ]
  },
  {
   "cell_type": "code",
   "execution_count": 23,
   "id": "b581ef9a-12ed-4a80-84f5-f72009c9775e",
   "metadata": {},
   "outputs": [],
   "source": [
    "apple_df = pd.read_csv(\n",
    "    \"apple.csv\", index_col = 'Date', parse_dates = True\n",
    ").sort_index()"
   ]
  },
  {
   "cell_type": "markdown",
   "id": "185ad0e6-dc12-4d88-a62c-a15675e4f51d",
   "metadata": {},
   "source": [
    "Вот так можно вывести инфу о `pandas.DataFrame`"
   ]
  },
  {
   "cell_type": "code",
   "execution_count": 25,
   "id": "9f87f803-9cf7-4ce1-b503-edbb35c9c075",
   "metadata": {},
   "outputs": [
    {
     "name": "stdout",
     "output_type": "stream",
     "text": [
      "<class 'pandas.core.frame.DataFrame'>\n",
      "DatetimeIndex: 1258 entries, 2012-02-23 to 2017-02-22\n",
      "Data columns (total 6 columns):\n",
      " #   Column     Non-Null Count  Dtype  \n",
      "---  ------     --------------  -----  \n",
      " 0   Open       1258 non-null   float64\n",
      " 1   High       1258 non-null   float64\n",
      " 2   Low        1258 non-null   float64\n",
      " 3   Close      1258 non-null   float64\n",
      " 4   Volume     1258 non-null   int64  \n",
      " 5   Adj Close  1258 non-null   float64\n",
      "dtypes: float64(5), int64(1)\n",
      "memory usage: 68.8 KB\n"
     ]
    }
   ],
   "source": [
    "apple_df.info()"
   ]
  },
  {
   "cell_type": "markdown",
   "id": "3f5d0190-e523-4886-b1c9-c017704f7dc3",
   "metadata": {},
   "source": [
    "`pandas.DataFrame.resample` - функция о которой я чрезвычайно мало знаю. Тут получение средней цены акции в каждую неделю."
   ]
  },
  {
   "cell_type": "code",
   "execution_count": 26,
   "id": "f6353f05-28c8-4be8-89c3-bb5e0f32f9da",
   "metadata": {},
   "outputs": [
    {
     "data": {
      "text/plain": [
       "Date\n",
       "2012-02-26    519.399979\n",
       "2012-03-04    538.652008\n",
       "2012-03-11    536.254004\n",
       "2012-03-18    576.161993\n",
       "2012-03-25    600.990001\n",
       "                 ...    \n",
       "2017-01-29    121.164000\n",
       "2017-02-05    125.867999\n",
       "2017-02-12    131.679996\n",
       "2017-02-19    134.978000\n",
       "2017-02-26    136.904999\n",
       "Freq: W-SUN, Name: Close, Length: 262, dtype: float64"
      ]
     },
     "execution_count": 26,
     "metadata": {},
     "output_type": "execute_result"
    }
   ],
   "source": [
    "apple_df.resample('W')['Close'].mean()"
   ]
  },
  {
   "cell_type": "markdown",
   "id": "457111f4-8f20-4cdc-b0cc-7935a5306bf1",
   "metadata": {},
   "source": [
    "Для скорости в `pandas` уже вшит базовый `matplotlib`"
   ]
  },
  {
   "cell_type": "code",
   "execution_count": 27,
   "id": "35c29acd-ee6f-4c74-aff0-56dd00a7fa85",
   "metadata": {},
   "outputs": [
    {
     "data": {
      "text/plain": [
       "<AxesSubplot:xlabel='Date'>"
      ]
     },
     "execution_count": 27,
     "metadata": {},
     "output_type": "execute_result"
    },
    {
     "data": {
      "image/png": "[encoded data removed]",
      "text/plain": [
       "<Figure size 432x288 with 1 Axes>"
      ]
     },
     "metadata": {
      "needs_background": "light"
     },
     "output_type": "display_data"
    }
   ],
   "source": [
    "apple_df.resample('W')['Close'].mean().plot()"
   ]
  },
  {
   "cell_type": "markdown",
   "id": "64978163-3d4f-4437-ab83-a4c56c1e1cf4",
   "metadata": {},
   "source": [
    "Интерестно, то, что можно делать такие необычние срезы для индекса даты. **НО ПЕРЕД ТАКОЙ ОПЕРАЦИЕЙ ОБЯЗАТЕЛЬНО ПРИДЕТСЯ ПРИМЕНИЕТЬ `sort_index`**"
   ]
  },
  {
   "cell_type": "code",
   "execution_count": 55,
   "id": "046e7a60-92fd-4502-8dde-d370508e2db9",
   "metadata": {},
   "outputs": [
    {
     "data": {
      "text/html": [
       "<div>\n",
       "<style scoped>\n",
       "    .dataframe tbody tr th:only-of-type {\n",
       "        vertical-align: middle;\n",
       "    }\n",
       "\n",
       "    .dataframe tbody tr th {\n",
       "        vertical-align: top;\n",
       "    }\n",
       "\n",
       "    .dataframe thead th {\n",
       "        text-align: right;\n",
       "    }\n",
       "</style>\n",
       "<table border=\"1\" class=\"dataframe\">\n",
       "  <thead>\n",
       "    <tr style=\"text-align: right;\">\n",
       "      <th></th>\n",
       "      <th>Close</th>\n",
       "    </tr>\n",
       "    <tr>\n",
       "      <th>Date</th>\n",
       "      <th></th>\n",
       "    </tr>\n",
       "  </thead>\n",
       "  <tbody>\n",
       "    <tr>\n",
       "      <th>2012-02-23</th>\n",
       "      <td>516.389977</td>\n",
       "    </tr>\n",
       "    <tr>\n",
       "      <th>2012-02-24</th>\n",
       "      <td>522.409981</td>\n",
       "    </tr>\n",
       "    <tr>\n",
       "      <th>2012-02-27</th>\n",
       "      <td>525.760017</td>\n",
       "    </tr>\n",
       "    <tr>\n",
       "      <th>2012-02-28</th>\n",
       "      <td>535.410011</td>\n",
       "    </tr>\n",
       "    <tr>\n",
       "      <th>2012-02-29</th>\n",
       "      <td>542.440025</td>\n",
       "    </tr>\n",
       "    <tr>\n",
       "      <th>...</th>\n",
       "      <td>...</td>\n",
       "    </tr>\n",
       "    <tr>\n",
       "      <th>2017-02-15</th>\n",
       "      <td>135.509995</td>\n",
       "    </tr>\n",
       "    <tr>\n",
       "      <th>2017-02-16</th>\n",
       "      <td>135.350006</td>\n",
       "    </tr>\n",
       "    <tr>\n",
       "      <th>2017-02-17</th>\n",
       "      <td>135.720001</td>\n",
       "    </tr>\n",
       "    <tr>\n",
       "      <th>2017-02-21</th>\n",
       "      <td>136.699997</td>\n",
       "    </tr>\n",
       "    <tr>\n",
       "      <th>2017-02-22</th>\n",
       "      <td>137.110001</td>\n",
       "    </tr>\n",
       "  </tbody>\n",
       "</table>\n",
       "<p>1258 rows × 1 columns</p>\n",
       "</div>"
      ],
      "text/plain": [
       "                 Close\n",
       "Date                  \n",
       "2012-02-23  516.389977\n",
       "2012-02-24  522.409981\n",
       "2012-02-27  525.760017\n",
       "2012-02-28  535.410011\n",
       "2012-02-29  542.440025\n",
       "...                ...\n",
       "2017-02-15  135.509995\n",
       "2017-02-16  135.350006\n",
       "2017-02-17  135.720001\n",
       "2017-02-21  136.699997\n",
       "2017-02-22  137.110001\n",
       "\n",
       "[1258 rows x 1 columns]"
      ]
     },
     "execution_count": 55,
     "metadata": {},
     "output_type": "execute_result"
    }
   ],
   "source": [
    "apple_df.loc['2012-Feb':'2017-Feb', ['Close']]"
   ]
  },
  {
   "cell_type": "markdown",
   "id": "9934bc6f-72e8-4316-86dd-232b583d1ce1",
   "metadata": {},
   "source": [
    "И так тоже сработает"
   ]
  },
  {
   "cell_type": "code",
   "execution_count": 56,
   "id": "2c6d3307-a50e-4e73-9955-b796e13066cb",
   "metadata": {},
   "outputs": [
    {
     "data": {
      "text/html": [
       "<div>\n",
       "<style scoped>\n",
       "    .dataframe tbody tr th:only-of-type {\n",
       "        vertical-align: middle;\n",
       "    }\n",
       "\n",
       "    .dataframe tbody tr th {\n",
       "        vertical-align: top;\n",
       "    }\n",
       "\n",
       "    .dataframe thead th {\n",
       "        text-align: right;\n",
       "    }\n",
       "</style>\n",
       "<table border=\"1\" class=\"dataframe\">\n",
       "  <thead>\n",
       "    <tr style=\"text-align: right;\">\n",
       "      <th></th>\n",
       "      <th>Open</th>\n",
       "      <th>High</th>\n",
       "      <th>Low</th>\n",
       "      <th>Close</th>\n",
       "      <th>Volume</th>\n",
       "      <th>Adj Close</th>\n",
       "    </tr>\n",
       "    <tr>\n",
       "      <th>Date</th>\n",
       "      <th></th>\n",
       "      <th></th>\n",
       "      <th></th>\n",
       "      <th></th>\n",
       "      <th></th>\n",
       "      <th></th>\n",
       "    </tr>\n",
       "  </thead>\n",
       "  <tbody>\n",
       "    <tr>\n",
       "      <th>2012-02-23</th>\n",
       "      <td>515.079987</td>\n",
       "      <td>517.830009</td>\n",
       "      <td>509.499992</td>\n",
       "      <td>516.389977</td>\n",
       "      <td>142006900</td>\n",
       "      <td>66.903253</td>\n",
       "    </tr>\n",
       "    <tr>\n",
       "      <th>2012-02-24</th>\n",
       "      <td>519.669998</td>\n",
       "      <td>522.899979</td>\n",
       "      <td>518.640015</td>\n",
       "      <td>522.409981</td>\n",
       "      <td>103768000</td>\n",
       "      <td>67.683203</td>\n",
       "    </tr>\n",
       "    <tr>\n",
       "      <th>2012-02-27</th>\n",
       "      <td>521.309982</td>\n",
       "      <td>528.500000</td>\n",
       "      <td>516.280014</td>\n",
       "      <td>525.760017</td>\n",
       "      <td>136895500</td>\n",
       "      <td>68.117232</td>\n",
       "    </tr>\n",
       "    <tr>\n",
       "      <th>2012-02-28</th>\n",
       "      <td>527.960014</td>\n",
       "      <td>535.410011</td>\n",
       "      <td>525.850006</td>\n",
       "      <td>535.410011</td>\n",
       "      <td>150096800</td>\n",
       "      <td>69.367481</td>\n",
       "    </tr>\n",
       "    <tr>\n",
       "      <th>2012-02-29</th>\n",
       "      <td>541.560005</td>\n",
       "      <td>547.610023</td>\n",
       "      <td>535.700005</td>\n",
       "      <td>542.440025</td>\n",
       "      <td>238002800</td>\n",
       "      <td>70.278286</td>\n",
       "    </tr>\n",
       "    <tr>\n",
       "      <th>...</th>\n",
       "      <td>...</td>\n",
       "      <td>...</td>\n",
       "      <td>...</td>\n",
       "      <td>...</td>\n",
       "      <td>...</td>\n",
       "      <td>...</td>\n",
       "    </tr>\n",
       "    <tr>\n",
       "      <th>2013-02-22</th>\n",
       "      <td>449.250015</td>\n",
       "      <td>451.599976</td>\n",
       "      <td>446.599995</td>\n",
       "      <td>450.809998</td>\n",
       "      <td>82663700</td>\n",
       "      <td>59.268838</td>\n",
       "    </tr>\n",
       "    <tr>\n",
       "      <th>2013-02-25</th>\n",
       "      <td>453.850014</td>\n",
       "      <td>455.120003</td>\n",
       "      <td>442.569996</td>\n",
       "      <td>442.799988</td>\n",
       "      <td>93144800</td>\n",
       "      <td>58.215747</td>\n",
       "    </tr>\n",
       "    <tr>\n",
       "      <th>2013-02-26</th>\n",
       "      <td>443.820011</td>\n",
       "      <td>451.540001</td>\n",
       "      <td>437.660004</td>\n",
       "      <td>448.970009</td>\n",
       "      <td>125374900</td>\n",
       "      <td>59.026932</td>\n",
       "    </tr>\n",
       "    <tr>\n",
       "      <th>2013-02-27</th>\n",
       "      <td>448.430023</td>\n",
       "      <td>452.439995</td>\n",
       "      <td>440.650005</td>\n",
       "      <td>444.569988</td>\n",
       "      <td>146837600</td>\n",
       "      <td>58.448453</td>\n",
       "    </tr>\n",
       "    <tr>\n",
       "      <th>2013-02-28</th>\n",
       "      <td>444.050003</td>\n",
       "      <td>447.870010</td>\n",
       "      <td>441.400009</td>\n",
       "      <td>441.400009</td>\n",
       "      <td>80628800</td>\n",
       "      <td>58.031689</td>\n",
       "    </tr>\n",
       "  </tbody>\n",
       "</table>\n",
       "<p>255 rows × 6 columns</p>\n",
       "</div>"
      ],
      "text/plain": [
       "                  Open        High         Low       Close     Volume  \\\n",
       "Date                                                                    \n",
       "2012-02-23  515.079987  517.830009  509.499992  516.389977  142006900   \n",
       "2012-02-24  519.669998  522.899979  518.640015  522.409981  103768000   \n",
       "2012-02-27  521.309982  528.500000  516.280014  525.760017  136895500   \n",
       "2012-02-28  527.960014  535.410011  525.850006  535.410011  150096800   \n",
       "2012-02-29  541.560005  547.610023  535.700005  542.440025  238002800   \n",
       "...                ...         ...         ...         ...        ...   \n",
       "2013-02-22  449.250015  451.599976  446.599995  450.809998   82663700   \n",
       "2013-02-25  453.850014  455.120003  442.569996  442.799988   93144800   \n",
       "2013-02-26  443.820011  451.540001  437.660004  448.970009  125374900   \n",
       "2013-02-27  448.430023  452.439995  440.650005  444.569988  146837600   \n",
       "2013-02-28  444.050003  447.870010  441.400009  441.400009   80628800   \n",
       "\n",
       "            Adj Close  \n",
       "Date                   \n",
       "2012-02-23  66.903253  \n",
       "2012-02-24  67.683203  \n",
       "2012-02-27  68.117232  \n",
       "2012-02-28  69.367481  \n",
       "2012-02-29  70.278286  \n",
       "...               ...  \n",
       "2013-02-22  59.268838  \n",
       "2013-02-25  58.215747  \n",
       "2013-02-26  59.026932  \n",
       "2013-02-27  58.448453  \n",
       "2013-02-28  58.031689  \n",
       "\n",
       "[255 rows x 6 columns]"
      ]
     },
     "execution_count": 56,
     "metadata": {},
     "output_type": "execute_result"
    }
   ],
   "source": [
    "apple_df.loc[\"2012-02\":\"2013-02\"]"
   ]
  },
  {
   "cell_type": "markdown",
   "id": "4389c384-1f15-4c89-a443-b2a5e3f39b0b",
   "metadata": {},
   "source": [
    "И так тоже стработатет"
   ]
  },
  {
   "cell_type": "code",
   "execution_count": 57,
   "id": "e2f842af-5394-44d7-a323-1390805369c0",
   "metadata": {},
   "outputs": [
    {
     "data": {
      "text/html": [
       "<div>\n",
       "<style scoped>\n",
       "    .dataframe tbody tr th:only-of-type {\n",
       "        vertical-align: middle;\n",
       "    }\n",
       "\n",
       "    .dataframe tbody tr th {\n",
       "        vertical-align: top;\n",
       "    }\n",
       "\n",
       "    .dataframe thead th {\n",
       "        text-align: right;\n",
       "    }\n",
       "</style>\n",
       "<table border=\"1\" class=\"dataframe\">\n",
       "  <thead>\n",
       "    <tr style=\"text-align: right;\">\n",
       "      <th></th>\n",
       "      <th>Open</th>\n",
       "      <th>High</th>\n",
       "      <th>Low</th>\n",
       "      <th>Close</th>\n",
       "      <th>Volume</th>\n",
       "      <th>Adj Close</th>\n",
       "    </tr>\n",
       "    <tr>\n",
       "      <th>Date</th>\n",
       "      <th></th>\n",
       "      <th></th>\n",
       "      <th></th>\n",
       "      <th></th>\n",
       "      <th></th>\n",
       "      <th></th>\n",
       "    </tr>\n",
       "  </thead>\n",
       "  <tbody>\n",
       "    <tr>\n",
       "      <th>2012-02-23</th>\n",
       "      <td>515.079987</td>\n",
       "      <td>517.830009</td>\n",
       "      <td>509.499992</td>\n",
       "      <td>516.389977</td>\n",
       "      <td>142006900</td>\n",
       "      <td>66.903253</td>\n",
       "    </tr>\n",
       "    <tr>\n",
       "      <th>2012-02-24</th>\n",
       "      <td>519.669998</td>\n",
       "      <td>522.899979</td>\n",
       "      <td>518.640015</td>\n",
       "      <td>522.409981</td>\n",
       "      <td>103768000</td>\n",
       "      <td>67.683203</td>\n",
       "    </tr>\n",
       "    <tr>\n",
       "      <th>2012-02-27</th>\n",
       "      <td>521.309982</td>\n",
       "      <td>528.500000</td>\n",
       "      <td>516.280014</td>\n",
       "      <td>525.760017</td>\n",
       "      <td>136895500</td>\n",
       "      <td>68.117232</td>\n",
       "    </tr>\n",
       "    <tr>\n",
       "      <th>2012-02-28</th>\n",
       "      <td>527.960014</td>\n",
       "      <td>535.410011</td>\n",
       "      <td>525.850006</td>\n",
       "      <td>535.410011</td>\n",
       "      <td>150096800</td>\n",
       "      <td>69.367481</td>\n",
       "    </tr>\n",
       "    <tr>\n",
       "      <th>2012-02-29</th>\n",
       "      <td>541.560005</td>\n",
       "      <td>547.610023</td>\n",
       "      <td>535.700005</td>\n",
       "      <td>542.440025</td>\n",
       "      <td>238002800</td>\n",
       "      <td>70.278286</td>\n",
       "    </tr>\n",
       "    <tr>\n",
       "      <th>...</th>\n",
       "      <td>...</td>\n",
       "      <td>...</td>\n",
       "      <td>...</td>\n",
       "      <td>...</td>\n",
       "      <td>...</td>\n",
       "      <td>...</td>\n",
       "    </tr>\n",
       "    <tr>\n",
       "      <th>2013-01-28</th>\n",
       "      <td>437.829994</td>\n",
       "      <td>453.209999</td>\n",
       "      <td>435.859989</td>\n",
       "      <td>449.830002</td>\n",
       "      <td>196379400</td>\n",
       "      <td>58.797324</td>\n",
       "    </tr>\n",
       "    <tr>\n",
       "      <th>2013-01-29</th>\n",
       "      <td>458.500000</td>\n",
       "      <td>460.200012</td>\n",
       "      <td>452.119987</td>\n",
       "      <td>458.269981</td>\n",
       "      <td>142789500</td>\n",
       "      <td>59.900515</td>\n",
       "    </tr>\n",
       "    <tr>\n",
       "      <th>2013-01-30</th>\n",
       "      <td>456.999992</td>\n",
       "      <td>462.600014</td>\n",
       "      <td>454.500015</td>\n",
       "      <td>456.830002</td>\n",
       "      <td>104288800</td>\n",
       "      <td>59.712295</td>\n",
       "    </tr>\n",
       "    <tr>\n",
       "      <th>2013-01-31</th>\n",
       "      <td>456.980019</td>\n",
       "      <td>459.279991</td>\n",
       "      <td>454.980026</td>\n",
       "      <td>455.489998</td>\n",
       "      <td>79833600</td>\n",
       "      <td>59.537143</td>\n",
       "    </tr>\n",
       "    <tr>\n",
       "      <th>2013-02-01</th>\n",
       "      <td>459.110001</td>\n",
       "      <td>459.479996</td>\n",
       "      <td>448.350021</td>\n",
       "      <td>453.619995</td>\n",
       "      <td>134871100</td>\n",
       "      <td>59.292715</td>\n",
       "    </tr>\n",
       "  </tbody>\n",
       "</table>\n",
       "<p>237 rows × 6 columns</p>\n",
       "</div>"
      ],
      "text/plain": [
       "                  Open        High         Low       Close     Volume  \\\n",
       "Date                                                                    \n",
       "2012-02-23  515.079987  517.830009  509.499992  516.389977  142006900   \n",
       "2012-02-24  519.669998  522.899979  518.640015  522.409981  103768000   \n",
       "2012-02-27  521.309982  528.500000  516.280014  525.760017  136895500   \n",
       "2012-02-28  527.960014  535.410011  525.850006  535.410011  150096800   \n",
       "2012-02-29  541.560005  547.610023  535.700005  542.440025  238002800   \n",
       "...                ...         ...         ...         ...        ...   \n",
       "2013-01-28  437.829994  453.209999  435.859989  449.830002  196379400   \n",
       "2013-01-29  458.500000  460.200012  452.119987  458.269981  142789500   \n",
       "2013-01-30  456.999992  462.600014  454.500015  456.830002  104288800   \n",
       "2013-01-31  456.980019  459.279991  454.980026  455.489998   79833600   \n",
       "2013-02-01  459.110001  459.479996  448.350021  453.619995  134871100   \n",
       "\n",
       "            Adj Close  \n",
       "Date                   \n",
       "2012-02-23  66.903253  \n",
       "2012-02-24  67.683203  \n",
       "2012-02-27  68.117232  \n",
       "2012-02-28  69.367481  \n",
       "2012-02-29  70.278286  \n",
       "...               ...  \n",
       "2013-01-28  58.797324  \n",
       "2013-01-29  59.900515  \n",
       "2013-01-30  59.712295  \n",
       "2013-01-31  59.537143  \n",
       "2013-02-01  59.292715  \n",
       "\n",
       "[237 rows x 6 columns]"
      ]
     },
     "execution_count": 57,
     "metadata": {},
     "output_type": "execute_result"
    }
   ],
   "source": [
    "apple_df.loc[\"2012-02-01\":\"2013-02-01\"]"
   ]
  },
  {
   "cell_type": "markdown",
   "id": "72fe0874-e608-4df6-bbfa-71cb1f2ed46e",
   "metadata": {},
   "source": [
    "# Задания этой лабораторной работы\n",
    "\n",
    "Поместите данные в объект Series (используйте ассоциированные метки)\n",
    "произведите поиск информации с помощью меток. <br>\n",
    "Сгруппируйте данные, которые находятся в объекте Series, и поместите\n",
    "их в объект DataFrame. Создайте таблицу. Выполните агрегирование данных."
   ]
  },
  {
   "cell_type": "code",
   "execution_count": 75,
   "id": "51a4309d-5055-43b4-abe5-944fd170a1c3",
   "metadata": {},
   "outputs": [
    {
     "name": "stdout",
     "output_type": "stream",
     "text": [
      "Исходный pandas.Series\n",
      "2018-01-09   -1.776349\n",
      "2018-01-14   -1.272926\n",
      "2018-01-16   -8.871116\n",
      "2018-01-17    4.634692\n",
      "2018-02-01   -7.460563\n",
      "2018-02-03   -0.651934\n",
      "2018-02-10   -1.200251\n",
      "2018-02-24    6.639795\n",
      "2018-02-24    3.180726\n",
      "2018-03-04    9.660417\n",
      "2018-03-15   -8.462890\n",
      "2018-03-19    1.908792\n",
      "2018-03-31   -2.549601\n",
      "2018-05-03    7.447849\n",
      "2018-05-04    2.238867\n",
      "2018-05-06   -8.688735\n",
      "2018-05-21   -9.951865\n",
      "2018-05-22    1.742619\n",
      "2018-06-06   -3.362355\n",
      "2018-06-08    2.759031\n",
      "2018-06-27   -7.374179\n",
      "2018-06-29    6.856359\n",
      "2018-07-20    7.514890\n",
      "2018-08-10    1.192967\n",
      "2018-08-28    5.337601\n",
      "2018-09-01   -2.874993\n",
      "2018-09-14    7.060860\n",
      "2018-09-23   -4.328466\n",
      "2018-10-14   -2.056710\n",
      "2018-11-17    5.309116\n",
      "2018-11-18    0.976327\n",
      "2018-12-09   -6.575228\n",
      "2018-12-11   -3.804439\n",
      "2018-12-15   -7.010573\n",
      "2018-12-23   -7.224351\n",
      "2018-12-23   -4.078626\n",
      "2018-12-30    1.951646\n",
      "2019-01-05   -3.290007\n",
      "2019-01-05   -9.764239\n",
      "2019-01-07   -7.560917\n",
      "dtype: float64\n",
      "Поиск информации с помощью меток\n",
      "2018-05-03    7.447849\n",
      "2018-05-04    2.238867\n",
      "2018-05-06   -8.688735\n",
      "2018-05-21   -9.951865\n",
      "2018-05-22    1.742619\n",
      "2018-06-06   -3.362355\n",
      "2018-06-08    2.759031\n",
      "2018-06-27   -7.374179\n",
      "2018-06-29    6.856359\n",
      "2018-07-20    7.514890\n",
      "2018-08-10    1.192967\n",
      "2018-08-28    5.337601\n",
      "2018-09-01   -2.874993\n",
      "2018-09-14    7.060860\n",
      "2018-09-23   -4.328466\n",
      "2018-10-14   -2.056710\n",
      "2018-11-17    5.309116\n",
      "2018-11-18    0.976327\n",
      "2018-12-09   -6.575228\n",
      "2018-12-11   -3.804439\n",
      "2018-12-15   -7.010573\n",
      "2018-12-23   -7.224351\n",
      "2018-12-23   -4.078626\n",
      "2018-12-30    1.951646\n",
      "dtype: float64\n",
      "pandas.DataFrame с (в том числе) сгруппированным рядом\n",
      "            Исходный ряд Группированный ряд\n",
      "2018-01-09     -1.776349        (-5.0, 0.0]\n",
      "2018-01-14     -1.272926        (-5.0, 0.0]\n",
      "2018-01-16     -8.871116       (-inf, -5.0]\n",
      "2018-01-17      4.634692         (0.0, 5.0]\n",
      "2018-02-01     -7.460563       (-inf, -5.0]\n",
      "2018-02-03     -0.651934        (-5.0, 0.0]\n",
      "2018-02-10     -1.200251        (-5.0, 0.0]\n",
      "2018-02-24      6.639795         (5.0, inf]\n",
      "2018-02-24      3.180726         (0.0, 5.0]\n",
      "2018-03-04      9.660417         (5.0, inf]\n",
      "2018-03-15     -8.462890       (-inf, -5.0]\n",
      "2018-03-19      1.908792         (0.0, 5.0]\n",
      "2018-03-31     -2.549601        (-5.0, 0.0]\n",
      "2018-05-03      7.447849         (5.0, inf]\n",
      "2018-05-04      2.238867         (0.0, 5.0]\n",
      "2018-05-06     -8.688735       (-inf, -5.0]\n",
      "2018-05-21     -9.951865       (-inf, -5.0]\n",
      "2018-05-22      1.742619         (0.0, 5.0]\n",
      "2018-06-06     -3.362355        (-5.0, 0.0]\n",
      "2018-06-08      2.759031         (0.0, 5.0]\n",
      "2018-06-27     -7.374179       (-inf, -5.0]\n",
      "2018-06-29      6.856359         (5.0, inf]\n",
      "2018-07-20      7.514890         (5.0, inf]\n",
      "2018-08-10      1.192967         (0.0, 5.0]\n",
      "2018-08-28      5.337601         (5.0, inf]\n",
      "2018-09-01     -2.874993        (-5.0, 0.0]\n",
      "2018-09-14      7.060860         (5.0, inf]\n",
      "2018-09-23     -4.328466        (-5.0, 0.0]\n",
      "2018-10-14     -2.056710        (-5.0, 0.0]\n",
      "2018-11-17      5.309116         (5.0, inf]\n",
      "2018-11-18      0.976327         (0.0, 5.0]\n",
      "2018-12-09     -6.575228       (-inf, -5.0]\n",
      "2018-12-11     -3.804439        (-5.0, 0.0]\n",
      "2018-12-15     -7.010573       (-inf, -5.0]\n",
      "2018-12-23     -7.224351       (-inf, -5.0]\n",
      "2018-12-23     -4.078626        (-5.0, 0.0]\n",
      "2018-12-30      1.951646         (0.0, 5.0]\n",
      "2019-01-05     -3.290007        (-5.0, 0.0]\n",
      "2019-01-05     -9.764239       (-inf, -5.0]\n",
      "2019-01-07     -7.560917       (-inf, -5.0]\n",
      "Агрегируем суммой\n",
      "Группированный ряд\n",
      "(-inf, -5.0]   -88.944656\n",
      "(-5.0, 0.0]    -31.246658\n",
      "(0.0, 5.0]      20.585668\n",
      "(5.0, inf]      55.826888\n",
      "Name: Исходный ряд, dtype: float64\n"
     ]
    }
   ],
   "source": [
    "import numpy as np\n",
    "import pandas as pd\n",
    "\n",
    "np.random.seed(10)\n",
    "\n",
    "# ========================= создание данных===========================\n",
    "# Симулируем временной ряд\n",
    "sample_size = 40\n",
    "ind = np.random.choice(\n",
    "    pd.date_range(start='1/1/2018', end='1/08/2019'),\n",
    "    sample_size\n",
    ")\n",
    "\n",
    "my_ser = pd.Series(\n",
    "    np.random.uniform(-10, 10, sample_size),\n",
    "    index = ind\n",
    ").sort_index()\n",
    "print(\"Исходный pandas.Series\")\n",
    "print(my_ser)\n",
    "# ========================= создание данных===========================\n",
    "\n",
    "# ========================= поиск информации =========================\n",
    "# ========================= поиск информации =========================\n",
    "# для того, чтобы сработало обязотельно применить sort_index\n",
    "print(\"Поиск информации с помощью меток\")\n",
    "print(my_ser.loc[\n",
    "    \"2018-05-01\":\"2019-01-04\"\n",
    "])\n",
    "# ========================= поиск информации =========================\n",
    "# ========================= группировка и анрегирование ==============\n",
    "# под группировкой я понимаю укрупнение показателя, т.е. возьмем диапазоны\n",
    "res_df =  pd.DataFrame({\n",
    "    \"Исходный ряд\":my_ser,\n",
    "    \"Группированный ряд\":pd.cut(\n",
    "        my_ser, [-np.inf, -5, 0, 5, np.inf]\n",
    "    )\n",
    "})\n",
    "print(\"pandas.DataFrame с (в том числе) сгруппированным рядом\")\n",
    "print(res_df)\n",
    "\n",
    "print(\"Агрегируем суммой\")\n",
    "print(res_df.groupby(\"Группированный ряд\")[\"Исходный ряд\"].sum())\n",
    "# ========================= группировка и анрегирование =============="
   ]
  }
 ],
 "metadata": {
  "kernelspec": {
   "display_name": "Python 3 (ipykernel)",
   "language": "python",
   "name": "python3"
  },
  "language_info": {
   "codemirror_mode": {
    "name": "ipython",
    "version": 3
   },
   "file_extension": ".py",
   "mimetype": "text/x-python",
   "name": "python",
   "nbconvert_exporter": "python",
   "pygments_lexer": "ipython3",
   "version": "3.10.8"
  }
 },
 "nbformat": 4,
 "nbformat_minor": 5
}

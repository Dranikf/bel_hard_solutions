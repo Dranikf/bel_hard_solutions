{
 "cells": [
  {
   "cell_type": "markdown",
   "id": "782a8a01-825d-451e-b0cd-14acdc4e8ee0",
   "metadata": {},
   "source": [
    "**Лабораторки по `pandas` для `numpy`**"
   ]
  },
  {
   "cell_type": "code",
   "execution_count": 1,
   "id": "6efa6076-f5e4-4c99-88db-a705545c60be",
   "metadata": {},
   "outputs": [],
   "source": [
    "import pandas as pd\n",
    "import numpy as np"
   ]
  },
  {
   "cell_type": "markdown",
   "id": "47067618-91d7-4144-9b8e-1162b421d150",
   "metadata": {},
   "source": [
    "# Лаб 27"
   ]
  },
  {
   "cell_type": "markdown",
   "id": "0135215f-adfd-4522-a5ae-1335142a4501",
   "metadata": {},
   "source": [
    "Имена для ряда и его индекса."
   ]
  },
  {
   "cell_type": "code",
   "execution_count": 9,
   "id": "6447749f-0dd2-42e7-a91e-1a8a182fe374",
   "metadata": {},
   "outputs": [
    {
     "data": {
      "text/plain": [
       "индекс\n",
       "0    0.463135\n",
       "1    0.715577\n",
       "2    0.272704\n",
       "3    0.347563\n",
       "4    0.719057\n",
       "5    0.624911\n",
       "6    0.883744\n",
       "7    0.050246\n",
       "8    0.497564\n",
       "9    0.133732\n",
       "Name: случайные числа, dtype: float64"
      ]
     },
     "execution_count": 9,
     "metadata": {},
     "output_type": "execute_result"
    }
   ],
   "source": [
    "test_ser = pd.Series(np.random.rand(10))\n",
    "\n",
    "test_ser.name = \"случайные числа\"\n",
    "test_ser.index.name = \"индекс\"\n",
    "test_ser"
   ]
  },
  {
   "cell_type": "markdown",
   "id": "2b035f28-7b58-4aca-8a46-62d8466ca63c",
   "metadata": {},
   "source": [
    "Оказалось при обращении по индексам произвольного типа можно делать срезы."
   ]
  },
  {
   "cell_type": "code",
   "execution_count": 17,
   "id": "d94261a2-b974-45ce-bcfd-20a56aa648b1",
   "metadata": {},
   "outputs": [
    {
     "data": {
      "text/html": [
       "<div>\n",
       "<style scoped>\n",
       "    .dataframe tbody tr th:only-of-type {\n",
       "        vertical-align: middle;\n",
       "    }\n",
       "\n",
       "    .dataframe tbody tr th {\n",
       "        vertical-align: top;\n",
       "    }\n",
       "\n",
       "    .dataframe thead th {\n",
       "        text-align: right;\n",
       "    }\n",
       "</style>\n",
       "<table border=\"1\" class=\"dataframe\">\n",
       "  <thead>\n",
       "    <tr style=\"text-align: right;\">\n",
       "      <th></th>\n",
       "      <th>name</th>\n",
       "      <th>population</th>\n",
       "      <th>square</th>\n",
       "    </tr>\n",
       "  </thead>\n",
       "  <tbody>\n",
       "    <tr>\n",
       "      <th>BY</th>\n",
       "      <td>Belarus</td>\n",
       "      <td>9.5</td>\n",
       "      <td>2724902</td>\n",
       "    </tr>\n",
       "    <tr>\n",
       "      <th>RU</th>\n",
       "      <td>Russia</td>\n",
       "      <td>143.5</td>\n",
       "      <td>17125191</td>\n",
       "    </tr>\n",
       "    <tr>\n",
       "      <th>UK</th>\n",
       "      <td>Ukraine</td>\n",
       "      <td>45.5</td>\n",
       "      <td>207600</td>\n",
       "    </tr>\n",
       "  </tbody>\n",
       "</table>\n",
       "</div>"
      ],
      "text/plain": [
       "       name  population    square\n",
       "BY  Belarus         9.5   2724902\n",
       "RU   Russia       143.5  17125191\n",
       "UK  Ukraine        45.5    207600"
      ]
     },
     "execution_count": 17,
     "metadata": {},
     "output_type": "execute_result"
    }
   ],
   "source": [
    "countries = pd.DataFrame(\n",
    "    {\n",
    "        \"name\" : [\"Belarus\", \"Russia\", \"Ukraine\", \"Kazahstan\"],\n",
    "        \"population\" : [9.5, 143.5, 45.5, 17.04],\n",
    "        \"square\" : [2724902, 17125191, 207600, 603628]\n",
    "    },\n",
    "    index = [\"BY\", \"RU\", \"UK\", \"KZ\"]\n",
    ")\n",
    "\n",
    "countries[\"BY\":\"UK\"]"
   ]
  },
  {
   "cell_type": "markdown",
   "id": "8ea9d092-a4eb-4a94-bff9-927ae99ec50b",
   "metadata": {},
   "source": [
    "**Задание**\n",
    "\n",
    "Поместите данные в объект Series (используйте ассоциированные метки)\n",
    "произведите поиск информации с помощью меток."
   ]
  },
  {
   "cell_type": "markdown",
   "id": "a0cf6ee8-b256-4932-9d0b-c9484d1ba296",
   "metadata": {},
   "source": [
    "Оаказалось, что ассоциированные метки - это тоже самое, что и индекс."
   ]
  },
  {
   "cell_type": "code",
   "execution_count": 3,
   "id": "27526327-50d2-409f-b850-c271c9eb9024",
   "metadata": {},
   "outputs": [
    {
     "data": {
      "text/plain": [
       "0      0.066252\n",
       "1      0.680952\n",
       "2      0.721328\n",
       "3      0.963477\n",
       "4      0.314709\n",
       "         ...   \n",
       "195    0.904718\n",
       "196    0.129586\n",
       "197    0.438650\n",
       "198    0.478065\n",
       "199    0.218471\n",
       "Length: 200, dtype: float64"
      ]
     },
     "execution_count": 3,
     "metadata": {},
     "output_type": "execute_result"
    }
   ],
   "source": [
    "pd.Series(np.random.rand(200))"
   ]
  }
 ],
 "metadata": {
  "kernelspec": {
   "display_name": "Python 3 (ipykernel)",
   "language": "python",
   "name": "python3"
  },
  "language_info": {
   "codemirror_mode": {
    "name": "ipython",
    "version": 3
   },
   "file_extension": ".py",
   "mimetype": "text/x-python",
   "name": "python",
   "nbconvert_exporter": "python",
   "pygments_lexer": "ipython3",
   "version": "3.10.7"
  }
 },
 "nbformat": 4,
 "nbformat_minor": 5
}

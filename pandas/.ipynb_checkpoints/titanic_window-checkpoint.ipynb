{
 "cells": [
  {
   "cell_type": "markdown",
   "id": "8efb88fc-4afd-4928-9463-bd8687909572",
   "metadata": {},
   "source": [
    "**Задание**\n",
    "\n",
    "- Создать оконное приложение которое позволяет ввести диапазон поиска;\n",
    "- Достаёт некоторую инфу (обязательно средний возраст погибших мужчин)."
   ]
  },
  {
   "cell_type": "markdown",
   "id": "9eb00d58-7544-4ffa-8d46-3c1223bca217",
   "metadata": {},
   "source": [
    "Загрузка данных"
   ]
  },
  {
   "cell_type": "code",
   "execution_count": 44,
   "id": "0a97617b-b639-4631-9751-58c29d39aea5",
   "metadata": {},
   "outputs": [
    {
     "name": "stdout",
     "output_type": "stream",
     "text": [
      "Средний возраст погибших мужчин 37.125\n"
     ]
    }
   ],
   "source": [
    "from tkinter import *\n",
    "import pandas as pd\n",
    "\n",
    "titanik = pd.read_csv(\"titanic.csv\", index_col = 0)\n",
    "\n",
    "def analize_data(df):\n",
    "    '''\n",
    "        Функция отвечает за анализ\n",
    "        переданного ей участка данных.\n",
    "        Честно говоря, я не запомнил, что\n",
    "        требуется сделать, потому будет \n",
    "        что придумаю (думаю не принципиально)\n",
    "    '''\n",
    "    \n",
    "    cond_str = cond.get()\n",
    "    \n",
    "    # точно помню что просили средний возраст \n",
    "    # погибших мужчин\n",
    "    print(\n",
    "        \"Средний возраст погибших мужчин\",\n",
    "        df.query(\"(Survived == 0) & (Sex == 'male')\")[\"Age\"].mean()\n",
    "    )\n",
    "    \n",
    "    # А в excel вырлюнем таблицу сопряженности между полом и смертностью\n",
    "    pd.crosstab(\n",
    "        df[\"Survived\"], df[\"Sex\"]\n",
    "    ).to_excel(\"result.xlsx\")\n",
    "\n",
    "    \n",
    "def make_analysis():\n",
    "    \n",
    "    start, end = cond.get().split(\":\")\n",
    "    analize_data(titanik.loc[int(start):int(end)])\n",
    "    \n",
    "\n",
    "root = Tk()\n",
    "\n",
    "Label(text = \"Введите условие для отбора <start>:<end>\").pack()\n",
    "cond = Entry(); cond.pack()\n",
    "Button(\n",
    "    text = \"Произвести анализ\",\n",
    "    command = make_analysis\n",
    ").pack()\n",
    "\n",
    "root.mainloop()"
   ]
  },
  {
   "cell_type": "code",
   "execution_count": 19,
   "id": "ba3977d6-53da-40a8-af08-2dc56ab935ea",
   "metadata": {},
   "outputs": [
    {
     "data": {
      "text/plain": [
       "Sex\n",
       "female    29.396424\n",
       "male      31.014338\n",
       "Name: Age, dtype: float64"
      ]
     },
     "execution_count": 19,
     "metadata": {},
     "output_type": "execute_result"
    }
   ],
   "source": [
    "titanik.groupby(\"Sex\")[\"Age\"].mean()"
   ]
  },
  {
   "cell_type": "code",
   "execution_count": 35,
   "id": "b109cf68-97b9-41ce-913f-469192198136",
   "metadata": {},
   "outputs": [
    {
     "name": "stdout",
     "output_type": "stream",
     "text": [
      "Средний возраст погибших мужчин 32.32077956989247\n"
     ]
    }
   ],
   "source": [
    "analize_data(titanik)"
   ]
  },
  {
   "cell_type": "code",
   "execution_count": 43,
   "id": "785cbac3-afed-480b-b7ce-3bcea46bde93",
   "metadata": {},
   "outputs": [
    {
     "data": {
      "text/html": [
       "<div>\n",
       "<style scoped>\n",
       "    .dataframe tbody tr th:only-of-type {\n",
       "        vertical-align: middle;\n",
       "    }\n",
       "\n",
       "    .dataframe tbody tr th {\n",
       "        vertical-align: top;\n",
       "    }\n",
       "\n",
       "    .dataframe thead th {\n",
       "        text-align: right;\n",
       "    }\n",
       "</style>\n",
       "<table border=\"1\" class=\"dataframe\">\n",
       "  <thead>\n",
       "    <tr style=\"text-align: right;\">\n",
       "      <th></th>\n",
       "      <th>Name</th>\n",
       "      <th>PClass</th>\n",
       "      <th>Age</th>\n",
       "      <th>Sex</th>\n",
       "      <th>Survived</th>\n",
       "      <th>SexCode</th>\n",
       "    </tr>\n",
       "    <tr>\n",
       "      <th>PassengerID</th>\n",
       "      <th></th>\n",
       "      <th></th>\n",
       "      <th></th>\n",
       "      <th></th>\n",
       "      <th></th>\n",
       "      <th></th>\n",
       "    </tr>\n",
       "  </thead>\n",
       "  <tbody>\n",
       "    <tr>\n",
       "      <th>1</th>\n",
       "      <td>Allen, Miss Elisabeth Walton</td>\n",
       "      <td>1st</td>\n",
       "      <td>29.00</td>\n",
       "      <td>female</td>\n",
       "      <td>1</td>\n",
       "      <td>1</td>\n",
       "    </tr>\n",
       "    <tr>\n",
       "      <th>2</th>\n",
       "      <td>Allison, Miss Helen Loraine</td>\n",
       "      <td>1st</td>\n",
       "      <td>2.00</td>\n",
       "      <td>female</td>\n",
       "      <td>0</td>\n",
       "      <td>1</td>\n",
       "    </tr>\n",
       "    <tr>\n",
       "      <th>3</th>\n",
       "      <td>Allison, Mr Hudson Joshua Creighton</td>\n",
       "      <td>1st</td>\n",
       "      <td>30.00</td>\n",
       "      <td>male</td>\n",
       "      <td>0</td>\n",
       "      <td>0</td>\n",
       "    </tr>\n",
       "    <tr>\n",
       "      <th>4</th>\n",
       "      <td>Allison, Mrs Hudson JC (Bessie Waldo Daniels)</td>\n",
       "      <td>1st</td>\n",
       "      <td>25.00</td>\n",
       "      <td>female</td>\n",
       "      <td>0</td>\n",
       "      <td>1</td>\n",
       "    </tr>\n",
       "    <tr>\n",
       "      <th>5</th>\n",
       "      <td>Allison, Master Hudson Trevor</td>\n",
       "      <td>1st</td>\n",
       "      <td>0.92</td>\n",
       "      <td>male</td>\n",
       "      <td>1</td>\n",
       "      <td>0</td>\n",
       "    </tr>\n",
       "    <tr>\n",
       "      <th>...</th>\n",
       "      <td>...</td>\n",
       "      <td>...</td>\n",
       "      <td>...</td>\n",
       "      <td>...</td>\n",
       "      <td>...</td>\n",
       "      <td>...</td>\n",
       "    </tr>\n",
       "    <tr>\n",
       "      <th>1309</th>\n",
       "      <td>Zakarian, Mr Artun</td>\n",
       "      <td>3rd</td>\n",
       "      <td>27.00</td>\n",
       "      <td>male</td>\n",
       "      <td>0</td>\n",
       "      <td>0</td>\n",
       "    </tr>\n",
       "    <tr>\n",
       "      <th>1310</th>\n",
       "      <td>Zakarian, Mr Maprieder</td>\n",
       "      <td>3rd</td>\n",
       "      <td>26.00</td>\n",
       "      <td>male</td>\n",
       "      <td>0</td>\n",
       "      <td>0</td>\n",
       "    </tr>\n",
       "    <tr>\n",
       "      <th>1311</th>\n",
       "      <td>Zenni, Mr Philip</td>\n",
       "      <td>3rd</td>\n",
       "      <td>22.00</td>\n",
       "      <td>male</td>\n",
       "      <td>0</td>\n",
       "      <td>0</td>\n",
       "    </tr>\n",
       "    <tr>\n",
       "      <th>1312</th>\n",
       "      <td>Lievens, Mr Rene</td>\n",
       "      <td>3rd</td>\n",
       "      <td>24.00</td>\n",
       "      <td>male</td>\n",
       "      <td>0</td>\n",
       "      <td>0</td>\n",
       "    </tr>\n",
       "    <tr>\n",
       "      <th>1313</th>\n",
       "      <td>Zimmerman, Leo</td>\n",
       "      <td>3rd</td>\n",
       "      <td>29.00</td>\n",
       "      <td>male</td>\n",
       "      <td>0</td>\n",
       "      <td>0</td>\n",
       "    </tr>\n",
       "  </tbody>\n",
       "</table>\n",
       "<p>1313 rows × 6 columns</p>\n",
       "</div>"
      ],
      "text/plain": [
       "                                                      Name PClass    Age  \\\n",
       "PassengerID                                                                \n",
       "1                             Allen, Miss Elisabeth Walton    1st  29.00   \n",
       "2                              Allison, Miss Helen Loraine    1st   2.00   \n",
       "3                      Allison, Mr Hudson Joshua Creighton    1st  30.00   \n",
       "4            Allison, Mrs Hudson JC (Bessie Waldo Daniels)    1st  25.00   \n",
       "5                            Allison, Master Hudson Trevor    1st   0.92   \n",
       "...                                                    ...    ...    ...   \n",
       "1309                                    Zakarian, Mr Artun    3rd  27.00   \n",
       "1310                                Zakarian, Mr Maprieder    3rd  26.00   \n",
       "1311                                      Zenni, Mr Philip    3rd  22.00   \n",
       "1312                                      Lievens, Mr Rene    3rd  24.00   \n",
       "1313                                        Zimmerman, Leo    3rd  29.00   \n",
       "\n",
       "                Sex  Survived  SexCode  \n",
       "PassengerID                             \n",
       "1            female         1        1  \n",
       "2            female         0        1  \n",
       "3              male         0        0  \n",
       "4            female         0        1  \n",
       "5              male         1        0  \n",
       "...             ...       ...      ...  \n",
       "1309           male         0        0  \n",
       "1310           male         0        0  \n",
       "1311           male         0        0  \n",
       "1312           male         0        0  \n",
       "1313           male         0        0  \n",
       "\n",
       "[1313 rows x 6 columns]"
      ]
     },
     "execution_count": 43,
     "metadata": {},
     "output_type": "execute_result"
    }
   ],
   "source": [
    "titanik"
   ]
  },
  {
   "cell_type": "code",
   "execution_count": 47,
   "id": "76c1b4ad-6667-4ef3-9d4a-1915077723b2",
   "metadata": {},
   "outputs": [],
   "source": [
    "pd.read_csv(\"titanic.csv\", index_col = 0).query(\"Sex == 'male'\")[[\"Survived\", \"Sex\"]].to_excel(\"male_info.xlsx\")"
   ]
  }
 ],
 "metadata": {
  "kernelspec": {
   "display_name": "Python 3 (ipykernel)",
   "language": "python",
   "name": "python3"
  },
  "language_info": {
   "codemirror_mode": {
    "name": "ipython",
    "version": 3
   },
   "file_extension": ".py",
   "mimetype": "text/x-python",
   "name": "python",
   "nbconvert_exporter": "python",
   "pygments_lexer": "ipython3",
   "version": "3.10.8"
  }
 },
 "nbformat": 4,
 "nbformat_minor": 5
}

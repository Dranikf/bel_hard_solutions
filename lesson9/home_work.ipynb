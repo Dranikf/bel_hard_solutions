{
 "cells": [
  {
   "cell_type": "markdown",
   "id": "a89eda82-9479-426a-b910-a759aac0e1bb",
   "metadata": {},
   "source": [
    "**Домашнее задание для урока 3.11.2022**"
   ]
  },
  {
   "cell_type": "markdown",
   "id": "ca0f0c9c-c682-4662-af8f-09ced7fcf377",
   "metadata": {},
   "source": [
    "Развить приложение созданное в 3-ей практической по tkinter в протейшую среду python разработки."
   ]
  },
  {
   "cell_type": "code",
   "execution_count": 42,
   "id": "ef9560bd-541e-48da-9460-9cd613c35b9a",
   "metadata": {},
   "outputs": [],
   "source": [
    "from tkinter import *\n",
    "from subprocess import *\n",
    "\n",
    "def read_file():\n",
    "    file_name = entry.get()\n",
    "    fl = open(file_name)\n",
    "    \n",
    "    my_text.delete(1.0, END)\n",
    "    my_text.insert(1.0, fl.read())\n",
    "    \n",
    "    fl.close()\n",
    "    \n",
    "def write_file():\n",
    "    file_name = entry.get()\n",
    "    fl = open(file_name, \"w\")\n",
    "    \n",
    "    fl.write(my_text.get(1.0,END))\n",
    "    \n",
    "    fl.close()\n",
    "    \n",
    "def run_program():\n",
    "    file_name = entry.get()\n",
    "    output=subprocess.check_output(\n",
    "        \"python3 \" + file_name, \n",
    "        shell=True\n",
    "    )\n",
    "    output_text.insert(\"end\", output)\n",
    "\n",
    "root = Tk()\n",
    "fr = Frame()\n",
    "fr.pack(side = TOP)\n",
    "\n",
    "entry = Entry(fr)\n",
    "entry.insert(0, \"test_files/\")\n",
    "entry.pack(side = LEFT)\n",
    "Button(\n",
    "    fr, width = 10, \n",
    "    text = \"Открыть\",\n",
    "    command = read_file\n",
    ").pack(side = LEFT)\n",
    "Button(\n",
    "    fr, width = 10, \n",
    "    text = \"Сохранить\",\n",
    "    command = write_file\n",
    ").pack(side = LEFT)\n",
    "Button(\n",
    "    fr, width = 3,\n",
    "    text = \"Run\",\n",
    "    command = run_program\n",
    ").pack(side = LEFT)\n",
    "\n",
    "my_text = Text(width = 50)\n",
    "my_text.pack(side = TOP)\n",
    "\n",
    "output_text = Text(width = 50, height = 4)\n",
    "output_text.pack(side = TOP)\n",
    "\n",
    "root.mainloop()"
   ]
  },
  {
   "cell_type": "markdown",
   "id": "773ec8d5-f082-4b57-b873-61c40a08d8e2",
   "metadata": {},
   "source": []
  }
 ],
 "metadata": {
  "kernelspec": {
   "display_name": "Python 3 (ipykernel)",
   "language": "python",
   "name": "python3"
  },
  "language_info": {
   "codemirror_mode": {
    "name": "ipython",
    "version": 3
   },
   "file_extension": ".py",
   "mimetype": "text/x-python",
   "name": "python",
   "nbconvert_exporter": "python",
   "pygments_lexer": "ipython3",
   "version": "3.10.7"
  }
 },
 "nbformat": 4,
 "nbformat_minor": 5
}

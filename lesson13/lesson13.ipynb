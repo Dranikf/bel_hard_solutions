{
 "cells": [
  {
   "cell_type": "markdown",
   "id": "27f49eab-624b-465f-aa72-664f527cb437",
   "metadata": {},
   "source": [
    "Задание с tkinter"
   ]
  },
  {
   "cell_type": "code",
   "execution_count": 35,
   "id": "63404337-063d-473c-869c-9a6a0056b376",
   "metadata": {},
   "outputs": [
    {
     "name": "stdout",
     "output_type": "stream",
     "text": [
      "      Группа Оценка 1 Оценка 2 Оценка 3 Оценка 4 Оценка 5\n",
      "Имя                                                      \n",
      "afds  f32131        5        4        2        3        5\n"
     ]
    }
   ],
   "source": [
    "from tkinter import *\n",
    "import pandas as pd\n",
    "\n",
    "students_info = pd.read_excel(\"students_data.xlsx\", index_col = 0)\n",
    "\n",
    "def read_info():\n",
    "    '''\n",
    "        Чтение инормации при нажжатии кнопки\n",
    "        \"Прочитать\"\n",
    "    '''\n",
    "    name = name_entr.get()\n",
    "    group = group_entr.get()\n",
    "    marks = [\n",
    "        int(mark) \n",
    "        for mark in marks_entr.get().split(\",\")\n",
    "    ]\n",
    "    \n",
    "    stud_info = pd.Series(\n",
    "        [group] + marks,\n",
    "        index = students_info.columns\n",
    "    )\n",
    "    \n",
    "    students_info.loc[name,:] = stud_info\n",
    "    print(students_info)\n",
    "    \n",
    "\n",
    "# формирование окончки\n",
    "root = Tk()\n",
    "\n",
    "name_frame = Frame(); name_frame.pack()\n",
    "Label(name_frame, text = \"Имя\").pack(side = LEFT)\n",
    "name_entr = Entry(name_frame); name_entr.pack(side = LEFT)\n",
    "\n",
    "group_frame = Frame(); group_frame.pack()\n",
    "Label(group_frame, text = \"Группа\").pack(side = LEFT)\n",
    "group_entr = Entry(group_frame); group_entr.pack(side = LEFT)\n",
    "\n",
    "\n",
    "marks_frame = Frame(); marks_frame.pack()\n",
    "Label(\n",
    "    marks_frame, \n",
    "    text = \"Оценки через запятую (5 шт)\"\n",
    ").pack(side = LEFT)\n",
    "marks_entr = Entry(marks_frame); marks_entr.pack(side = LEFT)\n",
    "\n",
    "\n",
    "Button(\n",
    "    text = \"Считать ученика\",\n",
    "    command = read_info\n",
    ").pack()\n",
    "Button(text = \"Статистика по ученикам\").pack()\n",
    "\n",
    "root.mainloop()\n",
    "\n",
    "students_info.to_excel(\"students_data.xlsx\")"
   ]
  },
  {
   "cell_type": "code",
   "execution_count": 47,
   "id": "e4f961a2-2cab-4b12-9613-7c1d762b6537",
   "metadata": {},
   "outputs": [
    {
     "data": {
      "text/plain": [
       "{'whiskers': [<matplotlib.lines.Line2D at 0x7ff99ccd81f0>,\n",
       "  <matplotlib.lines.Line2D at 0x7ff99ccd84c0>,\n",
       "  <matplotlib.lines.Line2D at 0x7ff99ccd9480>,\n",
       "  <matplotlib.lines.Line2D at 0x7ff99ccd9750>],\n",
       " 'caps': [<matplotlib.lines.Line2D at 0x7ff99ccd8670>,\n",
       "  <matplotlib.lines.Line2D at 0x7ff99ccd8940>,\n",
       "  <matplotlib.lines.Line2D at 0x7ff99ccd9a20>,\n",
       "  <matplotlib.lines.Line2D at 0x7ff99ccd9cf0>],\n",
       " 'boxes': [<matplotlib.lines.Line2D at 0x7ff99cca7ee0>,\n",
       "  <matplotlib.lines.Line2D at 0x7ff99ccd91b0>],\n",
       " 'medians': [<matplotlib.lines.Line2D at 0x7ff99ccd8c10>,\n",
       "  <matplotlib.lines.Line2D at 0x7ff99ccd9fc0>],\n",
       " 'fliers': [<matplotlib.lines.Line2D at 0x7ff99ccd8ee0>,\n",
       "  <matplotlib.lines.Line2D at 0x7ff99ccda290>],\n",
       " 'means': []}"
      ]
     },
     "execution_count": 47,
     "metadata": {},
     "output_type": "execute_result"
    },
    {
     "data": {
      "image/png": "[encoded data removed]",
      "text/plain": [
       "<Figure size 432x288 with 1 Axes>"
      ]
     },
     "metadata": {
      "needs_background": "light"
     },
     "output_type": "display_data"
    }
   ],
   "source": [
    "import matplotlib.pyplot as plt\n",
    "\n",
    "students_info = pd.read_excel(\"students_data.xlsx\", index_col = 0)\n",
    "students_info\n",
    "\n",
    "plt.boxplot(\n",
    "    students_info.loc[:, \"Оценка 1\":].T,\n",
    "    labels = students_info.index\n",
    ")"
   ]
  },
  {
   "cell_type": "code",
   "execution_count": 44,
   "id": "ffe55722-624b-4dd8-b3d7-7d079cb93c92",
   "metadata": {},
   "outputs": [
    {
     "data": {
      "text/html": [
       "<div>\n",
       "<style scoped>\n",
       "    .dataframe tbody tr th:only-of-type {\n",
       "        vertical-align: middle;\n",
       "    }\n",
       "\n",
       "    .dataframe tbody tr th {\n",
       "        vertical-align: top;\n",
       "    }\n",
       "\n",
       "    .dataframe thead th {\n",
       "        text-align: right;\n",
       "    }\n",
       "</style>\n",
       "<table border=\"1\" class=\"dataframe\">\n",
       "  <thead>\n",
       "    <tr style=\"text-align: right;\">\n",
       "      <th></th>\n",
       "      <th>Оценка 1</th>\n",
       "      <th>Оценка 2</th>\n",
       "      <th>Оценка 3</th>\n",
       "      <th>Оценка 4</th>\n",
       "      <th>Оценка 5</th>\n",
       "    </tr>\n",
       "    <tr>\n",
       "      <th>Имя</th>\n",
       "      <th></th>\n",
       "      <th></th>\n",
       "      <th></th>\n",
       "      <th></th>\n",
       "      <th></th>\n",
       "    </tr>\n",
       "  </thead>\n",
       "  <tbody>\n",
       "    <tr>\n",
       "      <th>Фёдор</th>\n",
       "      <td>4</td>\n",
       "      <td>6</td>\n",
       "      <td>7</td>\n",
       "      <td>4</td>\n",
       "      <td>10</td>\n",
       "    </tr>\n",
       "  </tbody>\n",
       "</table>\n",
       "</div>"
      ],
      "text/plain": [
       "       Оценка 1  Оценка 2  Оценка 3  Оценка 4  Оценка 5\n",
       "Имя                                                    \n",
       "Фёдор         4         6         7         4        10"
      ]
     },
     "execution_count": 44,
     "metadata": {},
     "output_type": "execute_result"
    }
   ],
   "source": [
    "students_info.loc[:, \"Оценка 1\":]"
   ]
  }
 ],
 "metadata": {
  "kernelspec": {
   "display_name": "Python 3 (ipykernel)",
   "language": "python",
   "name": "python3"
  },
  "language_info": {
   "codemirror_mode": {
    "name": "ipython",
    "version": 3
   },
   "file_extension": ".py",
   "mimetype": "text/x-python",
   "name": "python",
   "nbconvert_exporter": "python",
   "pygments_lexer": "ipython3",
   "version": "3.10.8"
  }
 },
 "nbformat": 4,
 "nbformat_minor": 5
}

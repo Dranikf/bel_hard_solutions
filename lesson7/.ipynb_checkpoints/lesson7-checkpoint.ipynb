{
 "cells": [
  {
   "cell_type": "markdown",
   "id": "94f1cc72-f458-490e-b411-2cf905fb2dc0",
   "metadata": {},
   "source": [
    "**Урок 7 продолжаем разбираться с классами**"
   ]
  },
  {
   "cell_type": "code",
   "execution_count": 2,
   "id": "5402c191-4b00-4bbc-8440-1909c4d35dab",
   "metadata": {},
   "outputs": [],
   "source": [
    "class MyClass():\n",
    "    def __init__(self, n):\n",
    "        self.name = n\n",
    "        \n",
    "A = MyClass(\"A name\")\n",
    "def hello(self):\n",
    "    print(\"hello \" + self.name)"
   ]
  }
 ],
 "metadata": {
  "kernelspec": {
   "display_name": "Python 3 (ipykernel)",
   "language": "python",
   "name": "python3"
  },
  "language_info": {
   "codemirror_mode": {
    "name": "ipython",
    "version": 3
   },
   "file_extension": ".py",
   "mimetype": "text/x-python",
   "name": "python",
   "nbconvert_exporter": "python",
   "pygments_lexer": "ipython3",
   "version": "3.10.7"
  }
 },
 "nbformat": 4,
 "nbformat_minor": 5
}

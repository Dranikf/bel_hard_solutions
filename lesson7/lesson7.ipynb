{
 "cells": [
  {
   "cell_type": "markdown",
   "id": "94f1cc72-f458-490e-b411-2cf905fb2dc0",
   "metadata": {},
   "source": [
    "**Урок 7 продолжаем разбираться с классами**"
   ]
  },
  {
   "cell_type": "code",
   "execution_count": 6,
   "id": "5402c191-4b00-4bbc-8440-1909c4d35dab",
   "metadata": {},
   "outputs": [
    {
     "name": "stdout",
     "output_type": "stream",
     "text": [
      "hello A name\n"
     ]
    }
   ],
   "source": [
    "class MyClass():\n",
    "    def __init__(self, n):\n",
    "        self.name = n\n",
    "        \n",
    "A = MyClass(\"A name\")\n",
    "\n",
    "\n",
    "def hello(self):\n",
    "    print(\"hello \" + self.name)\n",
    "\n",
    "MyClass.say = hello\n",
    "\n",
    "A.say()"
   ]
  },
  {
   "cell_type": "code",
   "execution_count": 14,
   "id": "38868cfa-1d54-4252-8b4f-cf97793dceab",
   "metadata": {},
   "outputs": [
    {
     "ename": "AttributeError",
     "evalue": "test",
     "output_type": "error",
     "traceback": [
      "\u001b[0;31m---------------------------------------------------------------------------\u001b[0m",
      "\u001b[0;31mAttributeError\u001b[0m                            Traceback (most recent call last)",
      "Input \u001b[0;32mIn [14]\u001b[0m, in \u001b[0;36m<module>\u001b[0;34m\u001b[0m\n\u001b[1;32m      8\u001b[0m         \u001b[38;5;28mprint\u001b[39m(\u001b[38;5;124m\"\u001b[39m\u001b[38;5;124mhello\u001b[39m\u001b[38;5;124m\"\u001b[39m)\n\u001b[1;32m     10\u001b[0m a \u001b[38;5;241m=\u001b[39m MyClass()\n\u001b[0;32m---> 11\u001b[0m \u001b[38;5;28;01mdel\u001b[39;00m a\u001b[38;5;241m.\u001b[39mtest\n",
      "\u001b[0;31mAttributeError\u001b[0m: test"
     ]
    }
   ],
   "source": [
    "class MyClass():\n",
    "    \n",
    "    test = 3213\n",
    "    \n",
    "    def __init__(self):\n",
    "        pass\n",
    "    def say(self):\n",
    "        print(\"hello\")\n",
    "        \n",
    "a = MyClass()\n",
    "del a.test"
   ]
  },
  {
   "cell_type": "code",
   "execution_count": 18,
   "id": "b5f8339b-1ef9-46a4-9539-4a47293dc07e",
   "metadata": {},
   "outputs": [
    {
     "data": {
      "text/plain": [
       "5"
      ]
     },
     "execution_count": 18,
     "metadata": {},
     "output_type": "execute_result"
    }
   ],
   "source": [
    "class MyClass():\n",
    "    def __init__(self):\n",
    "        self.test = 5\n",
    "def say(self):\n",
    "    print(\"hello\")\n",
    "        \n",
    "a = MyClass()\n",
    "# a.test = 5\n",
    "del a.test\n",
    "a.test"
   ]
  },
  {
   "cell_type": "markdown",
   "id": "6d59ff27-638b-4e11-9e94-953613878bbc",
   "metadata": {},
   "source": [
    "# `Copy` и `DeepCopy`\n",
    "\n",
    "- `Copy` на изменямые типы данных в новый объект закинет ссылки;\n",
    "- `DeepCopy` создаст новые переменные изменяемых типов данных."
   ]
  },
  {
   "cell_type": "code",
   "execution_count": 33,
   "id": "2690ca57-d2b9-4a61-987a-768a09ffd9ea",
   "metadata": {},
   "outputs": [
    {
     "name": "stdout",
     "output_type": "stream",
     "text": [
      "Объекты не изменены!==================\n",
      "a -  4 [1, 2, 3]\n",
      "copy_a -  4 [1, 2, 3]\n",
      "deepcopy_a -  4 [1, 2, 3]\n",
      "Объекты изменены!==================\n",
      "a -  10 [4, 2, 3]\n",
      "copy_a -  4 [4, 2, 3]\n",
      "deepcopy_a -  4 [1, 2, 3]\n"
     ]
    }
   ],
   "source": [
    "from copy import copy, deepcopy\n",
    "\n",
    "class MyClass():\n",
    "    def __init__(self):\n",
    "        self.non_changing = 4\n",
    "        self.changing = [1,2,3]\n",
    "        \n",
    "    def __str__(self):\n",
    "        return str(self.non_changing) + \" \" + str(self.changing)\n",
    "        \n",
    "a = MyClass()\n",
    "copy_a = copy(a)\n",
    "deepcopy_a = deepcopy(a)\n",
    "print(\"Объекты не изменены!==================\")\n",
    "print(\"a - \", a)\n",
    "print(\"copy_a - \", copy_a)\n",
    "print(\"deepcopy_a - \", deepcopy_a)\n",
    "\n",
    "a.changing[0] = 4\n",
    "a.non_changing = 10\n",
    "\n",
    "print(\"Объекты изменены!==================\")\n",
    "print(\"a - \", a)\n",
    "print(\"copy_a - \", copy_a)\n",
    "print(\"deepcopy_a - \", deepcopy_a)"
   ]
  },
  {
   "cell_type": "markdown",
   "id": "22f319fe-4b0c-494f-b5e1-5347abe84152",
   "metadata": {},
   "source": [
    "# Наследование"
   ]
  },
  {
   "cell_type": "code",
   "execution_count": null,
   "id": "4b033570-8f29-402e-8097-843b8d1c29f4",
   "metadata": {},
   "outputs": [],
   "source": []
  }
 ],
 "metadata": {
  "kernelspec": {
   "display_name": "Python 3 (ipykernel)",
   "language": "python",
   "name": "python3"
  },
  "language_info": {
   "codemirror_mode": {
    "name": "ipython",
    "version": 3
   },
   "file_extension": ".py",
   "mimetype": "text/x-python",
   "name": "python",
   "nbconvert_exporter": "python",
   "pygments_lexer": "ipython3",
   "version": "3.10.7"
  }
 },
 "nbformat": 4,
 "nbformat_minor": 5
}

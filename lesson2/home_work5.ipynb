{
 "cells": [
  {
   "cell_type": "markdown",
   "id": "9bba7f0f-2d46-46ee-9da2-8dd0f1de29fc",
   "metadata": {},
   "source": [
    "**Домашнее задание по теме 5 (циклы)**\n",
    "\n",
    "- Предполагается что использование готовой функции для вычисления факториала запрещается;\n",
    "- Предполагается что исопльзование стрококвых переменных в задачах на разложение на цифры запрещается."
   ]
  },
  {
   "cell_type": "markdown",
   "id": "88743150-6caf-4830-8906-30824d3c19bd",
   "metadata": {},
   "source": [
    "<img src=\"5.89.png\">"
   ]
  },
  {
   "cell_type": "code",
   "execution_count": 4,
   "id": "8778d8eb-3b4b-43b9-8d43-a1b1ce3baa6f",
   "metadata": {},
   "outputs": [
    {
     "name": "stdin",
     "output_type": "stream",
     "text": [
      "Введите n: 4\n"
     ]
    },
    {
     "name": "stdout",
     "output_type": "stream",
     "text": [
      "33\n"
     ]
    }
   ],
   "source": [
    "n = int(input(\"Введите n:\"))\n",
    "\n",
    "curr_multiply = 1 # текущее слагаемое\n",
    "res = 0\n",
    "\n",
    "for i in range(1, n + 1):\n",
    "    curr_multiply *= i\n",
    "    res += curr_multiply\n",
    "\n",
    "print(res)"
   ]
  },
  {
   "cell_type": "markdown",
   "id": "4dde7e0a-eded-40ce-aac1-9b97810db451",
   "metadata": {},
   "source": [
    "<img src=\"5.90.png\">"
   ]
  },
  {
   "cell_type": "code",
   "execution_count": 13,
   "id": "5ea5ecde-fc15-471f-ba54-b4614277fd1b",
   "metadata": {},
   "outputs": [
    {
     "name": "stdin",
     "output_type": "stream",
     "text": [
      "Введите n: 5\n"
     ]
    },
    {
     "name": "stdout",
     "output_type": "stream",
     "text": [
      "2.7166666666666663\n"
     ]
    }
   ],
   "source": [
    "n = int(input(\"Введите n:\"))\n",
    "\n",
    "curr_multiply = 1 # текущее знаменатель\n",
    "res = 1\n",
    "\n",
    "for i in range(1, n + 1):\n",
    "    curr_multiply *= i\n",
    "    res += 1/curr_multiply\n",
    "\n",
    "print(res)"
   ]
  },
  {
   "cell_type": "markdown",
   "id": "2498548a-4e10-4eba-a7ae-efa7c390ce71",
   "metadata": {},
   "source": [
    "<img src=\"5.91.png\">"
   ]
  },
  {
   "cell_type": "markdown",
   "id": "558166db-333c-4030-baa0-6514f0a6509a",
   "metadata": {},
   "source": [
    "**Простое решение**"
   ]
  },
  {
   "cell_type": "code",
   "execution_count": 20,
   "id": "a248cad2-4d7f-445f-a07a-f52c76c349a6",
   "metadata": {},
   "outputs": [
    {
     "name": "stdin",
     "output_type": "stream",
     "text": [
      "Введите n: 4\n"
     ]
    },
    {
     "name": "stdout",
     "output_type": "stream",
     "text": [
      "16.375\n"
     ]
    }
   ],
   "source": [
    "x = 3\n",
    "n = int(input(\"Введите n:\"))\n",
    "\n",
    "curr_multiply = 1 # текущий знаменатель\n",
    "res = 1\n",
    "\n",
    "for i in range(1, n + 1):\n",
    "    curr_multiply *= i\n",
    "    res += (x**i)/curr_multiply\n",
    "\n",
    "print(res)"
   ]
  },
  {
   "cell_type": "markdown",
   "id": "4bb28fbe-5b8b-43e6-a45d-fd42accb2027",
   "metadata": {},
   "source": [
    "**В том случае если оператором `**` пользоваться нельзя**"
   ]
  },
  {
   "cell_type": "code",
   "execution_count": 21,
   "id": "c10191dd-828e-4dd5-86f5-d629502df15f",
   "metadata": {},
   "outputs": [
    {
     "name": "stdin",
     "output_type": "stream",
     "text": [
      "Введите n: 4\n"
     ]
    },
    {
     "name": "stdout",
     "output_type": "stream",
     "text": [
      "16.375\n"
     ]
    }
   ],
   "source": [
    "x = 3\n",
    "n = int(input(\"Введите n:\"))\n",
    "\n",
    "curr_multiply = 1 # текущий знаменатель\n",
    "curr_x = 1 #текущий числитель\n",
    "res = 1\n",
    "\n",
    "for i in range(1, n + 1):\n",
    "    curr_x *= x\n",
    "    curr_multiply *= i\n",
    "    res += curr_x/curr_multiply\n",
    "    \n",
    "\n",
    "print(res)"
   ]
  },
  {
   "cell_type": "markdown",
   "id": "554d7ec4-a60e-44f1-b077-8761e9d2ec33",
   "metadata": {},
   "source": [
    "<img src = \"5.92.png\">"
   ]
  },
  {
   "cell_type": "code",
   "execution_count": 7,
   "id": "00358043-d829-4b0f-b483-efd3bd621897",
   "metadata": {},
   "outputs": [
    {
     "name": "stdout",
     "output_type": "stream",
     "text": [
      "1.7579327566180045\n"
     ]
    }
   ],
   "source": [
    "s = 50**(1/2)\n",
    "\n",
    "for i in range(49, 0, -1):\n",
    "    s = (s + i)**(1/2)\n",
    "    \n",
    "print(s)"
   ]
  },
  {
   "cell_type": "markdown",
   "id": "08c01bbc-244d-48b6-b56d-a857f2ec35f3",
   "metadata": {},
   "source": [
    "<img src=\"5.93.png\">"
   ]
  },
  {
   "cell_type": "markdown",
   "id": "91c651fd-c715-4c11-967a-05defc7ded62",
   "metadata": {},
   "source": [
    "a)"
   ]
  },
  {
   "cell_type": "code",
   "execution_count": 26,
   "id": "e14e8216-bd0f-4b3f-af23-b925fb842c4d",
   "metadata": {},
   "outputs": [
    {
     "name": "stdin",
     "output_type": "stream",
     "text": [
      "Введите n: 2\n"
     ]
    },
    {
     "name": "stdout",
     "output_type": "stream",
     "text": [
      "2.3307506490414776\n"
     ]
    }
   ],
   "source": [
    "from math import sin\n",
    "\n",
    "n = int(input(\"Введите n:\"))\n",
    "\n",
    "denominator = 0 # знаменатель\n",
    "res = 0\n",
    "\n",
    "for i in range(n):\n",
    "    denominator += sin(i+1)\n",
    "    res += (i+1)/denominator\n",
    "    \n",
    "print(res)"
   ]
  },
  {
   "cell_type": "markdown",
   "id": "f1ef5943-8824-4c59-bd9a-90dab8f456db",
   "metadata": {},
   "source": [
    "б)"
   ]
  },
  {
   "cell_type": "code",
   "execution_count": 31,
   "id": "24b7bc88-74cb-4c3c-bb61-61b2238c3db7",
   "metadata": {},
   "outputs": [
    {
     "name": "stdin",
     "output_type": "stream",
     "text": [
      "Введите n: 1\n"
     ]
    },
    {
     "name": "stdout",
     "output_type": "stream",
     "text": [
      "1.4142135623730951\n"
     ]
    }
   ],
   "source": [
    "n = int(input(\"Введите n:\"))\n",
    "\n",
    "res = 0\n",
    "\n",
    "for i in range(n):\n",
    "    res = (2 + res)**(1/2)\n",
    "\n",
    "print(res)"
   ]
  },
  {
   "cell_type": "markdown",
   "id": "afd2ecfa-c53d-49af-94c9-f106b2ea5ddb",
   "metadata": {},
   "source": [
    "в)"
   ]
  },
  {
   "cell_type": "code",
   "execution_count": 29,
   "id": "23ec5085-0835-4bf4-9602-727535bdd86e",
   "metadata": {},
   "outputs": [
    {
     "name": "stdin",
     "output_type": "stream",
     "text": [
      "Введите n: 1\n"
     ]
    },
    {
     "name": "stdout",
     "output_type": "stream",
     "text": [
      "0.6420926159343308\n"
     ]
    }
   ],
   "source": [
    "from math import sin, cos\n",
    "\n",
    "n = int(input(\"Введите n:\"))\n",
    "\n",
    "denominator = 0 # знаменатель\n",
    "nominator = 0 # числитель\n",
    "res = 0\n",
    "\n",
    "for i in range(n):\n",
    "    denominator += sin(i+1)\n",
    "    nominator += cos(i+1)\n",
    "    res += nominator/denominator\n",
    "    \n",
    "print(res)"
   ]
  },
  {
   "cell_type": "markdown",
   "id": "e691a207-3fdf-4bcb-b075-426541923f7c",
   "metadata": {},
   "source": [
    "г)"
   ]
  },
  {
   "cell_type": "code",
   "execution_count": 34,
   "id": "492fc2bf-597f-4941-9293-09b6affe844f",
   "metadata": {},
   "outputs": [
    {
     "name": "stdin",
     "output_type": "stream",
     "text": [
      "Введите n: 6\n"
     ]
    },
    {
     "name": "stdout",
     "output_type": "stream",
     "text": [
      "2.469889876790673\n"
     ]
    }
   ],
   "source": [
    "n = int(input(\"Введите n:\"))\n",
    "res = 0\n",
    "\n",
    "for i in range(n, 0, -1):\n",
    "    res = (3*i + res)**(1/2)\n",
    "    \n",
    "print(res)"
   ]
  },
  {
   "cell_type": "markdown",
   "id": "a4c84795-67f5-4033-be24-eb6b74d2e296",
   "metadata": {},
   "source": [
    "<img src=\"5.94.png\">"
   ]
  },
  {
   "cell_type": "code",
   "execution_count": 37,
   "id": "e4725a6c-6aac-4f7e-960e-5b2c87345b96",
   "metadata": {},
   "outputs": [
    {
     "name": "stdin",
     "output_type": "stream",
     "text": [
      "Ведите шестизначное число: 121212\n"
     ]
    },
    {
     "name": "stdout",
     "output_type": "stream",
     "text": [
      "9\n"
     ]
    }
   ],
   "source": [
    "n = int(input(\"Ведите шестизначное число:\"))\n",
    "res = 0\n",
    "\n",
    "while n > 0:\n",
    "    res += n%10\n",
    "    n //= 10\n",
    "    \n",
    "print(res)"
   ]
  },
  {
   "cell_type": "markdown",
   "id": "3038dd7a-035a-47d1-9279-ca2ae60d0799",
   "metadata": {},
   "source": [
    "<img src=\"5.95.png\">"
   ]
  },
  {
   "cell_type": "code",
   "execution_count": 39,
   "id": "02b6e44e-5564-40cf-92bf-40000881d21d",
   "metadata": {},
   "outputs": [
    {
     "name": "stdin",
     "output_type": "stream",
     "text": [
      "Введите натуральное число: 12345\n",
      "Сколько цифр: 2\n"
     ]
    },
    {
     "name": "stdout",
     "output_type": "stream",
     "text": [
      "9\n"
     ]
    }
   ],
   "source": [
    "nat_num = int(input(\"Введите натуральное число:\"))\n",
    "n = int(input(\"Сколько цифр:\"))\n",
    "\n",
    "res = 0\n",
    "\n",
    "for i in range(n):\n",
    "    res += nat_num%10\n",
    "    nat_num //= 10\n",
    "    \n",
    "print(res)"
   ]
  }
 ],
 "metadata": {
  "kernelspec": {
   "display_name": "Python 3 (ipykernel)",
   "language": "python",
   "name": "python3"
  },
  "language_info": {
   "codemirror_mode": {
    "name": "ipython",
    "version": 3
   },
   "file_extension": ".py",
   "mimetype": "text/x-python",
   "name": "python",
   "nbconvert_exporter": "python",
   "pygments_lexer": "ipython3",
   "version": "3.10.7"
  }
 },
 "nbformat": 4,
 "nbformat_minor": 5
}

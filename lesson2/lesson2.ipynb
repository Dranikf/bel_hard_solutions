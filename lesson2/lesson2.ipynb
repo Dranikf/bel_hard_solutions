{
 "cells": [
  {
   "cell_type": "markdown",
   "id": "d9956d3f-f2f2-4fa2-a1a7-5828f13f76f5",
   "metadata": {},
   "source": [
    "Числа фибоначи"
   ]
  },
  {
   "cell_type": "code",
   "execution_count": 1,
   "id": "f5c9f395-aaca-45d7-b1f4-a3ba0d883d43",
   "metadata": {},
   "outputs": [
    {
     "name": "stdout",
     "output_type": "stream",
     "text": [
      "1,1,2,3,5,8,13,21,34,55,89,144,233,377,610,987,1597,2584,4181,6765,"
     ]
    }
   ],
   "source": [
    "s = 1\n",
    "\n",
    "a = 1\n",
    "b = 0\n",
    "\n",
    "for i in range(0, 20):\n",
    "    c = a + b\n",
    "    a = b\n",
    "    b = c\n",
    "    \n",
    "    print(c, end = \",\")"
   ]
  },
  {
   "cell_type": "markdown",
   "id": "b34b1d6b-1271-4063-a807-69c84121a672",
   "metadata": {},
   "source": [
    "Задача с амебами"
   ]
  },
  {
   "cell_type": "code",
   "execution_count": 2,
   "id": "19e0dfbe-a724-4397-9658-ac9a31d02618",
   "metadata": {},
   "outputs": [
    {
     "name": "stdout",
     "output_type": "stream",
     "text": [
      "В  3  час было  2  амеб\n",
      "В  6  час было  4  амеб\n",
      "В  9  час было  8  амеб\n",
      "В  12  час было  16  амеб\n",
      "В  15  час было  32  амеб\n",
      "В  18  час было  64  амеб\n",
      "В  21  час было  128  амеб\n",
      "В  24  час было  256  амеб\n"
     ]
    }
   ],
   "source": [
    "a = 1\n",
    "\n",
    "for i in range(3,25, 3):\n",
    "    a *= 2\n",
    "    print(\"В \", i, \" час было \", a, \" амеб\")"
   ]
  },
  {
   "cell_type": "markdown",
   "id": "daf6a326-1c9a-499a-8e26-32f40a970961",
   "metadata": {},
   "source": [
    "<img src = \"5.72.png\">"
   ]
  },
  {
   "cell_type": "code",
   "execution_count": 3,
   "id": "e3d16c43-a722-446e-a6fd-92fd265b40f1",
   "metadata": {},
   "outputs": [
    {
     "name": "stdout",
     "output_type": "stream",
     "text": [
      "День  1  пробег  10\n",
      "День  2  пробег  21.0\n",
      "День  3  пробег  44.1\n",
      "День  4  пробег  92.61000000000001\n",
      "День  5  пробег  194.48100000000005\n",
      "День  6  пробег  408.4101000000001\n",
      "День  7  пробег  857.6612100000002\n",
      "День  8  пробег  1801.0885410000005\n",
      "Суммарынй пробег  7201.636787100002\n"
     ]
    }
   ],
   "source": [
    "n = 10\n",
    "s = 0\n",
    "\n",
    "\n",
    "for i in range(8):\n",
    "    print(\"День \", i + 1, \" пробег \", n)\n",
    "    n += n*1.1 \n",
    "    s += n\n",
    "    \n",
    "print(\"Суммарынй пробег \", s)"
   ]
  },
  {
   "cell_type": "markdown",
   "id": "8c00fcf4-06bb-492e-9ebf-d663f9850928",
   "metadata": {},
   "source": [
    "<img src = \"5.84.png\">"
   ]
  },
  {
   "cell_type": "code",
   "execution_count": 4,
   "id": "518f2ec6-27a1-4208-8108-96ffbaa5415c",
   "metadata": {},
   "outputs": [
    {
     "name": "stdout",
     "output_type": "stream",
     "text": [
      "719977636095201\n"
     ]
    }
   ],
   "source": [
    "max_num = 5\n",
    "s = max_num**2\n",
    "\n",
    "\n",
    "for i in range(max_num-1, 0, -1):\n",
    "    s -= i**2\n",
    "    s *= s\n",
    "    \n",
    "print(s)"
   ]
  },
  {
   "cell_type": "markdown",
   "id": "367e8a08-b243-4582-a479-d1ae6ff41874",
   "metadata": {},
   "source": [
    "<img src=\"5.86.png\">"
   ]
  },
  {
   "cell_type": "code",
   "execution_count": 5,
   "id": "d274ad30-2dec-4964-92b4-803e3d976657",
   "metadata": {},
   "outputs": [
    {
     "name": "stdin",
     "output_type": "stream",
     "text": [
      "Возвести число в квадрат 3\n"
     ]
    },
    {
     "name": "stdout",
     "output_type": "stream",
     "text": [
      "3  в квадрате, это  9\n"
     ]
    }
   ],
   "source": [
    "n = int(input(\"Возвести число в квадрат\"))\n",
    "\n",
    "i = 1\n",
    "s = 0\n",
    "while i <= 2*n-1:\n",
    "    s += i\n",
    "    i += 2\n",
    "    \n",
    "print(n, \" в квадрате, это \", s)"
   ]
  },
  {
   "cell_type": "markdown",
   "id": "cbc04a6a-75de-4867-99ba-23f79fd0cbbd",
   "metadata": {},
   "source": [
    "<img src = \"5.88.png\">"
   ]
  },
  {
   "cell_type": "code",
   "execution_count": 6,
   "id": "32232bb9-4cd0-4d14-a825-69e547dccbfe",
   "metadata": {},
   "outputs": [
    {
     "name": "stdin",
     "output_type": "stream",
     "text": [
      "ввечите число которое требуется возвести в куб 3\n"
     ]
    },
    {
     "name": "stdout",
     "output_type": "stream",
     "text": [
      "Первое число определено как  7\n",
      "3  в кубе  27\n"
     ]
    }
   ],
   "source": [
    "n = int(input(\"ввечите число которое требуется возвести в куб\"))\n",
    "\n",
    "def get_first_number(n):\n",
    "    return n*(n-1) + 1\n",
    "\n",
    "first_number = get_first_number(n)\n",
    "print(\"Первое число определено как \", first_number)\n",
    "\n",
    "\n",
    "res = 0\n",
    "for i in range(n):\n",
    "    res += first_number\n",
    "    first_number += 2\n",
    "    \n",
    "print(n, \" в кубе \", res)"
   ]
  },
  {
   "cell_type": "markdown",
   "id": "e8881cfb-3464-4f1f-88f2-0f5d933d6d68",
   "metadata": {},
   "source": [
    "<img src = \"5.92.png\">"
   ]
  },
  {
   "cell_type": "code",
   "execution_count": 7,
   "id": "6eaeec1e-acc7-4c22-ab3a-3ac39af9d9c4",
   "metadata": {},
   "outputs": [
    {
     "name": "stdout",
     "output_type": "stream",
     "text": [
      "1.7579327566180045\n"
     ]
    }
   ],
   "source": [
    "s = 50**(1/2)\n",
    "\n",
    "for i in range(49, 0, -1):\n",
    "    s = (s + i)**(1/2)\n",
    "    \n",
    "print(s)"
   ]
  },
  {
   "cell_type": "markdown",
   "id": "79763d56-91eb-4afc-b9c0-0b24107abcb1",
   "metadata": {},
   "source": [
    "6.25"
   ]
  },
  {
   "cell_type": "code",
   "execution_count": 20,
   "id": "02ad12e2-2533-4ea0-99e5-7cf3bf465e63",
   "metadata": {},
   "outputs": [
    {
     "name": "stdin",
     "output_type": "stream",
     "text": [
      " 2\n",
      " 3\n",
      " -4\n",
      " -5\n",
      " 1\n"
     ]
    },
    {
     "name": "stdout",
     "output_type": "stream",
     "text": [
      "Знак сменяется  2  раз\n"
     ]
    }
   ],
   "source": [
    "a = []\n",
    "\n",
    "for i in range(5):\n",
    "    a.append(int(input(\"\")))\n",
    "\n",
    "is_positive = a[0] > 0\n",
    "s = 0\n",
    "for i in a:\n",
    "    if is_positive != (i > 0):\n",
    "        s += 1\n",
    "    is_positive = (i > 0)\n",
    "    \n",
    "print(\"Знак сменяется \", s, \" раз\")"
   ]
  },
  {
   "cell_type": "markdown",
   "id": "4adcc5f4-f6e1-4ebd-a7c7-03c21d798b87",
   "metadata": {},
   "source": [
    "Мое решение 2"
   ]
  },
  {
   "cell_type": "code",
   "execution_count": 24,
   "id": "6623f95d-5705-4c69-9405-32d88457f798",
   "metadata": {},
   "outputs": [
    {
     "name": "stdin",
     "output_type": "stream",
     "text": [
      " 1\n",
      " -1\n",
      " -1\n",
      " 1\n",
      " 1\n"
     ]
    },
    {
     "name": "stdout",
     "output_type": "stream",
     "text": [
      "Знак поменялся  2  раз\n"
     ]
    }
   ],
   "source": [
    "prev_n = int(input(\"\"))\n",
    "s = 0\n",
    "\n",
    "for i in range(4):\n",
    "    n = int(input(\"\"))\n",
    "    if (prev_n > 0) != (n>0):\n",
    "        s += 1\n",
    "    prev_n = n\n",
    "\n",
    "print(\"Знак поменялся \", s, \" раз\")"
   ]
  },
  {
   "cell_type": "markdown",
   "id": "35bd53ff-136f-423a-83ed-f5976e44b16e",
   "metadata": {},
   "source": [
    "Решение преподавателя"
   ]
  },
  {
   "cell_type": "code",
   "execution_count": 28,
   "id": "7f556cbe-c639-4123-9dbd-07171f85b7d0",
   "metadata": {},
   "outputs": [
    {
     "name": "stdin",
     "output_type": "stream",
     "text": [
      " 10\n",
      " -4\n",
      " 2\n",
      " -3\n",
      " -6\n",
      " 9\n"
     ]
    },
    {
     "name": "stdout",
     "output_type": "stream",
     "text": [
      "Знак поменялся  4  раз\n"
     ]
    }
   ],
   "source": [
    "prev_n = int(input(\"\"))\n",
    "s = 0\n",
    "\n",
    "for i in range(5):\n",
    "    n = int(input(\"\"))\n",
    "    if prev_n*n < 0:\n",
    "        s += 1\n",
    "    prev_n = n\n",
    "\n",
    "print(\"Знак поменялся \", s, \" раз\")"
   ]
  },
  {
   "cell_type": "markdown",
   "id": "b34667b7-fa7e-4be2-9d68-dc60d209f330",
   "metadata": {},
   "source": [
    "Разбить число на цифры"
   ]
  },
  {
   "cell_type": "code",
   "execution_count": 38,
   "id": "a884e2bf-97c6-45df-9ce6-4733bbcca973",
   "metadata": {},
   "outputs": [
    {
     "name": "stdin",
     "output_type": "stream",
     "text": [
      "Введите лисло для разбиение на цифры 432424\n"
     ]
    },
    {
     "name": "stdout",
     "output_type": "stream",
     "text": [
      "4,2,4,2,3,4,"
     ]
    }
   ],
   "source": [
    "n = int(input(\"Введите лисло для разбиение на цифры\"))\n",
    "\n",
    "while n > 0:\n",
    "    print(n % 10, end = \",\")\n",
    "    n //= 10"
   ]
  },
  {
   "cell_type": "markdown",
   "id": "085c0d5e-bdc0-4520-892e-7d27956f12a2",
   "metadata": {},
   "source": [
    "<img src=\"6.111.png\">"
   ]
  },
  {
   "cell_type": "code",
   "execution_count": 48,
   "id": "a3a36ff3-c382-4ebd-b66c-ebb9d219beeb",
   "metadata": {},
   "outputs": [
    {
     "name": "stdin",
     "output_type": "stream",
     "text": [
      "число 120\n"
     ]
    },
    {
     "name": "stdout",
     "output_type": "stream",
     "text": [
      "Это факториал  5\n"
     ]
    }
   ],
   "source": [
    "fact_res = int(input(\"число\"))\n",
    "cur_val = 1\n",
    "i = 2\n",
    "\n",
    "while cur_val != fact_res:\n",
    "    cur_val *= i\n",
    "    i += 1\n",
    "    \n",
    "    \n",
    "print(\"Это факториал \", i - 1)"
   ]
  },
  {
   "cell_type": "markdown",
   "id": "c6a20b88-c8d3-4ea8-8cf5-a69567c19fee",
   "metadata": {},
   "source": [
    "# Фишки работы со списками"
   ]
  },
  {
   "cell_type": "markdown",
   "id": "756c448a-1446-4d63-9f15-b5397784bb6d",
   "metadata": {},
   "source": [
    "Сравнение списков"
   ]
  },
  {
   "cell_type": "code",
   "execution_count": 52,
   "id": "8addc0ce-0468-47e4-a616-6821708673a8",
   "metadata": {},
   "outputs": [
    {
     "data": {
      "text/plain": [
       "True"
      ]
     },
     "execution_count": 52,
     "metadata": {},
     "output_type": "execute_result"
    }
   ],
   "source": [
    "numbers = [1,2,3,4,5,6,7,8,9]\n",
    "numbers2 = list(range(1,10))\n",
    "numbers == numbers2"
   ]
  },
  {
   "cell_type": "code",
   "execution_count": 54,
   "id": "8b2ce955-ea10-4f8e-ba60-226c172a1c8c",
   "metadata": {},
   "outputs": [
    {
     "data": {
      "text/plain": [
       "[1, 2, 3, 11, 4, 5, 6, 7]"
      ]
     },
     "execution_count": 54,
     "metadata": {},
     "output_type": "execute_result"
    }
   ],
   "source": [
    "a = [1,2,3,4,5,6,7]\n",
    "a.insert(3, 11)\n",
    "a"
   ]
  },
  {
   "cell_type": "markdown",
   "id": "5c304507-0571-401b-a246-0a09a809091a",
   "metadata": {},
   "source": [
    "Условие сортировки"
   ]
  },
  {
   "cell_type": "code",
   "execution_count": null,
   "id": "fccfa09e-4813-4d0b-bdb4-4dfd0d7db0e6",
   "metadata": {},
   "outputs": [],
   "source": [
    "users = [\"Tom\", \"bob\", \"alice\", \"Sam\", \"Bill\"]\n"
   ]
  },
  {
   "cell_type": "code",
   "execution_count": 56,
   "id": "6c1dec93-74c9-4e10-9f6e-ad0ea68c17ce",
   "metadata": {},
   "outputs": [
    {
     "data": {
      "text/plain": [
       "'tom'"
      ]
     },
     "execution_count": 56,
     "metadata": {},
     "output_type": "execute_result"
    }
   ],
   "source": [
    "str.lower(\"Tom\")"
   ]
  },
  {
   "cell_type": "markdown",
   "id": "5d5faf84-3390-4cc3-928a-0358786899c2",
   "metadata": {},
   "source": [
    "# Домашнее задание\n",
    "\n",
    "5.89-5.95 <br>\n",
    "11.6-11.10 <br>\n",
    "11.11<br>\n",
    "11.24-11.28"
   ]
  }
 ],
 "metadata": {
  "kernelspec": {
   "display_name": "Python 3 (ipykernel)",
   "language": "python",
   "name": "python3"
  },
  "language_info": {
   "codemirror_mode": {
    "name": "ipython",
    "version": 3
   },
   "file_extension": ".py",
   "mimetype": "text/x-python",
   "name": "python",
   "nbconvert_exporter": "python",
   "pygments_lexer": "ipython3",
   "version": "3.10.7"
  }
 },
 "nbformat": 4,
 "nbformat_minor": 5
}

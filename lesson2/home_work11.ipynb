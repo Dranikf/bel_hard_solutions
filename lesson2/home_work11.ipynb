{
 "cells": [
  {
   "cell_type": "markdown",
   "id": "d8bfe56e-4279-4550-b88d-e908018cef47",
   "metadata": {},
   "source": [
    "**Домашнее задание по теме 12 (списки)**"
   ]
  },
  {
   "cell_type": "markdown",
   "id": "758b5b14-9ead-4f4c-8d78-f177b3a62e16",
   "metadata": {},
   "source": [
    "<img src=\"11.6.png\">\n",
    "\n",
    "Очевдно, задание на испльзование `list.append`"
   ]
  },
  {
   "cell_type": "code",
   "execution_count": 2,
   "id": "3086965b-4ca9-4d3b-b74d-c30550dee8ba",
   "metadata": {},
   "outputs": [
    {
     "name": "stdout",
     "output_type": "stream",
     "text": [
      "[1, 2, 3, 4, 5, 6, 7, 8, 9, 10, 11, 12]\n"
     ]
    }
   ],
   "source": [
    "res = []\n",
    "\n",
    "for i in range(1,13):\n",
    "    res.append(i)\n",
    "    \n",
    "print(res)"
   ]
  },
  {
   "cell_type": "markdown",
   "id": "fe939b0c-e4e2-4a67-9014-57c242adf1ed",
   "metadata": {},
   "source": [
    "Но в python есть однострочники"
   ]
  },
  {
   "cell_type": "code",
   "execution_count": 3,
   "id": "b61ebb03-0d53-4f30-80de-4f73180b45f3",
   "metadata": {},
   "outputs": [
    {
     "data": {
      "text/plain": [
       "[1, 2, 3, 4, 5, 6, 7, 8, 9, 10, 11, 12]"
      ]
     },
     "execution_count": 3,
     "metadata": {},
     "output_type": "execute_result"
    }
   ],
   "source": [
    "[i for i in range(1,13)]"
   ]
  },
  {
   "cell_type": "markdown",
   "id": "953e76e6-a4f7-458f-a35a-f5e6c431d4f9",
   "metadata": {},
   "source": [
    "<img src=\"11.7.png\">"
   ]
  },
  {
   "cell_type": "code",
   "execution_count": 5,
   "id": "15ee0cc8-6066-4a55-9f74-52d14068ea84",
   "metadata": {},
   "outputs": [
    {
     "name": "stdout",
     "output_type": "stream",
     "text": [
      "[20, 19, 18, 17, 16, 15, 14, 13, 12, 11, 10, 9, 8, 7, 6, 5, 4, 3, 2, 1]\n"
     ]
    }
   ],
   "source": [
    "a = []\n",
    "\n",
    "for i in range(20, 0, -1):\n",
    "    a.append(i)\n",
    "    \n",
    "print(a)"
   ]
  },
  {
   "cell_type": "code",
   "execution_count": 6,
   "id": "64db9c3e-37e2-4a86-9275-24978aa7c38f",
   "metadata": {},
   "outputs": [
    {
     "data": {
      "text/plain": [
       "[20, 19, 18, 17, 16, 15, 14, 13, 12, 11, 10, 9, 8, 7, 6, 5, 4, 3, 2, 1]"
      ]
     },
     "execution_count": 6,
     "metadata": {},
     "output_type": "execute_result"
    }
   ],
   "source": [
    "[i for i in range(20,0,-1)]"
   ]
  },
  {
   "cell_type": "markdown",
   "id": "249d7b92-8433-46f0-a882-9ec45997b505",
   "metadata": {},
   "source": [
    "<img src=\"11.8.png\">"
   ]
  },
  {
   "cell_type": "code",
   "execution_count": 13,
   "id": "86fad9f9-e42a-45fc-b3f6-4080b6d247b2",
   "metadata": {},
   "outputs": [
    {
     "name": "stdin",
     "output_type": "stream",
     "text": [
      "Ведите 0 элемент: 4\n",
      "Ведите 1 элемент: 5\n",
      "Ведите 2 элемент: 3\n",
      "Ведите 3 элемент: 2\n",
      "Ведите 4 элемент: 5\n",
      "Ведите 5 элемент: 7\n",
      "Ведите 6 элемент: 8\n",
      "Ведите 7 элемент: 1\n"
     ]
    },
    {
     "name": "stdout",
     "output_type": "stream",
     "text": [
      "a)  [1, 2, 3, 4, 5, 5, 7, 8]\n",
      "б)  [8, 7, 5, 5, 4, 3, 2, 1]\n"
     ]
    }
   ],
   "source": [
    "res = [\n",
    "    int(input(\"Ведите \" + str(i) + \" элемент:\")) \n",
    "    for i in range(8)\n",
    "]\n",
    "\n",
    "res.sort()\n",
    "print(\"a) \", res)\n",
    "res.sort(reverse = True)\n",
    "print(\"б) \", res)"
   ]
  },
  {
   "cell_type": "markdown",
   "id": "ed37df9f-c8ad-41ce-a83b-3a85ed79a0ca",
   "metadata": {},
   "source": [
    "<img src=\"11.9.png\">"
   ]
  },
  {
   "cell_type": "markdown",
   "id": "6b305abf-f74f-4b50-a6c2-d17e33d64a83",
   "metadata": {},
   "source": [
    "a)"
   ]
  },
  {
   "cell_type": "code",
   "execution_count": 16,
   "id": "debd3534-18bf-460f-bc0c-43adc47ca69b",
   "metadata": {},
   "outputs": [
    {
     "name": "stdin",
     "output_type": "stream",
     "text": [
      "Введите первый член: 3\n",
      "Введите разность: 2\n"
     ]
    },
    {
     "data": {
      "text/plain": [
       "[3, 5, 7, 9, 11, 13, 15, 17, 19, 21]"
      ]
     },
     "execution_count": 16,
     "metadata": {},
     "output_type": "execute_result"
    }
   ],
   "source": [
    "a = int(input(\"Введите первый член:\"))\n",
    "p = int(input(\"Введите разность:\"))\n",
    "\n",
    "\n",
    "[a + i*p for i in range(10)]"
   ]
  },
  {
   "cell_type": "markdown",
   "id": "d5de682b-5067-45ab-954f-b2c74f0f7eed",
   "metadata": {},
   "source": [
    "б)"
   ]
  },
  {
   "cell_type": "code",
   "execution_count": 18,
   "id": "b465460c-eefb-4240-8c37-189cc9344cd7",
   "metadata": {},
   "outputs": [
    {
     "name": "stdin",
     "output_type": "stream",
     "text": [
      "Введите первый член: 3\n",
      "Введите знаменатель: 2\n"
     ]
    },
    {
     "data": {
      "text/plain": [
       "[3,\n",
       " 6,\n",
       " 12,\n",
       " 24,\n",
       " 48,\n",
       " 96,\n",
       " 192,\n",
       " 384,\n",
       " 768,\n",
       " 1536,\n",
       " 3072,\n",
       " 6144,\n",
       " 12288,\n",
       " 24576,\n",
       " 49152,\n",
       " 98304,\n",
       " 196608,\n",
       " 393216,\n",
       " 786432,\n",
       " 1572864]"
      ]
     },
     "execution_count": 18,
     "metadata": {},
     "output_type": "execute_result"
    }
   ],
   "source": [
    "a = int(input(\"Введите первый член:\"))\n",
    "z = int(input(\"Введите знаменатель:\"))\n",
    "\n",
    "[a*(z**(i)) for i in range(20)]"
   ]
  },
  {
   "cell_type": "markdown",
   "id": "78be8b37-1aaa-4aaf-b88c-72cc09d0cdc0",
   "metadata": {},
   "source": [
    "в)"
   ]
  },
  {
   "cell_type": "code",
   "execution_count": 21,
   "id": "bbc6345a-ec1d-4d66-9887-ca96bd78f861",
   "metadata": {},
   "outputs": [
    {
     "data": {
      "text/plain": [
       "[1, 1, 2, 3, 5, 8, 13, 21, 34, 55, 89, 144]"
      ]
     },
     "execution_count": 21,
     "metadata": {},
     "output_type": "execute_result"
    }
   ],
   "source": [
    "a = 1\n",
    "b = 1\n",
    "\n",
    "def move_fibonachi():\n",
    "    global a,b\n",
    "    c = a + b\n",
    "    a = b\n",
    "    b = c\n",
    "    return c\n",
    "\n",
    "[a,b] + [move_fibonachi() for i in range(10)]"
   ]
  },
  {
   "cell_type": "markdown",
   "id": "69db9840-d69a-43bc-8cd2-e3d302b5c5db",
   "metadata": {},
   "source": [
    "<img src=\"11.10.png\">"
   ]
  },
  {
   "cell_type": "code",
   "execution_count": 26,
   "id": "eb8a7472-f956-49a5-93cb-9a8ab94c0cb2",
   "metadata": {},
   "outputs": [
    {
     "name": "stdin",
     "output_type": "stream",
     "text": [
      "Ведите n: 48092402342\n"
     ]
    },
    {
     "name": "stdout",
     "output_type": "stream",
     "text": [
      "[2, 4, 3, 2, 0, 4, 2, 9, 0, 8, 4]\n"
     ]
    }
   ],
   "source": [
    "n = int(input(\"Ведите n:\"))\n",
    "a = []\n",
    "\n",
    "while n > 0:\n",
    "    a.append(n%10)\n",
    "    n //= 10\n",
    "    \n",
    "print(a)"
   ]
  }
 ],
 "metadata": {
  "kernelspec": {
   "display_name": "Python 3 (ipykernel)",
   "language": "python",
   "name": "python3"
  },
  "language_info": {
   "codemirror_mode": {
    "name": "ipython",
    "version": 3
   },
   "file_extension": ".py",
   "mimetype": "text/x-python",
   "name": "python",
   "nbconvert_exporter": "python",
   "pygments_lexer": "ipython3",
   "version": "3.10.7"
  }
 },
 "nbformat": 4,
 "nbformat_minor": 5
}

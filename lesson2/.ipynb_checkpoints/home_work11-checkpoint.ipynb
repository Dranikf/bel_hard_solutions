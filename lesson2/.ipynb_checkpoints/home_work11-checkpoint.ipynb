{
 "cells": [
  {
   "cell_type": "markdown",
   "id": "d8bfe56e-4279-4550-b88d-e908018cef47",
   "metadata": {},
   "source": [
    "**Домашнее задание по теме 12 (списки)**"
   ]
  },
  {
   "cell_type": "markdown",
   "id": "758b5b14-9ead-4f4c-8d78-f177b3a62e16",
   "metadata": {},
   "source": [
    "<img src=\"11.6.png\">\n",
    "\n",
    "Очевдно, задание на испльзование `list.append`"
   ]
  },
  {
   "cell_type": "code",
   "execution_count": 2,
   "id": "3086965b-4ca9-4d3b-b74d-c30550dee8ba",
   "metadata": {},
   "outputs": [
    {
     "name": "stdout",
     "output_type": "stream",
     "text": [
      "[1, 2, 3, 4, 5, 6, 7, 8, 9, 10, 11, 12]\n"
     ]
    }
   ],
   "source": [
    "res = []\n",
    "\n",
    "for i in range(1,13):\n",
    "    res.append(i)\n",
    "    \n",
    "print(res)"
   ]
  },
  {
   "cell_type": "markdown",
   "id": "fe939b0c-e4e2-4a67-9014-57c242adf1ed",
   "metadata": {},
   "source": []
  }
 ],
 "metadata": {
  "kernelspec": {
   "display_name": "Python 3 (ipykernel)",
   "language": "python",
   "name": "python3"
  },
  "language_info": {
   "codemirror_mode": {
    "name": "ipython",
    "version": 3
   },
   "file_extension": ".py",
   "mimetype": "text/x-python",
   "name": "python",
   "nbconvert_exporter": "python",
   "pygments_lexer": "ipython3",
   "version": "3.10.7"
  }
 },
 "nbformat": 4,
 "nbformat_minor": 5
}

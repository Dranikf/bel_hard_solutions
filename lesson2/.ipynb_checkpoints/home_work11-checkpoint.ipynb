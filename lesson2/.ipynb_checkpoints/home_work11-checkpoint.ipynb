{
 "cells": [
  {
   "cell_type": "markdown",
   "id": "d8bfe56e-4279-4550-b88d-e908018cef47",
   "metadata": {},
   "source": [
    "**Домашнее задание по теме 12 (списки)**"
   ]
  },
  {
   "cell_type": "markdown",
   "id": "758b5b14-9ead-4f4c-8d78-f177b3a62e16",
   "metadata": {},
   "source": [
    "<img src=\"11.6.png\">\n",
    "\n",
    "Очевдно, задание на испльзование `list.append`"
   ]
  },
  {
   "cell_type": "code",
   "execution_count": 2,
   "id": "3086965b-4ca9-4d3b-b74d-c30550dee8ba",
   "metadata": {},
   "outputs": [
    {
     "name": "stdout",
     "output_type": "stream",
     "text": [
      "[1, 2, 3, 4, 5, 6, 7, 8, 9, 10, 11, 12]\n"
     ]
    }
   ],
   "source": [
    "res = []\n",
    "\n",
    "for i in range(1,13):\n",
    "    res.append(i)\n",
    "    \n",
    "print(res)"
   ]
  },
  {
   "cell_type": "markdown",
   "id": "fe939b0c-e4e2-4a67-9014-57c242adf1ed",
   "metadata": {},
   "source": [
    "Но в python есть однострочники"
   ]
  },
  {
   "cell_type": "code",
   "execution_count": 3,
   "id": "b61ebb03-0d53-4f30-80de-4f73180b45f3",
   "metadata": {},
   "outputs": [
    {
     "data": {
      "text/plain": [
       "[1, 2, 3, 4, 5, 6, 7, 8, 9, 10, 11, 12]"
      ]
     },
     "execution_count": 3,
     "metadata": {},
     "output_type": "execute_result"
    }
   ],
   "source": [
    "[i for i in range(1,13)]"
   ]
  },
  {
   "cell_type": "markdown",
   "id": "953e76e6-a4f7-458f-a35a-f5e6c431d4f9",
   "metadata": {},
   "source": [
    "<img src=\"11.7.png\">"
   ]
  },
  {
   "cell_type": "code",
   "execution_count": 5,
   "id": "15ee0cc8-6066-4a55-9f74-52d14068ea84",
   "metadata": {},
   "outputs": [
    {
     "name": "stdout",
     "output_type": "stream",
     "text": [
      "[20, 19, 18, 17, 16, 15, 14, 13, 12, 11, 10, 9, 8, 7, 6, 5, 4, 3, 2, 1]\n"
     ]
    }
   ],
   "source": [
    "a = []\n",
    "\n",
    "for i in range(20, 0, -1):\n",
    "    a.append(i)\n",
    "    \n",
    "print(a)"
   ]
  },
  {
   "cell_type": "code",
   "execution_count": 6,
   "id": "64db9c3e-37e2-4a86-9275-24978aa7c38f",
   "metadata": {},
   "outputs": [
    {
     "data": {
      "text/plain": [
       "[20, 19, 18, 17, 16, 15, 14, 13, 12, 11, 10, 9, 8, 7, 6, 5, 4, 3, 2, 1]"
      ]
     },
     "execution_count": 6,
     "metadata": {},
     "output_type": "execute_result"
    }
   ],
   "source": [
    "[i for i in range(20,0,-1)]"
   ]
  },
  {
   "cell_type": "markdown",
   "id": "249d7b92-8433-46f0-a882-9ec45997b505",
   "metadata": {},
   "source": [
    "<img src=\"11.8.png\">"
   ]
  },
  {
   "cell_type": "code",
   "execution_count": 13,
   "id": "86fad9f9-e42a-45fc-b3f6-4080b6d247b2",
   "metadata": {},
   "outputs": [
    {
     "name": "stdin",
     "output_type": "stream",
     "text": [
      "Ведите 0 элемент: 4\n",
      "Ведите 1 элемент: 5\n",
      "Ведите 2 элемент: 3\n",
      "Ведите 3 элемент: 2\n",
      "Ведите 4 элемент: 5\n",
      "Ведите 5 элемент: 7\n",
      "Ведите 6 элемент: 8\n",
      "Ведите 7 элемент: 1\n"
     ]
    },
    {
     "name": "stdout",
     "output_type": "stream",
     "text": [
      "a)  [1, 2, 3, 4, 5, 5, 7, 8]\n",
      "б)  [8, 7, 5, 5, 4, 3, 2, 1]\n"
     ]
    }
   ],
   "source": [
    "res = [\n",
    "    int(input(\"Ведите \" + str(i) + \" элемент:\")) \n",
    "    for i in range(8)\n",
    "]\n",
    "\n",
    "res.sort()\n",
    "print(\"a) \", res)\n",
    "res.sort(reverse = True)\n",
    "print(\"б) \", res)"
   ]
  },
  {
   "cell_type": "markdown",
   "id": "ed37df9f-c8ad-41ce-a83b-3a85ed79a0ca",
   "metadata": {},
   "source": [
    "<img src=\"11.9.png\">"
   ]
  },
  {
   "cell_type": "markdown",
   "id": "6b305abf-f74f-4b50-a6c2-d17e33d64a83",
   "metadata": {},
   "source": [
    "a)"
   ]
  },
  {
   "cell_type": "code",
   "execution_count": 16,
   "id": "debd3534-18bf-460f-bc0c-43adc47ca69b",
   "metadata": {},
   "outputs": [
    {
     "name": "stdin",
     "output_type": "stream",
     "text": [
      "Введите первый член: 3\n",
      "Введите разность: 2\n"
     ]
    },
    {
     "data": {
      "text/plain": [
       "[3, 5, 7, 9, 11, 13, 15, 17, 19, 21]"
      ]
     },
     "execution_count": 16,
     "metadata": {},
     "output_type": "execute_result"
    }
   ],
   "source": [
    "a = int(input(\"Введите первый член:\"))\n",
    "p = int(input(\"Введите разность:\"))\n",
    "\n",
    "\n",
    "[a + i*p for i in range(10)]"
   ]
  },
  {
   "cell_type": "markdown",
   "id": "d5de682b-5067-45ab-954f-b2c74f0f7eed",
   "metadata": {},
   "source": [
    "б)"
   ]
  },
  {
   "cell_type": "code",
   "execution_count": 18,
   "id": "b465460c-eefb-4240-8c37-189cc9344cd7",
   "metadata": {},
   "outputs": [
    {
     "name": "stdin",
     "output_type": "stream",
     "text": [
      "Введите первый член: 3\n",
      "Введите знаменатель: 2\n"
     ]
    },
    {
     "data": {
      "text/plain": [
       "[3,\n",
       " 6,\n",
       " 12,\n",
       " 24,\n",
       " 48,\n",
       " 96,\n",
       " 192,\n",
       " 384,\n",
       " 768,\n",
       " 1536,\n",
       " 3072,\n",
       " 6144,\n",
       " 12288,\n",
       " 24576,\n",
       " 49152,\n",
       " 98304,\n",
       " 196608,\n",
       " 393216,\n",
       " 786432,\n",
       " 1572864]"
      ]
     },
     "execution_count": 18,
     "metadata": {},
     "output_type": "execute_result"
    }
   ],
   "source": [
    "a = int(input(\"Введите первый член:\"))\n",
    "z = int(input(\"Введите знаменатель:\"))\n",
    "\n",
    "[a*(z**(i)) for i in range(20)]"
   ]
  },
  {
   "cell_type": "markdown",
   "id": "78be8b37-1aaa-4aaf-b88c-72cc09d0cdc0",
   "metadata": {},
   "source": [
    "в)"
   ]
  },
  {
   "cell_type": "code",
   "execution_count": 21,
   "id": "bbc6345a-ec1d-4d66-9887-ca96bd78f861",
   "metadata": {},
   "outputs": [
    {
     "data": {
      "text/plain": [
       "[1, 1, 2, 3, 5, 8, 13, 21, 34, 55, 89, 144]"
      ]
     },
     "execution_count": 21,
     "metadata": {},
     "output_type": "execute_result"
    }
   ],
   "source": [
    "a = 1\n",
    "b = 1\n",
    "\n",
    "def move_fibonachi():\n",
    "    global a,b\n",
    "    c = a + b\n",
    "    a = b\n",
    "    b = c\n",
    "    return c\n",
    "\n",
    "[a,b] + [move_fibonachi() for i in range(10)]"
   ]
  },
  {
   "cell_type": "markdown",
   "id": "69db9840-d69a-43bc-8cd2-e3d302b5c5db",
   "metadata": {},
   "source": [
    "<img src=\"11.10.png\">"
   ]
  },
  {
   "cell_type": "code",
   "execution_count": 26,
   "id": "eb8a7472-f956-49a5-93cb-9a8ab94c0cb2",
   "metadata": {},
   "outputs": [
    {
     "name": "stdin",
     "output_type": "stream",
     "text": [
      "Ведите n: 48092402342\n"
     ]
    },
    {
     "name": "stdout",
     "output_type": "stream",
     "text": [
      "[2, 4, 3, 2, 0, 4, 2, 9, 0, 8, 4]\n"
     ]
    }
   ],
   "source": [
    "n = int(input(\"Ведите n:\"))\n",
    "a = []\n",
    "\n",
    "while n > 0:\n",
    "    a.append(n%10)\n",
    "    n //= 10\n",
    "    \n",
    "print(a)"
   ]
  },
  {
   "cell_type": "markdown",
   "id": "6464dd99-43ae-4735-9dba-e66a88c8d377",
   "metadata": {},
   "source": [
    "<img src=\"11.11.png\">"
   ]
  },
  {
   "cell_type": "code",
   "execution_count": 50,
   "id": "526b9c89-f5f4-43af-b57e-3798441849e3",
   "metadata": {},
   "outputs": [
    {
     "name": "stdout",
     "output_type": "stream",
     "text": [
      "[6, 36, 65, 92, 66, 51, 85, 71, 14, 52, 93, 38, 44, 81, 8, 86, 3, 39, 98, 62, 77]\n"
     ]
    }
   ],
   "source": [
    "from random import random\n",
    "\n",
    "res = []\n",
    "\n",
    "while len(res) <= 20:\n",
    "    num = round(random()*100)\n",
    "    if not (num in res):\n",
    "        res.append(num)\n",
    "        \n",
    "print(res)"
   ]
  },
  {
   "cell_type": "markdown",
   "id": "123d9779-60af-4340-b5c1-00612cd860ce",
   "metadata": {},
   "source": [
    "<img src=\"11.24.png\">"
   ]
  },
  {
   "cell_type": "code",
   "execution_count": 70,
   "id": "7a5e72ce-a7cb-4736-80e2-5ed172967f3e",
   "metadata": {},
   "outputs": [
    {
     "name": "stdout",
     "output_type": "stream",
     "text": [
      "Список элементов  [56, 65, 55, 82, 84, 91, 28, 65, 74, 16, 72, 71, 86, 53, 20, 83, 33, 89, 2, 74]\n"
     ]
    },
    {
     "data": {
      "text/plain": [
       "1.1246129581738644"
      ]
     },
     "execution_count": 70,
     "metadata": {},
     "output_type": "execute_result"
    }
   ],
   "source": [
    "from random import random\n",
    "\n",
    "elements = [round(random()*100) for i in range(20)]\n",
    "print(\"Список элементов \", elements)\n",
    "\n",
    "1/sum([(1/res if res != 0 else 0) for res in elements])"
   ]
  },
  {
   "cell_type": "markdown",
   "id": "9d38f7b8-26b6-4b57-87f8-338087192b46",
   "metadata": {},
   "source": [
    "<img src = \"11.25.png\">"
   ]
  },
  {
   "cell_type": "code",
   "execution_count": 80,
   "id": "14f3ea69-5fc0-4dbe-9106-64050c86c493",
   "metadata": {},
   "outputs": [
    {
     "name": "stdout",
     "output_type": "stream",
     "text": [
      "сводка по осадкам  [87, 74, 8, 75, 75, 43, 3, 61, 77, 59, 8, 67, 4, 32, 79, 57, 51, 85, 47, 34, 83, 14, 57, 70, 34, 87, 12, 15, 42, 29]\n",
      "1 -я декада июня 562\n",
      "2 -я декада июня 464\n",
      "3 -я декада июня 443\n"
     ]
    }
   ],
   "source": [
    "from random import random\n",
    "\n",
    "elements = [round(random()*100) for i in range(30)]\n",
    "print(\"сводка по осадкам \", elements)\n",
    "\n",
    "for i in range(3):\n",
    "    print(i+1, \"-я декада июня\", sum(elements[i*10: (i+1)*10]))"
   ]
  },
  {
   "cell_type": "markdown",
   "id": "1b95c4f2-b255-4895-b839-b0ff819cc205",
   "metadata": {},
   "source": [
    "<img src=\"11.26.png\">"
   ]
  },
  {
   "cell_type": "code",
   "execution_count": 85,
   "id": "dd9fa214-6308-4993-ab63-e1637dae83f4",
   "metadata": {},
   "outputs": [
    {
     "name": "stdout",
     "output_type": "stream",
     "text": [
      "Данные по февральским осадкам  [17, 30, 94, 97, 13, 22, 27, 47, 89, 84, 73, 76, 47, 11, 97, 79, 4, 14, 51, 24, 58, 50, 42, 18, 38, 21, 87, 89]\n",
      "средние осдки составили  49.964285714285715\n"
     ]
    }
   ],
   "source": [
    "fedruary_rains = [round(random()*100) for i in range(28)]\n",
    "print(\"Данные по февральским осадкам \", fedruary_rains)\n",
    "\n",
    "average_rains = sum(fedruary_rains)/len(fedruary_rains)\n",
    "print(\"средние осдки составили \", average_rains)"
   ]
  },
  {
   "cell_type": "markdown",
   "id": "a2e68094-bfaf-486e-bff2-b86c495193c3",
   "metadata": {},
   "source": [
    "<img src=\"11.27.png\">"
   ]
  },
  {
   "cell_type": "code",
   "execution_count": 94,
   "id": "30d3412a-e369-4ba2-b3b1-5ce1cf447bcc",
   "metadata": {},
   "outputs": [
    {
     "name": "stdout",
     "output_type": "stream",
     "text": [
      "Сентябрьские осадки составили:  [23, 67, 86, 8, 69, 69, 29, 9, 29, 93, 54, 14, 25, 71, 15, 62, 60, 99, 0, 28, 85, 1, 7, 47, 4, 59, 88, 18, 12, 76]\n",
      "1 -я декада сентября 48.2\n",
      "2 -я декада сентября 42.8\n",
      "3 -я декада сентября 39.7\n"
     ]
    }
   ],
   "source": [
    "september_rains = [round(random()*100) for i in range(30)]\n",
    "print(\"Сентябрьские осадки составили: \", september_rains)\n",
    "for i in range(3):\n",
    "    print(\n",
    "        i+1, \"-я декада сентября\", \n",
    "        sum(september_rains[i*10: (i+1)*10])/10\n",
    "    )"
   ]
  },
  {
   "cell_type": "markdown",
   "id": "e33fec8d-9b97-4170-bf80-a047fa499d8c",
   "metadata": {},
   "source": [
    "<img src=\"11.28.png\">"
   ]
  },
  {
   "cell_type": "code",
   "execution_count": 101,
   "id": "5ff1edcb-70bd-453f-9e94-8af774dd1abd",
   "metadata": {},
   "outputs": [
    {
     "name": "stdin",
     "output_type": "stream",
     "text": [
      "e для выхода 3\n",
      "e для выхода 4\n",
      "e для выхода 5\n",
      "e для выхода 3\n",
      "e для выхода e\n"
     ]
    },
    {
     "name": "stdout",
     "output_type": "stream",
     "text": [
      "Сума элементов введенного массива неотрицательное число\n"
     ]
    }
   ],
   "source": [
    "arr = []\n",
    "while True:\n",
    "    inp = input(\"e для выхода\")\n",
    "    if inp == \"e\":\n",
    "        break\n",
    "    arr.append(int(inp))\n",
    "  \n",
    "if sum(arr) >= 0:\n",
    "    print(\"Сума элементов введенного массива неотрицательное число\")\n",
    "else:\n",
    "    print(\"Сума элементов введенного массива отрицательное число\")"
   ]
  }
 ],
 "metadata": {
  "kernelspec": {
   "display_name": "Python 3 (ipykernel)",
   "language": "python",
   "name": "python3"
  },
  "language_info": {
   "codemirror_mode": {
    "name": "ipython",
    "version": 3
   },
   "file_extension": ".py",
   "mimetype": "text/x-python",
   "name": "python",
   "nbconvert_exporter": "python",
   "pygments_lexer": "ipython3",
   "version": "3.10.7"
  }
 },
 "nbformat": 4,
 "nbformat_minor": 5
}

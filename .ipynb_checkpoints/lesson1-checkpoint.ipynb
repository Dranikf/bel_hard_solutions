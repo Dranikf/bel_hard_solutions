{
 "cells": [
  {
   "cell_type": "markdown",
   "id": "70e557d1-1bee-488a-93ea-4f1a90156aea",
   "metadata": {},
   "source": [
    "# Основы"
   ]
  },
  {
   "cell_type": "markdown",
   "id": "649873dd-0722-4723-8b34-62bac608bf81",
   "metadata": {},
   "source": [
    "Хитрости остатка"
   ]
  },
  {
   "cell_type": "code",
   "execution_count": 3,
   "id": "9c1f59c0-1588-45ac-bcab-b57b3b42b54d",
   "metadata": {},
   "outputs": [
    {
     "data": {
      "text/plain": [
       "5"
      ]
     },
     "execution_count": 3,
     "metadata": {},
     "output_type": "execute_result"
    }
   ],
   "source": [
    "# если делимое меньше делителя\n",
    "5%17"
   ]
  },
  {
   "cell_type": "markdown",
   "id": "c606f56d-284e-47fe-8ffa-6462ea8b79bc",
   "metadata": {},
   "source": [
    "Целая часть от деления"
   ]
  },
  {
   "cell_type": "code",
   "execution_count": 4,
   "id": "b7879b73-98b3-4c39-acb9-753c8e7e8d45",
   "metadata": {},
   "outputs": [
    {
     "data": {
      "text/plain": [
       "4"
      ]
     },
     "execution_count": 4,
     "metadata": {},
     "output_type": "execute_result"
    }
   ],
   "source": [
    "9//2"
   ]
  },
  {
   "cell_type": "code",
   "execution_count": 6,
   "id": "ef40d3f3-4dbd-43d0-a314-ea9c04188251",
   "metadata": {},
   "outputs": [
    {
     "data": {
      "text/plain": [
       "-4"
      ]
     },
     "execution_count": 6,
     "metadata": {},
     "output_type": "execute_result"
    }
   ],
   "source": [
    "-11//3"
   ]
  },
  {
   "cell_type": "code",
   "execution_count": 9,
   "id": "84290eae-89e4-4713-aa21-94556edefd30",
   "metadata": {},
   "outputs": [
    {
     "data": {
      "text/plain": [
       "3.22"
      ]
     },
     "execution_count": 9,
     "metadata": {},
     "output_type": "execute_result"
    }
   ],
   "source": [
    "round(3.2245, 2)"
   ]
  },
  {
   "cell_type": "markdown",
   "id": "f6e92da3-1d77-44c3-881f-7a541d91b891",
   "metadata": {},
   "source": [
    "Краткие записи"
   ]
  },
  {
   "cell_type": "code",
   "execution_count": 12,
   "id": "46e43567-9c41-4f23-94ba-d07d1ddf10fc",
   "metadata": {},
   "outputs": [
    {
     "data": {
      "text/plain": [
       "2"
      ]
     },
     "execution_count": 12,
     "metadata": {},
     "output_type": "execute_result"
    }
   ],
   "source": [
    "c = 5\n",
    "c%=3\n",
    "c"
   ]
  },
  {
   "cell_type": "code",
   "execution_count": 18,
   "id": "461b9f52-97de-48ed-b8b2-d92f621b0dc1",
   "metadata": {},
   "outputs": [
    {
     "data": {
      "text/plain": [
       "(27, 7)"
      ]
     },
     "execution_count": 18,
     "metadata": {},
     "output_type": "execute_result"
    }
   ],
   "source": [
    "a = 10\n",
    "b = 7\n",
    "if a > b:\n",
    "    a+=17\n",
    "else:\n",
    "    b-=21\n",
    "a,b"
   ]
  },
  {
   "cell_type": "code",
   "execution_count": 23,
   "id": "61cbbcc4-23b8-47d1-84dc-bce451cc70b1",
   "metadata": {},
   "outputs": [
    {
     "name": "stdout",
     "output_type": "stream",
     "text": [
      "10\n"
     ]
    }
   ],
   "source": [
    "a = 10\n",
    "b = 8\n",
    "c = 9\n",
    "\n",
    "if a > b and a > c:\n",
    "    print(a)\n",
    "elif c > b:\n",
    "    print(c)\n",
    "else:\n",
    "    print(b)"
   ]
  },
  {
   "cell_type": "markdown",
   "id": "cc396f96-3912-4b4f-9f69-ff40d33587b3",
   "metadata": {},
   "source": [
    "Решение преподавателя"
   ]
  },
  {
   "cell_type": "code",
   "execution_count": 25,
   "id": "bc7d6600-5bc2-425f-9514-4058c5b36dec",
   "metadata": {},
   "outputs": [
    {
     "name": "stdout",
     "output_type": "stream",
     "text": [
      "10\n"
     ]
    }
   ],
   "source": [
    "if c<a>b:\n",
    "    print(a)\n",
    "elif c<b:\n",
    "    print(b)\n",
    "else:\n",
    "    print(c)"
   ]
  },
  {
   "cell_type": "markdown",
   "id": "4e4fb971-0d67-4dec-bcc7-85b08554eac7",
   "metadata": {},
   "source": [
    "Бъет ли ладья?"
   ]
  },
  {
   "cell_type": "code",
   "execution_count": 31,
   "id": "5c28aa73-255e-4dfb-a357-2a7363fddd06",
   "metadata": {},
   "outputs": [
    {
     "name": "stdout",
     "output_type": "stream",
     "text": [
      "Не бъёт\n"
     ]
    }
   ],
   "source": [
    "fig1_coord = (1,3)\n",
    "fig2_coord = (4,6)\n",
    "\n",
    "if (fig1_coord[0] == fig2_coord[0]) or \\\n",
    "   (fig1_coord[1] == fig2_coord[1]):\n",
    "    print(\"Бъет\")\n",
    "else:\n",
    "    print(\"Не бъёт\")"
   ]
  },
  {
   "cell_type": "markdown",
   "id": "67260882-ecb4-4cf1-b95f-7a65f56d12c8",
   "metadata": {},
   "source": [
    "Бъет ли конь?"
   ]
  },
  {
   "cell_type": "code",
   "execution_count": 40,
   "id": "ea9b42f3-c565-4b3e-a43b-eaff30e9c813",
   "metadata": {},
   "outputs": [
    {
     "name": "stdout",
     "output_type": "stream",
     "text": [
      "бъёт\n"
     ]
    }
   ],
   "source": [
    "horse_coord = (1,5)\n",
    "other_coord = (3,4)\n",
    "\n",
    "vert_diff = abs(horse_coord[0] - other_coord[0])\n",
    "hor_diff = abs(horse_coord[1] - other_coord[1])\n",
    "\n",
    "if (vert_diff == 2 and hor_diff == 1) or \\\n",
    "   (vert_diff == 1 and hor_diff == 2):\n",
    "    print(\"бъёт\")\n",
    "else:\n",
    "    print(\"не бъёт\")"
   ]
  },
  {
   "cell_type": "markdown",
   "id": "17fffd6b-b173-4c07-9e97-fc850d9d8a08",
   "metadata": {},
   "source": [
    "Бъет ли король?"
   ]
  },
  {
   "cell_type": "code",
   "execution_count": 45,
   "id": "87827656-0673-4d41-b515-de4cf52d77b7",
   "metadata": {},
   "outputs": [
    {
     "name": "stdout",
     "output_type": "stream",
     "text": [
      "бъёт\n"
     ]
    }
   ],
   "source": [
    "king_coord = (1,5)\n",
    "other_coord = (2,4)\n",
    "\n",
    "vert_diff = abs(king_coord[0] - other_coord[0])\n",
    "hor_diff = abs(king_coord[1] - other_coord[1])\n",
    "\n",
    "if vert_diff <= 1 and hor_diff <= 1:\n",
    "    print(\"бъёт\")\n",
    "else:\n",
    "    print(\"не бъёт\")"
   ]
  },
  {
   "cell_type": "markdown",
   "id": "3503db00-5a6f-4bf3-9047-7b0cb4c93aee",
   "metadata": {},
   "source": [
    "Особенности работы с литералом. Ответ в литерал"
   ]
  },
  {
   "cell_type": "code",
   "execution_count": 47,
   "id": "4cfd0858-fb73-46d7-ad31-fb43b9a459e5",
   "metadata": {},
   "outputs": [
    {
     "name": "stdout",
     "output_type": "stream",
     "text": [
      " '\"hello\"' \n"
     ]
    }
   ],
   "source": [
    "print(\"\"\" '\"hello\"' \"\"\")"
   ]
  },
  {
   "cell_type": "markdown",
   "id": "66c37df1-f176-4a66-8703-6f140b005d71",
   "metadata": {},
   "source": [
    "# Циклы"
   ]
  },
  {
   "cell_type": "markdown",
   "id": "faf12110-11a3-4fa9-82b3-24d4adaacaec",
   "metadata": {},
   "source": [
    "`else` для цикла"
   ]
  },
  {
   "cell_type": "code",
   "execution_count": 50,
   "id": "9dffdace-0dda-423b-bd6d-378d9df259bf",
   "metadata": {},
   "outputs": [
    {
     "name": "stdout",
     "output_type": "stream",
     "text": [
      "0,1,2,3,4,5,6,7,8,9,"
     ]
    }
   ],
   "source": [
    "for i in range(0, 10, 1):\n",
    "    print(i, end=\",\")# фишка с принтом! \n",
    "                     #есть аргумент который укзыет что в конце его"
   ]
  },
  {
   "cell_type": "code",
   "execution_count": 52,
   "id": "6d55c661-fd62-42b9-a2c3-23f23d422051",
   "metadata": {},
   "outputs": [
    {
     "name": "stdout",
     "output_type": "stream",
     "text": [
      "0,1,2,3,4,5,6,7,8,9,end\n"
     ]
    }
   ],
   "source": [
    "i = 0\n",
    "\n",
    "while(i < 10):\n",
    "    print(i, end=\",\")\n",
    "    i += 1\n",
    "else:\n",
    "    print(\"end\")# вот так else работает с циклами"
   ]
  },
  {
   "cell_type": "code",
   "execution_count": 56,
   "id": "2b398a73-48fe-4fff-af88-f036f824ecda",
   "metadata": {},
   "outputs": [
    {
     "name": "stdout",
     "output_type": "stream",
     "text": [
      "0\n",
      "1\n",
      "2\n",
      "3\n",
      "4\n",
      "5\n"
     ]
    }
   ],
   "source": [
    "i = 0\n",
    "\n",
    "while(i < 10):\n",
    "    print(i)\n",
    "    if i == 5:\n",
    "        break # а теперь посмотрим как тут работает break\n",
    "    i += 1\n",
    "else:\n",
    "    print(\"test\")"
   ]
  },
  {
   "cell_type": "markdown",
   "id": "ac9e42e1-0cff-4faf-b534-486fbdfc45d5",
   "metadata": {},
   "source": [
    "сработает и с `for`"
   ]
  },
  {
   "cell_type": "code",
   "execution_count": null,
   "id": "b557122a-36cc-42da-a657-a82296adcc3a",
   "metadata": {},
   "outputs": [],
   "source": [
    "for i in range(10):\n",
    "    print(i)\n",
    "else:"
   ]
  },
  {
   "cell_type": "markdown",
   "id": "eee4ada2-4da4-4718-8143-c17f18dfa779",
   "metadata": {},
   "source": [
    "Вывести в обр порядке"
   ]
  },
  {
   "cell_type": "code",
   "execution_count": 58,
   "id": "f02ea741-2bd1-480f-bb5b-9fb252f78030",
   "metadata": {},
   "outputs": [
    {
     "name": "stdout",
     "output_type": "stream",
     "text": [
      "100 97 94 91 88 85 82 79 76 73 70 67 64 61 58 55 52 49 46 43 40 37 34 31 28 25 22 19 16 13 10 7 4 "
     ]
    }
   ],
   "source": [
    "i = 100\n",
    "while i > 1:\n",
    "    print(i, end = \" \")\n",
    "    i -= 3"
   ]
  },
  {
   "cell_type": "code",
   "execution_count": 59,
   "id": "69729b9d-a534-4158-bab8-415f57438f14",
   "metadata": {},
   "outputs": [
    {
     "name": "stdout",
     "output_type": "stream",
     "text": [
      "100 97 94 91 88 85 82 79 76 73 70 67 64 61 58 55 52 49 46 43 40 37 34 31 28 25 22 19 16 13 10 7 4 "
     ]
    }
   ],
   "source": [
    "for i in range(100, 1, -3):\n",
    "    print(i, end = \" \")"
   ]
  },
  {
   "cell_type": "markdown",
   "id": "9dbd757e-52c1-4556-ba22-5a0482d17958",
   "metadata": {},
   "source": [
    "найти сумму друбей"
   ]
  },
  {
   "cell_type": "code",
   "execution_count": 66,
   "id": "12f478ea-40f9-47b6-ace9-07969d69a992",
   "metadata": {},
   "outputs": [
    {
     "name": "stdin",
     "output_type": "stream",
     "text": [
      "input n 5\n"
     ]
    },
    {
     "data": {
      "text/plain": [
       "2.283333333333333"
      ]
     },
     "execution_count": 66,
     "metadata": {},
     "output_type": "execute_result"
    }
   ],
   "source": [
    "n = int(input(\"input n\"))\n",
    "\n",
    "sum([1/i for i in range(1,n+1)])"
   ]
  },
  {
   "cell_type": "markdown",
   "id": "a278560a-4f0b-4008-b7ce-e4ded12e0091",
   "metadata": {},
   "source": [
    "Тут вычиляем сумму 2/3 + 3/4 + 5/6 + ... "
   ]
  },
  {
   "cell_type": "code",
   "execution_count": 68,
   "id": "e5a11c47-e27c-4597-a1b1-47d762f324dd",
   "metadata": {},
   "outputs": [
    {
     "name": "stdout",
     "output_type": "stream",
     "text": [
      "7.480122655122655\n"
     ]
    }
   ],
   "source": [
    "s = 0\n",
    "\n",
    "for i in range(2,11):\n",
    "    s += i/(i+1)\n",
    "    \n",
    "print(s)"
   ]
  },
  {
   "cell_type": "markdown",
   "id": "e0a12867-4ec7-4b34-a7e9-6a40b493a89f",
   "metadata": {},
   "source": [
    "Смена знаков"
   ]
  },
  {
   "cell_type": "code",
   "execution_count": 71,
   "id": "02a9538c-071b-4fdc-9381-f041cd0e6568",
   "metadata": {},
   "outputs": [
    {
     "name": "stdout",
     "output_type": "stream",
     "text": [
      "0.7634559884559883\n"
     ]
    }
   ],
   "source": [
    "s = 0\n",
    "z = 1\n",
    "\n",
    "for i in range(2,11):\n",
    "    s += i/(i+1)*z\n",
    "    z=z*(-1)\n",
    "    \n",
    "print(s)"
   ]
  },
  {
   "cell_type": "markdown",
   "id": "975dceb4-b4c2-4b75-8d15-467d68486778",
   "metadata": {},
   "source": [
    "Задача странный муж"
   ]
  },
  {
   "cell_type": "code",
   "execution_count": 74,
   "id": "242d5b80-7824-4642-a737-ac20750c86ad",
   "metadata": {},
   "outputs": [
    {
     "name": "stdout",
     "output_type": "stream",
     "text": [
      "0.688172179310195\n"
     ]
    }
   ],
   "source": [
    "dist = 0\n",
    "way = 0\n",
    "z = 1\n",
    "\n",
    "for i in range(1,101):\n",
    "    way += 1/i\n",
    "    dist += 1/i*z\n",
    "    z *= -1\n",
    "    \n",
    "print(dist)"
   ]
  },
  {
   "cell_type": "markdown",
   "id": "202f3e41-6714-4df2-8952-884b157046be",
   "metadata": {},
   "source": [
    "5.36"
   ]
  },
  {
   "cell_type": "markdown",
   "id": "b38df42e-c400-4ca9-8a55-1633c0fe07f1",
   "metadata": {},
   "source": [
    "5.36"
   ]
  },
  {
   "cell_type": "code",
   "execution_count": 84,
   "id": "d3a7ff61-c6bb-46d3-b122-90dca8294202",
   "metadata": {},
   "outputs": [
    {
     "name": "stdout",
     "output_type": "stream",
     "text": [
      "272.42308802308804\n"
     ]
    }
   ],
   "source": [
    "x = 2\n",
    "s = 0\n",
    "\n",
    "for i in range(1,12,2):\n",
    "    curr_x = 1\n",
    "    for j in range(i):\n",
    "        curr_x *= x\n",
    "    s += curr_x/i\n",
    "\n",
    "print(s)"
   ]
  },
  {
   "cell_type": "markdown",
   "id": "30c8e13f-7181-4a14-bd3c-9b4399a91337",
   "metadata": {},
   "source": [
    "Решение преподавателя"
   ]
  },
  {
   "cell_type": "code",
   "execution_count": 86,
   "id": "a07f2ab1-809b-40b1-ab59-5fb9c56e323f",
   "metadata": {},
   "outputs": [
    {
     "name": "stdout",
     "output_type": "stream",
     "text": [
      "272.42308802308804\n"
     ]
    }
   ],
   "source": [
    "x = 2\n",
    "s = 0\n",
    "curr_x = x\n",
    "for i in range(1,12,2):\n",
    "    s += curr_x/i\n",
    "    curr_x *= x*x\n",
    "print(s)"
   ]
  }
 ],
 "metadata": {
  "kernelspec": {
   "display_name": "Python 3 (ipykernel)",
   "language": "python",
   "name": "python3"
  },
  "language_info": {
   "codemirror_mode": {
    "name": "ipython",
    "version": 3
   },
   "file_extension": ".py",
   "mimetype": "text/x-python",
   "name": "python",
   "nbconvert_exporter": "python",
   "pygments_lexer": "ipython3",
   "version": "3.10.7"
  }
 },
 "nbformat": 4,
 "nbformat_minor": 5
}

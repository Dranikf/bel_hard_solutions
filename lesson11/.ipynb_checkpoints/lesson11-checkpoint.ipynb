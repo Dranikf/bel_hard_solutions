{
 "cells": [
  {
   "cell_type": "markdown",
   "id": "4114d71e-7663-45d4-85d3-056d861dd99e",
   "metadata": {},
   "source": [
    "**Занятие с урока 11**"
   ]
  },
  {
   "cell_type": "markdown",
   "id": "c2427496-f122-44f3-a462-0143a68d64b1",
   "metadata": {},
   "source": [
    "# Исключения"
   ]
  },
  {
   "cell_type": "code",
   "execution_count": 1,
   "id": "fcb27570-331f-419e-b2c7-7f13e3b1734f",
   "metadata": {},
   "outputs": [
    {
     "ename": "ZeroDivisionError",
     "evalue": "division by zero",
     "output_type": "error",
     "traceback": [
      "\u001b[0;31m---------------------------------------------------------------------------\u001b[0m",
      "\u001b[0;31mZeroDivisionError\u001b[0m                         Traceback (most recent call last)",
      "Input \u001b[0;32mIn [1]\u001b[0m, in \u001b[0;36m<module>\u001b[0;34m\u001b[0m\n\u001b[0;32m----> 1\u001b[0m \u001b[38;5;241;43m100\u001b[39;49m\u001b[38;5;241;43m/\u001b[39;49m\u001b[38;5;241;43m0\u001b[39;49m\n",
      "\u001b[0;31mZeroDivisionError\u001b[0m: division by zero"
     ]
    }
   ],
   "source": [
    "100/0"
   ]
  },
  {
   "cell_type": "code",
   "execution_count": 2,
   "id": "fc2b2399-936f-4310-a5f3-9e945243eeb0",
   "metadata": {},
   "outputs": [],
   "source": [
    "try:\n",
    "    k = 1/0\n",
    "except ZeroDivisionError:\n",
    "    k = 0"
   ]
  },
  {
   "cell_type": "code",
   "execution_count": 6,
   "id": "762cd570-93f6-4f10-9af0-ecf4fdf74612",
   "metadata": {},
   "outputs": [
    {
     "name": "stdout",
     "output_type": "stream",
     "text": [
      "[]\n"
     ]
    }
   ],
   "source": [
    "f = open(\"1.txt\")\n",
    "\n",
    "print(f.readlines())\n",
    "\n",
    "f.close()"
   ]
  },
  {
   "cell_type": "code",
   "execution_count": 24,
   "id": "42c999ed-0c01-4ac3-8804-33a3b49d014c",
   "metadata": {},
   "outputs": [],
   "source": [
    "from tkinter import * \n",
    "\n",
    "def is_number():\n",
    "    num_str = number_entry.get()\n",
    "    lab.text = \"text\"\n",
    "    try:\n",
    "        int(num_str)\n",
    "    except ValueError:\n",
    "        lab[\"text\"] = \"не номер телефона\"\n",
    "    else:\n",
    "        lab[\"text\"] = \"номер телефона\"\n",
    "    \n",
    "        \n",
    "\n",
    "root = Tk()\n",
    "\n",
    "number_entry = Entry()\n",
    "number_entry.pack()\n",
    "\n",
    "Button(\n",
    "    text = \"прочитать\",\n",
    "    command = is_number\n",
    ").pack()\n",
    "\n",
    "lab = Label()\n",
    "lab.pack()\n",
    "\n",
    "root.mainloop()"
   ]
  },
  {
   "cell_type": "markdown",
   "id": "90daa2ba-1e33-43f7-893e-fb8b25ad3e7a",
   "metadata": {},
   "source": [
    "Сколько раз `numpy` массиве пменяется знак у радом стоящих элементов."
   ]
  },
  {
   "cell_type": "code",
   "execution_count": 50,
   "id": "78264d9b-1983-4df4-a567-a8ba84f0d8d0",
   "metadata": {},
   "outputs": [
    {
     "name": "stdout",
     "output_type": "stream",
     "text": [
      "[-6.91674315  4.80099393 -4.7336997   0.67478787 -9.70850075  8.37494016\n",
      "  8.01429708 -9.33157145  9.13898673 -7.25581357 -4.32343294  2.12166369\n",
      "  8.88450272  7.05471082 -9.95481533  0.42452054  1.04075267 -0.29245173\n",
      "  5.36268308 -6.78566494]\n",
      "Знак поменялся 14  раз\n"
     ]
    }
   ],
   "source": [
    "import numpy as np\n",
    "\n",
    "np.random.seed(12)\n",
    "arr = np.random.uniform(-10, 10, 20)\n",
    "print(arr)\n",
    "print(\"Знак поменялся\", ((arr < 0)[:-1] == (arr>0)[1:]).sum(), \" раз\")"
   ]
  },
  {
   "cell_type": "markdown",
   "id": "7689d14f-a58f-4ae3-9e2d-435d5a130845",
   "metadata": {},
   "source": [
    "# tasks"
   ]
  },
  {
   "cell_type": "code",
   "execution_count": 58,
   "id": "c0f62fe7-af79-43c6-be3e-f8d02cb7c975",
   "metadata": {},
   "outputs": [
    {
     "name": "stdout",
     "output_type": "stream",
     "text": [
      "task1\n",
      "[0. 0. 0. 0. 0. 0. 0. 0. 0. 0.]\n",
      "task2\n",
      "[1. 1. 1. 1. 1. 1. 1. 1. 1. 1.]\n",
      "tak3\n",
      "[2.5 2.5 2.5 2.5 2.5 2.5 2.5 2.5 2.5 2.5]\n"
     ]
    }
   ],
   "source": [
    "print(\"task1\")\n",
    "arr = np.zeros(10)\n",
    "print(arr)\n",
    "\n",
    "print(\"task2\")\n",
    "arr = np.ones(10)\n",
    "print(arr)\n",
    "\n",
    "print(\"tak3\")\n",
    "arr = np.full(10, 2.5)\n",
    "print(arr)"
   ]
  },
  {
   "cell_type": "code",
   "execution_count": 61,
   "id": "2a1340bf-f2f2-41b4-8e5e-d76d4f0b3023",
   "metadata": {},
   "outputs": [
    {
     "name": "stdout",
     "output_type": "stream",
     "text": [
      "task4\n"
     ]
    },
    {
     "data": {
      "text/plain": [
       "\u001b[0;31mCall signature:\u001b[0m  \u001b[0mnp\u001b[0m\u001b[0;34m.\u001b[0m\u001b[0madd\u001b[0m\u001b[0;34m(\u001b[0m\u001b[0;34m*\u001b[0m\u001b[0margs\u001b[0m\u001b[0;34m,\u001b[0m \u001b[0;34m**\u001b[0m\u001b[0mkwargs\u001b[0m\u001b[0;34m)\u001b[0m\u001b[0;34m\u001b[0m\u001b[0;34m\u001b[0m\u001b[0m\n",
       "\u001b[0;31mType:\u001b[0m            ufunc\n",
       "\u001b[0;31mString form:\u001b[0m     <ufunc 'add'>\n",
       "\u001b[0;31mFile:\u001b[0m            ~/.local/lib/python3.10/site-packages/numpy/__init__.py\n",
       "\u001b[0;31mDocstring:\u001b[0m      \n",
       "add(x1, x2, /, out=None, *, where=True, casting='same_kind', order='K', dtype=None, subok=True[, signature, extobj])\n",
       "\n",
       "Add arguments element-wise.\n",
       "\n",
       "Parameters\n",
       "----------\n",
       "x1, x2 : array_like\n",
       "    The arrays to be added.\n",
       "    If ``x1.shape != x2.shape``, they must be broadcastable to a common\n",
       "    shape (which becomes the shape of the output).\n",
       "out : ndarray, None, or tuple of ndarray and None, optional\n",
       "    A location into which the result is stored. If provided, it must have\n",
       "    a shape that the inputs broadcast to. If not provided or None,\n",
       "    a freshly-allocated array is returned. A tuple (possible only as a\n",
       "    keyword argument) must have length equal to the number of outputs.\n",
       "where : array_like, optional\n",
       "    This condition is broadcast over the input. At locations where the\n",
       "    condition is True, the `out` array will be set to the ufunc result.\n",
       "    Elsewhere, the `out` array will retain its original value.\n",
       "    Note that if an uninitialized `out` array is created via the default\n",
       "    ``out=None``, locations within it where the condition is False will\n",
       "    remain uninitialized.\n",
       "**kwargs\n",
       "    For other keyword-only arguments, see the\n",
       "    :ref:`ufunc docs <ufuncs.kwargs>`.\n",
       "\n",
       "Returns\n",
       "-------\n",
       "add : ndarray or scalar\n",
       "    The sum of `x1` and `x2`, element-wise.\n",
       "    This is a scalar if both `x1` and `x2` are scalars.\n",
       "\n",
       "Notes\n",
       "-----\n",
       "Equivalent to `x1` + `x2` in terms of array broadcasting.\n",
       "\n",
       "Examples\n",
       "--------\n",
       ">>> np.add(1.0, 4.0)\n",
       "5.0\n",
       ">>> x1 = np.arange(9.0).reshape((3, 3))\n",
       ">>> x2 = np.arange(3.0)\n",
       ">>> np.add(x1, x2)\n",
       "array([[  0.,   2.,   4.],\n",
       "       [  3.,   5.,   7.],\n",
       "       [  6.,   8.,  10.]])\n",
       "\n",
       "The ``+`` operator can be used as a shorthand for ``np.add`` on ndarrays.\n",
       "\n",
       ">>> x1 = np.arange(9.0).reshape((3, 3))\n",
       ">>> x2 = np.arange(3.0)\n",
       ">>> x1 + x2\n",
       "array([[ 0.,  2.,  4.],\n",
       "       [ 3.,  5.,  7.],\n",
       "       [ 6.,  8., 10.]])\n",
       "\u001b[0;31mClass docstring:\u001b[0m\n",
       "Functions that operate element by element on whole arrays.\n",
       "\n",
       "To see the documentation for a specific ufunc, use `info`.  For\n",
       "example, ``np.info(np.sin)``.  Because ufuncs are written in C\n",
       "(for speed) and linked into Python with NumPy's ufunc facility,\n",
       "Python's help() function finds this page whenever help() is called\n",
       "on a ufunc.\n",
       "\n",
       "A detailed explanation of ufuncs can be found in the docs for :ref:`ufuncs`.\n",
       "\n",
       "**Calling ufuncs:** ``op(*x[, out], where=True, **kwargs)``\n",
       "\n",
       "Apply `op` to the arguments `*x` elementwise, broadcasting the arguments.\n",
       "\n",
       "The broadcasting rules are:\n",
       "\n",
       "* Dimensions of length 1 may be prepended to either array.\n",
       "* Arrays may be repeated along dimensions of length 1.\n",
       "\n",
       "Parameters\n",
       "----------\n",
       "*x : array_like\n",
       "    Input arrays.\n",
       "out : ndarray, None, or tuple of ndarray and None, optional\n",
       "    Alternate array object(s) in which to put the result; if provided, it\n",
       "    must have a shape that the inputs broadcast to. A tuple of arrays\n",
       "    (possible only as a keyword argument) must have length equal to the\n",
       "    number of outputs; use None for uninitialized outputs to be\n",
       "    allocated by the ufunc.\n",
       "where : array_like, optional\n",
       "    This condition is broadcast over the input. At locations where the\n",
       "    condition is True, the `out` array will be set to the ufunc result.\n",
       "    Elsewhere, the `out` array will retain its original value.\n",
       "    Note that if an uninitialized `out` array is created via the default\n",
       "    ``out=None``, locations within it where the condition is False will\n",
       "    remain uninitialized.\n",
       "**kwargs\n",
       "    For other keyword-only arguments, see the :ref:`ufunc docs <ufuncs.kwargs>`.\n",
       "\n",
       "Returns\n",
       "-------\n",
       "r : ndarray or tuple of ndarray\n",
       "    `r` will have the shape that the arrays in `x` broadcast to; if `out` is\n",
       "    provided, it will be returned. If not, `r` will be allocated and\n",
       "    may contain uninitialized values. If the function has more than one\n",
       "    output, then the result will be a tuple of arrays.\n"
      ]
     },
     "metadata": {},
     "output_type": "display_data"
    }
   ],
   "source": [
    "print(\"task4\")\n",
    "?np.add"
   ]
  },
  {
   "cell_type": "code",
   "execution_count": 98,
   "id": "c333f74f-3cf4-44d6-826c-1822db5a0a9e",
   "metadata": {},
   "outputs": [
    {
     "name": "stdout",
     "output_type": "stream",
     "text": [
      "task 5\n",
      "[0. 0. 0. 0. 0. 1. 0. 0. 0. 0.]\n",
      "task 6\n",
      "[10  9  8  7  6  5  4]\n",
      "task 7\n",
      "[4 5 6 7 8 9]\n",
      "task 8\n",
      "[[0 1 2]\n",
      " [3 4 5]\n",
      " [6 7 8]]\n",
      "task 9\n",
      "(array([2, 3, 5]),)\n",
      "task 10\n",
      "[[1. 0. 0.]\n",
      " [0. 1. 0.]\n",
      " [0. 0. 1.]]\n",
      "task 11\n",
      "[[0.87994694 0.34658845 0.25715505]\n",
      " [0.74557377 0.13702096 0.52315191]\n",
      " [0.92504158 0.29199682 0.75085446]]\n",
      "task 12\n",
      "[[0.40645545 0.83856696 0.74595091 0.02679529 0.89411953 0.16855882\n",
      "  0.88023412 0.39565265 0.05240425 0.88258981]\n",
      " [0.63265342 0.28979325 0.86748162 0.25908067 0.32930207 0.55406916\n",
      "  0.60187364 0.47049711 0.79150439 0.54117784]\n",
      " [0.6623366  0.07865777 0.90451762 0.08088102 0.6897408  0.61773164\n",
      "  0.25662017 0.99974193 0.85928714 0.47576185]\n",
      " [0.99871231 0.40341725 0.43493026 0.68844672 0.26414166 0.44112577\n",
      "  0.67182194 0.24284481 0.44604563 0.09623104]\n",
      " [0.94941861 0.61369983 0.14021858 0.55618071 0.07422679 0.44898437\n",
      "  0.83515269 0.64666376 0.3977416  0.64446166]\n",
      " [0.9274893  0.22679055 0.89703511 0.25500486 0.62183603 0.14788346\n",
      "  0.49377664 0.94777116 0.45072491 0.72843664]\n",
      " [0.47766426 0.05675039 0.48040625 0.26410249 0.97167747 0.78773701\n",
      "  0.88424663 0.57879104 0.97902428 0.89701504]\n",
      " [0.46198304 0.59506383 0.29650336 0.4194839  0.04716266 0.7259149\n",
      "  0.34321611 0.43903784 0.39781527 0.86244835]\n",
      " [0.27761431 0.61139218 0.21913212 0.30641463 0.73440821 0.52385613\n",
      "  0.4189955  0.2635038  0.06476168 0.03211953]\n",
      " [0.82425167 0.68699911 0.76506842 0.61797754 0.05680786 0.6768572\n",
      "  0.15076377 0.96503365 0.95233844 0.96338816]]\n",
      "min value  0.026795289090797647\n",
      "max value  0.9997419299050934\n",
      "task 13\n",
      "0.4797432402533976\n"
     ]
    }
   ],
   "source": [
    "print(\"task 5\")\n",
    "arr = np.zeros(10)\n",
    "arr[5] = 1\n",
    "print(arr)\n",
    "\n",
    "\n",
    "print(\"task 6\")\n",
    "arr = np.arange(10,3, -1)\n",
    "print(arr)\n",
    "\n",
    "print(\"task 7\")\n",
    "print(arr[-1:0:-1])\n",
    "\n",
    "print(\"task 8\")\n",
    "print(np.arange(9).reshape((3,3)))\n",
    "\n",
    "print(\"task 9\")\n",
    "print(np.nonzero(np.array([1,2,0,0,4,0]) == 0))\n",
    "\n",
    "print(\"task 10\")\n",
    "print(np.eye(3))\n",
    "\n",
    "print(\"task 11\")\n",
    "print(np.random.random((3,3)))\n",
    "\n",
    "print(\"task 12\")\n",
    "arr = np.random.random((10,10))\n",
    "print(arr)\n",
    "print(\"min value \",np.min(arr))\n",
    "print(\"max value \",np.max(arr))\n",
    "\n",
    "print(\"task 13\")\n",
    "arr = np.random.random(30)\n",
    "print(np.mean(arr))"
   ]
  },
  {
   "cell_type": "code",
   "execution_count": 116,
   "id": "92111d7e-ac24-437e-a739-942110e05af6",
   "metadata": {},
   "outputs": [
    {
     "data": {
      "text/plain": [
       "array([[4.68802266e-310, 0.00000000e+000, 0.00000000e+000,\n",
       "        0.00000000e+000, 9.15047025e-310, 1.16097020e-028],\n",
       "       [8.26219736e-072, 2.92732920e-028, 2.00190962e-076,\n",
       "        1.04917183e-153, 5.23081515e-143, 1.74491063e-076],\n",
       "       [1.14394186e-071, 4.03820833e-037, 3.45065517e-032,\n",
       "        8.07137840e-144, 3.59751658e+252, 1.46901661e+179],\n",
       "       [8.37404147e+242, 4.31999013e-096, 4.82337723e+228,\n",
       "        9.97076651e-047, 4.65623715e-033, 5.64281142e-091],\n",
       "       [7.46413349e-038, 8.38305949e+165, 5.04621343e+180,\n",
       "        1.94918963e-153, 1.14484251e+243, 2.59903827e-144]])"
      ]
     },
     "execution_count": 116,
     "metadata": {},
     "output_type": "execute_result"
    }
   ],
   "source": [
    "np.ndarray([5,6])"
   ]
  },
  {
   "cell_type": "code",
   "execution_count": 111,
   "id": "c759edf8-ef60-418d-b888-6ae067db2eb6",
   "metadata": {},
   "outputs": [
    {
     "data": {
      "text/plain": [
       "[array([[[[[6.92055191e-310, 6.92055191e-310, 4.68746330e-310,\n",
       "            4.68746330e-310, 6.92050147e-310],\n",
       "           [6.92054069e-310, 6.92054062e-310, 6.92050163e-310,\n",
       "            6.92054069e-310, 6.92054062e-310],\n",
       "           [6.92050147e-310, 6.92054069e-310, 6.92054062e-310,\n",
       "            6.92050163e-310, 6.92054069e-310],\n",
       "           [6.92054062e-310, 6.92050147e-310, 6.92054069e-310,\n",
       "            6.92054062e-310, 6.92050163e-310]],\n",
       " \n",
       "          [[6.92054069e-310, 6.92054062e-310, 6.92050147e-310,\n",
       "            6.92054069e-310, 6.92054062e-310],\n",
       "           [6.92054069e-310, 6.92054062e-310, 6.92050163e-310,\n",
       "            6.92054069e-310, 6.92054062e-310],\n",
       "           [6.92050147e-310, 6.92054069e-310, 6.92054062e-310,\n",
       "            6.92050163e-310, 6.92054069e-310],\n",
       "           [6.92054062e-310, 6.92050147e-310, 6.92054069e-310,\n",
       "            6.92054062e-310, 6.92050163e-310]],\n",
       " \n",
       "          [[6.92054069e-310, 6.92054062e-310, 6.92050147e-310,\n",
       "            6.92054069e-310, 6.92054062e-310],\n",
       "           [6.92050148e-310, 6.92054069e-310, 6.92054062e-310,\n",
       "            6.92050147e-310, 6.92054069e-310],\n",
       "           [6.92054062e-310, 6.92054069e-310, 6.92054062e-310,\n",
       "            6.92050148e-310, 6.92054069e-310],\n",
       "           [6.92054062e-310, 6.92050147e-310, 6.92054069e-310,\n",
       "            6.92054062e-310, 6.92050148e-310]]],\n",
       " \n",
       " \n",
       "         [[[6.92054069e-310, 6.92054062e-310, 6.92050147e-310,\n",
       "            6.92054069e-310, 6.92054062e-310],\n",
       "           [6.92050148e-310, 6.92054069e-310, 6.92054062e-310,\n",
       "            6.92050147e-310, 6.92054069e-310],\n",
       "           [6.92054062e-310, 6.92050148e-310, 6.92054069e-310,\n",
       "            6.92054062e-310, 6.92050147e-310],\n",
       "           [6.92054069e-310, 6.92054062e-310, 6.92054069e-310,\n",
       "            6.92054062e-310, 6.92054069e-310]],\n",
       " \n",
       "          [[6.92054062e-310, 6.92050148e-310, 6.92054069e-310,\n",
       "            6.92054062e-310, 6.92050147e-310],\n",
       "           [6.92054069e-310, 6.92054062e-310, 6.92050148e-310,\n",
       "            6.92054069e-310, 6.92054062e-310],\n",
       "           [6.92050147e-310, 6.92054069e-310, 6.92054062e-310,\n",
       "            6.92050148e-310, 6.92054069e-310],\n",
       "           [6.92054062e-310, 6.92050147e-310, 6.92054069e-310,\n",
       "            6.92054062e-310, 6.92050148e-310]],\n",
       " \n",
       "          [[6.92054069e-310, 6.92054062e-310, 6.92050147e-310,\n",
       "            6.92054069e-310, 6.92054062e-310],\n",
       "           [6.92054069e-310, 6.92054062e-310, 6.92050148e-310,\n",
       "            6.92054069e-310, 6.92054062e-310],\n",
       "           [6.92050147e-310, 6.92054069e-310, 6.92054062e-310,\n",
       "            6.92050148e-310, 6.92054069e-310],\n",
       "           [6.92054062e-310, 6.92050147e-310, 6.92054069e-310,\n",
       "            6.92054062e-310, 6.92050148e-310]]]]]),\n",
       " array([[[[[6.92055191e-310, 6.92055191e-310, 4.68746330e-310,\n",
       "            4.68746330e-310, 6.92050147e-310],\n",
       "           [6.92054069e-310, 6.92054062e-310, 6.92050163e-310,\n",
       "            6.92054069e-310, 6.92054062e-310],\n",
       "           [6.92050147e-310, 6.92054069e-310, 6.92054062e-310,\n",
       "            6.92050163e-310, 6.92054069e-310],\n",
       "           [6.92054062e-310, 6.92050147e-310, 6.92054069e-310,\n",
       "            6.92054062e-310, 6.92050163e-310]],\n",
       " \n",
       "          [[6.92054069e-310, 6.92054062e-310, 6.92050147e-310,\n",
       "            6.92054069e-310, 6.92054062e-310],\n",
       "           [6.92054069e-310, 6.92054062e-310, 6.92050163e-310,\n",
       "            6.92054069e-310, 6.92054062e-310],\n",
       "           [6.92050147e-310, 6.92054069e-310, 6.92054062e-310,\n",
       "            6.92050163e-310, 6.92054069e-310],\n",
       "           [6.92054062e-310, 6.92050147e-310, 6.92054069e-310,\n",
       "            6.92054062e-310, 6.92050163e-310]],\n",
       " \n",
       "          [[6.92054069e-310, 6.92054062e-310, 6.92050147e-310,\n",
       "            6.92054069e-310, 6.92054062e-310],\n",
       "           [6.92050148e-310, 6.92054069e-310, 6.92054062e-310,\n",
       "            6.92050147e-310, 6.92054069e-310],\n",
       "           [6.92054062e-310, 6.92054069e-310, 6.92054062e-310,\n",
       "            6.92050148e-310, 6.92054069e-310],\n",
       "           [6.92054062e-310, 6.92050147e-310, 6.92054069e-310,\n",
       "            6.92054062e-310, 6.92050148e-310]]],\n",
       " \n",
       " \n",
       "         [[[6.92054069e-310, 6.92054062e-310, 6.92050147e-310,\n",
       "            6.92054069e-310, 6.92054062e-310],\n",
       "           [6.92050148e-310, 6.92054069e-310, 6.92054062e-310,\n",
       "            6.92050147e-310, 6.92054069e-310],\n",
       "           [6.92054062e-310, 6.92050148e-310, 6.92054069e-310,\n",
       "            6.92054062e-310, 6.92050147e-310],\n",
       "           [6.92054069e-310, 6.92054062e-310, 6.92054069e-310,\n",
       "            6.92054062e-310, 6.92054069e-310]],\n",
       " \n",
       "          [[6.92054062e-310, 6.92050148e-310, 6.92054069e-310,\n",
       "            6.92054062e-310, 6.92050147e-310],\n",
       "           [6.92054069e-310, 6.92054062e-310, 6.92050148e-310,\n",
       "            6.92054069e-310, 6.92054062e-310],\n",
       "           [6.92050147e-310, 6.92054069e-310, 6.92054062e-310,\n",
       "            6.92050148e-310, 6.92054069e-310],\n",
       "           [6.92054062e-310, 6.92050147e-310, 6.92054069e-310,\n",
       "            6.92054062e-310, 6.92050148e-310]],\n",
       " \n",
       "          [[6.92054069e-310, 6.92054062e-310, 6.92050147e-310,\n",
       "            6.92054069e-310, 6.92054062e-310],\n",
       "           [6.92054069e-310, 6.92054062e-310, 6.92050148e-310,\n",
       "            6.92054069e-310, 6.92054062e-310],\n",
       "           [6.92050147e-310, 6.92054069e-310, 6.92054062e-310,\n",
       "            6.92050148e-310, 6.92054069e-310],\n",
       "           [6.92054062e-310, 6.92050147e-310, 6.92054069e-310,\n",
       "            6.92054062e-310, 6.92050148e-310]]]]]),\n",
       " array([[[[[6.92055191e-310, 6.92055191e-310, 4.68746330e-310,\n",
       "            4.68746330e-310, 6.92050147e-310],\n",
       "           [6.92054069e-310, 6.92054062e-310, 6.92050163e-310,\n",
       "            6.92054069e-310, 6.92054062e-310],\n",
       "           [6.92050147e-310, 6.92054069e-310, 6.92054062e-310,\n",
       "            6.92050163e-310, 6.92054069e-310],\n",
       "           [6.92054062e-310, 6.92050147e-310, 6.92054069e-310,\n",
       "            6.92054062e-310, 6.92050163e-310]],\n",
       " \n",
       "          [[6.92054069e-310, 6.92054062e-310, 6.92050147e-310,\n",
       "            6.92054069e-310, 6.92054062e-310],\n",
       "           [6.92054069e-310, 6.92054062e-310, 6.92050163e-310,\n",
       "            6.92054069e-310, 6.92054062e-310],\n",
       "           [6.92050147e-310, 6.92054069e-310, 6.92054062e-310,\n",
       "            6.92050163e-310, 6.92054069e-310],\n",
       "           [6.92054062e-310, 6.92050147e-310, 6.92054069e-310,\n",
       "            6.92054062e-310, 6.92050163e-310]],\n",
       " \n",
       "          [[6.92054069e-310, 6.92054062e-310, 6.92050147e-310,\n",
       "            6.92054069e-310, 6.92054062e-310],\n",
       "           [6.92050148e-310, 6.92054069e-310, 6.92054062e-310,\n",
       "            6.92050147e-310, 6.92054069e-310],\n",
       "           [6.92054062e-310, 6.92054069e-310, 6.92054062e-310,\n",
       "            6.92050148e-310, 6.92054069e-310],\n",
       "           [6.92054062e-310, 6.92050147e-310, 6.92054069e-310,\n",
       "            6.92054062e-310, 6.92050148e-310]]],\n",
       " \n",
       " \n",
       "         [[[6.92054069e-310, 6.92054062e-310, 6.92050147e-310,\n",
       "            6.92054069e-310, 6.92054062e-310],\n",
       "           [6.92050148e-310, 6.92054069e-310, 6.92054062e-310,\n",
       "            6.92050147e-310, 6.92054069e-310],\n",
       "           [6.92054062e-310, 6.92050148e-310, 6.92054069e-310,\n",
       "            6.92054062e-310, 6.92050147e-310],\n",
       "           [6.92054069e-310, 6.92054062e-310, 6.92054069e-310,\n",
       "            6.92054062e-310, 6.92054069e-310]],\n",
       " \n",
       "          [[6.92054062e-310, 6.92050148e-310, 6.92054069e-310,\n",
       "            6.92054062e-310, 6.92050147e-310],\n",
       "           [6.92054069e-310, 6.92054062e-310, 6.92050148e-310,\n",
       "            6.92054069e-310, 6.92054062e-310],\n",
       "           [6.92050147e-310, 6.92054069e-310, 6.92054062e-310,\n",
       "            6.92050148e-310, 6.92054069e-310],\n",
       "           [6.92054062e-310, 6.92050147e-310, 6.92054069e-310,\n",
       "            6.92054062e-310, 6.92050148e-310]],\n",
       " \n",
       "          [[6.92054069e-310, 6.92054062e-310, 6.92050147e-310,\n",
       "            6.92054069e-310, 6.92054062e-310],\n",
       "           [6.92054069e-310, 6.92054062e-310, 6.92050148e-310,\n",
       "            6.92054069e-310, 6.92054062e-310],\n",
       "           [6.92050147e-310, 6.92054069e-310, 6.92054062e-310,\n",
       "            6.92050148e-310, 6.92054069e-310],\n",
       "           [6.92054062e-310, 6.92050147e-310, 6.92054069e-310,\n",
       "            6.92054062e-310, 6.92050148e-310]]]]])]"
      ]
     },
     "execution_count": 111,
     "metadata": {},
     "output_type": "execute_result"
    }
   ],
   "source": [
    "list_of_arrs = [np.ndarray([1,2,3,4,5]), np.ndarray([1,2,3,4,5]), np.ndarray([1,2,3,4,5])]\n",
    "list_of_arrs\n",
    "# [list_of_arrs[0]] + list(map(lambda x: x[1:], list_of_arrs[1:]))"
   ]
  },
  {
   "cell_type": "code",
   "execution_count": 123,
   "id": "d85eb988-ea4e-4b6a-a244-9f48c85115e6",
   "metadata": {},
   "outputs": [
    {
     "data": {
      "text/plain": [
       "8"
      ]
     },
     "execution_count": 123,
     "metadata": {},
     "output_type": "execute_result"
    }
   ],
   "source": [
    "s = np.array([-12, 5, -6, 9 , -7, 6, 8, -4, 9 , -4])\n",
    "\n",
    "((s[1:]*s[:-1]) < 0).sum()"
   ]
  }
 ],
 "metadata": {
  "kernelspec": {
   "display_name": "Python 3 (ipykernel)",
   "language": "python",
   "name": "python3"
  },
  "language_info": {
   "codemirror_mode": {
    "name": "ipython",
    "version": 3
   },
   "file_extension": ".py",
   "mimetype": "text/x-python",
   "name": "python",
   "nbconvert_exporter": "python",
   "pygments_lexer": "ipython3",
   "version": "3.10.7"
  }
 },
 "nbformat": 4,
 "nbformat_minor": 5
}

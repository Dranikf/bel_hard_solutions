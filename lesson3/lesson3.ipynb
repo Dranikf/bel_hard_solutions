{
 "cells": [
  {
   "cell_type": "markdown",
   "id": "abdc84b9-c57c-44f3-99c2-ec237a47212e",
   "metadata": {},
   "source": [
    "**Решения второго занятия**"
   ]
  },
  {
   "cell_type": "markdown",
   "id": "c6cc87c0-bd1d-46a3-ba24-327314e6ff4b",
   "metadata": {},
   "source": [
    "Дан произвольный список из чисел, надо переставить элементы так чтобы сначала шли нули, потом отрицательные числа а затем положительные числа."
   ]
  },
  {
   "cell_type": "code",
   "execution_count": 3,
   "id": "027bfed0-d1dc-470c-aa33-8ee31d0e4542",
   "metadata": {},
   "outputs": [
    {
     "name": "stdout",
     "output_type": "stream",
     "text": [
      "[0, 0, -4, -1, 1, 2, 3, 5]\n"
     ]
    }
   ],
   "source": [
    "lst = [1, 2, 3, 0, -1, 0, -4, 5]\n",
    "\n",
    "zeros_count = 0\n",
    "\n",
    "for i, val in enumerate(lst):\n",
    "    if val == 0:\n",
    "        zeros_count += 1\n",
    "        lst.pop(i)\n",
    "        lst.insert(0, 0)\n",
    "    if val < 0:\n",
    "        lst.pop(i)\n",
    "        lst.insert(zeros_count, val)\n",
    "\n",
    "print(lst)"
   ]
  },
  {
   "cell_type": "markdown",
   "id": "63fe8c60-1e17-4c5f-b049-9cd516b10ac1",
   "metadata": {},
   "source": [
    "<img src=\"11.19.png\">"
   ]
  },
  {
   "cell_type": "code",
   "execution_count": 9,
   "id": "a09a274d-3ad2-41f1-ae9f-539de57cf9e3",
   "metadata": {},
   "outputs": [
    {
     "name": "stdout",
     "output_type": "stream",
     "text": [
      "получен список  [8, 9, 3, 0, 8, 8, 4, 3, 6, 1]\n"
     ]
    },
    {
     "name": "stdin",
     "output_type": "stream",
     "text": [
      "Введите k1: 3\n",
      "Введите k2: 5\n"
     ]
    },
    {
     "name": "stdout",
     "output_type": "stream",
     "text": [
      "16\n"
     ]
    }
   ],
   "source": [
    "from random import randint\n",
    "\n",
    "lst = [randint(0,10) for i in range(10)]\n",
    "print(\"получен список \", lst)\n",
    "\n",
    "\n",
    "k1 = int(input(\"Введите k1:\"))\n",
    "k2 = int(input(\"Введите k2:\"))\n",
    "\n",
    "res = 0\n",
    "print(sum(lst[k1:k2+1]))"
   ]
  },
  {
   "cell_type": "markdown",
   "id": "a2402df8-38bc-4602-ba05-df8be47ac460",
   "metadata": {},
   "source": [
    "11.20"
   ]
  },
  {
   "cell_type": "code",
   "execution_count": 11,
   "id": "d5d48c93-f57e-4cb5-a30b-f28bd255669d",
   "metadata": {},
   "outputs": [
    {
     "name": "stdout",
     "output_type": "stream",
     "text": [
      "получен список  [8, 4, 7]\n",
      "11\n"
     ]
    }
   ],
   "source": [
    "from random import randint\n",
    "\n",
    "lst = [randint(0,10) for i in range(3)]\n",
    "print(\"получен список \", lst)\n",
    "\n",
    "z = 1\n",
    "res = 0\n",
    "for val in lst:\n",
    "    res += val*z\n",
    "    z *= -1\n",
    "\n",
    "print(res)"
   ]
  },
  {
   "cell_type": "markdown",
   "id": "f6bbc0fa-6350-4f1f-9253-7d44f8df329d",
   "metadata": {},
   "source": [
    "12.28\n",
    "\n",
    "мое природное решение"
   ]
  },
  {
   "cell_type": "code",
   "execution_count": 64,
   "id": "c03b93c5-acdf-40c9-9677-866d47090456",
   "metadata": {},
   "outputs": [
    {
     "name": "stdout",
     "output_type": "stream",
     "text": [
      "[[ 1.  2.  3.  4.  5.  6.  7.  8.  9.]\n",
      " [32. 33. 34. 35. 36. 37. 38. 39. 10.]\n",
      " [31. 56. 57. 58. 59. 60. 61. 40. 11.]\n",
      " [30. 55. 72. 73. 74. 75. 62. 41. 12.]\n",
      " [29. 54. 71. 80. 81. 76. 63. 42. 13.]\n",
      " [28. 53. 70. 79. 78. 77. 64. 43. 14.]\n",
      " [27. 52. 69. 68. 67. 66. 65. 44. 15.]\n",
      " [26. 51. 50. 49. 48. 47. 46. 45. 16.]\n",
      " [25. 24. 23. 22. 21. 20. 19. 18. 17.]]\n"
     ]
    }
   ],
   "source": [
    "import numpy as np\n",
    "\n",
    "\n",
    "arr_dim = 9\n",
    "res = np.ones((arr_dim,arr_dim))\n",
    "\n",
    "curr_ax_len = res.shape[0]\n",
    "layers_count = (curr_ax_len//2)+1 # сколько \"слоев\" в матрице\n",
    "num = 1\n",
    "big_sum = 0\n",
    "\n",
    "\n",
    "a = 0\n",
    "for i, layer in enumerate(range(arr_dim,1,-2)):\n",
    "    # заполнение каждого квадратика\n",
    "    for j in range(layer - 1):\n",
    "        # верхняя крышка\n",
    "        res[i, j + i] = (j+1) + big_sum\n",
    "        # правая крышка\n",
    "        res[j + i, arr_dim - 1 - i] = (j+1)+(layer-1)+big_sum\n",
    "        # нижняя крышка\n",
    "        res[arr_dim - 1 - i, arr_dim - j - i - 1] = (j+1)+(layer-1)*2 + big_sum\n",
    "        # правая крышка\n",
    "        res[arr_dim - 1 - j - i, i] = (j+1) + (layer-1)*3 + big_sum\n",
    "        a += 1\n",
    "    big_sum += (j+1) + (layer-1)*3\n",
    "\n",
    "res[arr_dim//2, arr_dim//2] = big_sum + 1\n",
    "print(res)"
   ]
  },
  {
   "cell_type": "markdown",
   "id": "15ae095e-87c4-43d0-a29a-eb5802771a4e",
   "metadata": {},
   "source": [
    "Решение подсказанное преподавателем"
   ]
  },
  {
   "cell_type": "code",
   "execution_count": 81,
   "id": "011b3a0d-d6d0-4216-8a9b-3f4ff08d965b",
   "metadata": {},
   "outputs": [
    {
     "name": "stdout",
     "output_type": "stream",
     "text": [
      "[[1. 2. 3. 4. 5. 6.]\n",
      " [1. 1. 1. 1. 1. 1.]\n",
      " [1. 1. 1. 1. 1. 1.]\n",
      " [1. 1. 1. 1. 1. 1.]\n",
      " [1. 1. 1. 1. 1. 1.]\n",
      " [1. 1. 1. 1. 1. 1.]]\n"
     ]
    }
   ],
   "source": [
    "s = 6\n",
    "res = np.ones((s,s))\n",
    "\n",
    "x = 0\n",
    "y = 0\n",
    "num = 1\n",
    "\n",
    "for x in range(x,s):\n",
    "    res[y,x] = num\n",
    "    x += 1\n",
    "    num += 1\n",
    "for  y < s-1:\n",
    "    res[y,x] = num\n",
    "    y += 1\n",
    "    num += 1\n",
    "\n",
    "# while True:\n",
    "#     # верхняя крышка\n",
    "#     for x in range(x,s):\n",
    "#         res[y,x] = num\n",
    "#         x += 1\n",
    "#         num += 1\n",
    "#     while y < s-1:\n",
    "#         res[y,x] = num\n",
    "#         y += 1\n",
    "#         num += 1\n",
    "#     # while x > 0:\n",
    "#     #     res[y,x] = num\n",
    "#     #     num += 1\n",
    "#     #     x -= 1\n",
    "#     # while y > 0:\n",
    "#     #     res[y,x] = num\n",
    "#     #     num += 1\n",
    "#     #     y -= 1\n",
    "\n",
    "# print(res)"
   ]
  },
  {
   "cell_type": "markdown",
   "id": "b9569c5a-0887-4d8b-abed-61f7ad5b9cc6",
   "metadata": {},
   "source": [
    "Заполнить главную и побочную диагонали"
   ]
  },
  {
   "cell_type": "code",
   "execution_count": null,
   "id": "88a5f7ed-79c4-49d0-99f7-bdd9f4023065",
   "metadata": {},
   "outputs": [],
   "source": [
    "import numpy as np\n",
    "\n",
    "s = 7\n",
    "np.ones()"
   ]
  },
  {
   "cell_type": "markdown",
   "id": "372bc620-e4fe-4bd0-80bb-2de69c1f0e50",
   "metadata": {},
   "source": [
    "Функция формат"
   ]
  },
  {
   "cell_type": "code",
   "execution_count": 67,
   "id": "348563f5-8be3-4c14-a175-695d871e8d47",
   "metadata": {},
   "outputs": [
    {
     "data": {
      "text/plain": [
       "'Приве 3 как 4'"
      ]
     },
     "execution_count": 67,
     "metadata": {},
     "output_type": "execute_result"
    }
   ],
   "source": [
    "\"Приве {} как {}\".format(3,4)"
   ]
  },
  {
   "cell_type": "markdown",
   "id": "f3b22d95-5ade-410b-a9dc-1f151c8925e7",
   "metadata": {},
   "source": [
    "Фунция `get` для соловаря"
   ]
  },
  {
   "cell_type": "code",
   "execution_count": null,
   "id": "9fa13f05-21a7-4dbf-a75e-dc260d4f0a0c",
   "metadata": {},
   "outputs": [],
   "source": [
    "a = {\"A1\"}"
   ]
  },
  {
   "cell_type": "code",
   "execution_count": 88,
   "id": "d8afa626-6d41-493f-9759-c44078baefc2",
   "metadata": {},
   "outputs": [
    {
     "data": {
      "text/plain": [
       "('g', 3)"
      ]
     },
     "execution_count": 88,
     "metadata": {},
     "output_type": "execute_result"
    }
   ],
   "source": [
    "a = dict(b = 4, a = 3, g = 3)\n",
    "a.popitem()"
   ]
  }
 ],
 "metadata": {
  "kernelspec": {
   "display_name": "Python 3 (ipykernel)",
   "language": "python",
   "name": "python3"
  },
  "language_info": {
   "codemirror_mode": {
    "name": "ipython",
    "version": 3
   },
   "file_extension": ".py",
   "mimetype": "text/x-python",
   "name": "python",
   "nbconvert_exporter": "python",
   "pygments_lexer": "ipython3",
   "version": "3.10.7"
  }
 },
 "nbformat": 4,
 "nbformat_minor": 5
}

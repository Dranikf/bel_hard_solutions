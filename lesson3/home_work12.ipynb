{
 "cells": [
  {
   "cell_type": "markdown",
   "id": "b0934376-ba98-4546-bde2-a29422cc9119",
   "metadata": {},
   "source": [
    "**Здачи из главы 12 на дом**"
   ]
  },
  {
   "cell_type": "markdown",
   "id": "55fbe2fb-50ba-411d-87c3-9a7910ff2020",
   "metadata": {},
   "source": [
    "<img src=\"12.24.png\">"
   ]
  },
  {
   "cell_type": "markdown",
   "id": "cfc72ad7-10ca-446f-a0d1-4c9cc4b5547d",
   "metadata": {},
   "source": [
    "a)"
   ]
  },
  {
   "cell_type": "code",
   "execution_count": 107,
   "id": "0ac0b5f3-4f3c-4b07-876a-5f2ad933c1fe",
   "metadata": {},
   "outputs": [
    {
     "data": {
      "text/plain": [
       "[[1, 1, 1, 1, 1, 1],\n",
       " [1, 2, 3, 4, 5, 6],\n",
       " [1, 3, 6, 10, 15, 21],\n",
       " [1, 4, 10, 20, 35, 56],\n",
       " [1, 5, 15, 35, 70, 126],\n",
       " [1, 6, 21, 56, 126, 252]]"
      ]
     },
     "execution_count": 107,
     "metadata": {},
     "output_type": "execute_result"
    }
   ],
   "source": [
    "res = [[1]*6 for i in range(6)]\n",
    "\n",
    "for i in range(1,6):\n",
    "    for j in range(1,6):\n",
    "        res[i][j] = res[i-1][j] + res[i][j-1]\n",
    "\n",
    "res"
   ]
  },
  {
   "cell_type": "markdown",
   "id": "6bd60313-bcff-4a5a-b6b7-633c8bfe5080",
   "metadata": {},
   "source": [
    "b)"
   ]
  },
  {
   "cell_type": "code",
   "execution_count": 24,
   "id": "2c891ef8-82f1-4af0-880d-03c4fc5cd938",
   "metadata": {},
   "outputs": [
    {
     "data": {
      "text/plain": [
       "[[1, 2, 3, 4, 5, 6],\n",
       " [2, 3, 4, 5, 6, 1],\n",
       " [3, 4, 5, 6, 1, 2],\n",
       " [4, 5, 6, 1, 2, 3],\n",
       " [5, 6, 1, 2, 3, 4],\n",
       " [6, 1, 2, 3, 4, 5]]"
      ]
     },
     "execution_count": 24,
     "metadata": {},
     "output_type": "execute_result"
    }
   ],
   "source": [
    "res = []\n",
    "init_list = list(range(1,7))\n",
    "\n",
    "for i in range(6):\n",
    "    res.append(init_list[i:7] + init_list[0:i])\n",
    "    \n",
    "res"
   ]
  },
  {
   "cell_type": "markdown",
   "id": "b3b180cb-43b0-4ca5-bbf2-34330c2fb311",
   "metadata": {},
   "source": [
    "**12.25 (н,о,п,р)**<br>\n",
    "<img src=\"12.25 (н,о,п,р).png\">"
   ]
  },
  {
   "cell_type": "markdown",
   "id": "d2df97c9-704e-403e-b231-3aee2514b246",
   "metadata": {},
   "source": [
    "н)"
   ]
  },
  {
   "cell_type": "code",
   "execution_count": 87,
   "id": "5a3fb0fb-3341-4f8d-ac82-648adee2af8f",
   "metadata": {},
   "outputs": [
    {
     "data": {
      "text/plain": [
       "[[120, 97, 96, 73, 72, 49, 48, 25, 24, 1],\n",
       " [119, 98, 95, 74, 71, 50, 47, 26, 23, 2],\n",
       " [118, 99, 94, 75, 70, 51, 46, 27, 22, 3],\n",
       " [117, 100, 93, 76, 69, 52, 45, 28, 21, 4],\n",
       " [116, 101, 92, 77, 68, 53, 44, 29, 20, 5],\n",
       " [115, 102, 91, 78, 67, 54, 43, 30, 19, 6],\n",
       " [114, 103, 90, 79, 66, 55, 42, 31, 18, 7],\n",
       " [113, 104, 89, 80, 65, 56, 41, 32, 17, 8],\n",
       " [112, 105, 88, 81, 64, 57, 40, 33, 16, 9],\n",
       " [111, 106, 87, 82, 63, 58, 39, 34, 15, 10],\n",
       " [110, 107, 86, 83, 62, 59, 38, 35, 14, 11],\n",
       " [109, 108, 85, 84, 61, 60, 37, 36, 13, 12]]"
      ]
     },
     "execution_count": 87,
     "metadata": {},
     "output_type": "execute_result"
    }
   ],
   "source": [
    "res = [[]*10 for i in range(12)]\n",
    "z = 1 # переменная задающая\n",
    "       # направление движения\n",
    "       # во внутреннем цикле\n",
    "curr_str_ind = 0 # строчка в которую \n",
    "                 # пишем на итерации \n",
    "                 # внутреннего цикла\n",
    "counter = 1\n",
    "\n",
    "for i in range(10):\n",
    "    for j in range(12):\n",
    "        res[curr_str_ind].insert(0,counter)\n",
    "        counter += 1\n",
    "        curr_str_ind += z\n",
    "    z *= -1\n",
    "    curr_str_ind += z\n",
    "    \n",
    "res"
   ]
  },
  {
   "cell_type": "markdown",
   "id": "ddd87dec-bb72-4119-ba45-f5fccdf1d49a",
   "metadata": {},
   "source": [
    "о)"
   ]
  },
  {
   "cell_type": "code",
   "execution_count": 90,
   "id": "b3c17339-853e-4d53-ade4-d00405921545",
   "metadata": {},
   "outputs": [
    {
     "data": {
      "text/plain": [
       "[[12, 13, 36, 37, 60, 61, 84, 85, 108, 109],\n",
       " [11, 14, 35, 38, 59, 62, 83, 86, 107, 110],\n",
       " [10, 15, 34, 39, 58, 63, 82, 87, 106, 111],\n",
       " [9, 16, 33, 40, 57, 64, 81, 88, 105, 112],\n",
       " [8, 17, 32, 41, 56, 65, 80, 89, 104, 113],\n",
       " [7, 18, 31, 42, 55, 66, 79, 90, 103, 114],\n",
       " [6, 19, 30, 43, 54, 67, 78, 91, 102, 115],\n",
       " [5, 20, 29, 44, 53, 68, 77, 92, 101, 116],\n",
       " [4, 21, 28, 45, 52, 69, 76, 93, 100, 117],\n",
       " [3, 22, 27, 46, 51, 70, 75, 94, 99, 118],\n",
       " [2, 23, 26, 47, 50, 71, 74, 95, 98, 119],\n",
       " [1, 24, 25, 48, 49, 72, 73, 96, 97, 120]]"
      ]
     },
     "execution_count": 90,
     "metadata": {},
     "output_type": "execute_result"
    }
   ],
   "source": [
    "res = [[]*10 for i in range(12)]\n",
    "z = -1 # переменная задающая\n",
    "       # направление движения\n",
    "       # во внутреннем цикле\n",
    "curr_str_ind = 11 # строчка в которую \n",
    "                 # пишем на итерации \n",
    "                 # внутреннего цикла\n",
    "\n",
    "counter = 1\n",
    "for i in range(10):\n",
    "    for j in range(12):\n",
    "        res[curr_str_ind].append(counter)\n",
    "        counter += 1\n",
    "        curr_str_ind += z\n",
    "    z *= -1\n",
    "    curr_str_ind += z\n",
    "    \n",
    "res"
   ]
  },
  {
   "cell_type": "markdown",
   "id": "a301f25a-576c-43fe-8caa-cfc92f7b1a9e",
   "metadata": {},
   "source": [
    "п)"
   ]
  },
  {
   "cell_type": "code",
   "execution_count": 101,
   "id": "d04771ae-bbf1-4fcf-a9dd-04a694b4519a",
   "metadata": {},
   "outputs": [
    {
     "data": {
      "text/plain": [
       "[[111, 112, 113, 114, 115, 116, 117, 118, 119, 120],\n",
       " [110, 109, 108, 107, 106, 105, 104, 103, 102, 101],\n",
       " [91, 92, 93, 94, 95, 96, 97, 98, 99, 100],\n",
       " [90, 89, 88, 87, 86, 85, 84, 83, 82, 81],\n",
       " [71, 72, 73, 74, 75, 76, 77, 78, 79, 80],\n",
       " [70, 69, 68, 67, 66, 65, 64, 63, 62, 61],\n",
       " [51, 52, 53, 54, 55, 56, 57, 58, 59, 60],\n",
       " [50, 49, 48, 47, 46, 45, 44, 43, 42, 41],\n",
       " [31, 32, 33, 34, 35, 36, 37, 38, 39, 40],\n",
       " [30, 29, 28, 27, 26, 25, 24, 23, 22, 21],\n",
       " [11, 12, 13, 14, 15, 16, 17, 18, 19, 20],\n",
       " [10, 9, 8, 7, 6, 5, 4, 3, 2, 1]]"
      ]
     },
     "execution_count": 101,
     "metadata": {},
     "output_type": "execute_result"
    }
   ],
   "source": [
    "res = []\n",
    "z = 1\n",
    "\n",
    "for i in range(12):\n",
    "    if z > 0:\n",
    "        res.insert(\n",
    "            0,list(range((i+1)*10,i*10,-1))\n",
    "        )\n",
    "    else:\n",
    "        res.insert(\n",
    "            0, list(range(i*10 + 1, (i+1)*10 + 1))\n",
    "        )\n",
    "    z *= -1\n",
    "    \n",
    "res"
   ]
  },
  {
   "cell_type": "markdown",
   "id": "0a97d9ea-cf73-4b08-8764-b87ae6d067f7",
   "metadata": {},
   "source": [
    "р)"
   ]
  },
  {
   "cell_type": "code",
   "execution_count": 102,
   "id": "bee76b01-0870-403a-a1c1-ee7c24602561",
   "metadata": {},
   "outputs": [
    {
     "data": {
      "text/plain": [
       "[[109, 108, 85, 84, 61, 60, 37, 36, 13, 12],\n",
       " [110, 107, 86, 83, 62, 59, 38, 35, 14, 11],\n",
       " [111, 106, 87, 82, 63, 58, 39, 34, 15, 10],\n",
       " [112, 105, 88, 81, 64, 57, 40, 33, 16, 9],\n",
       " [113, 104, 89, 80, 65, 56, 41, 32, 17, 8],\n",
       " [114, 103, 90, 79, 66, 55, 42, 31, 18, 7],\n",
       " [115, 102, 91, 78, 67, 54, 43, 30, 19, 6],\n",
       " [116, 101, 92, 77, 68, 53, 44, 29, 20, 5],\n",
       " [117, 100, 93, 76, 69, 52, 45, 28, 21, 4],\n",
       " [118, 99, 94, 75, 70, 51, 46, 27, 22, 3],\n",
       " [119, 98, 95, 74, 71, 50, 47, 26, 23, 2],\n",
       " [120, 97, 96, 73, 72, 49, 48, 25, 24, 1]]"
      ]
     },
     "execution_count": 102,
     "metadata": {},
     "output_type": "execute_result"
    }
   ],
   "source": [
    "res = [[]*10 for i in range(12)]\n",
    "z = -1 # переменная задающая\n",
    "       # направление движения\n",
    "       # во внутреннем цикле\n",
    "curr_str_ind = 11 # строчка в которую \n",
    "                 # пишем на итерации \n",
    "                 # внутреннего цикла\n",
    "counter = 1\n",
    "\n",
    "for i in range(10):\n",
    "    for j in range(12):\n",
    "        res[curr_str_ind].insert(0,counter)\n",
    "        counter += 1\n",
    "        curr_str_ind += z\n",
    "    z *= -1\n",
    "    curr_str_ind += z\n",
    "    \n",
    "res"
   ]
  }
 ],
 "metadata": {
  "kernelspec": {
   "display_name": "Python 3 (ipykernel)",
   "language": "python",
   "name": "python3"
  },
  "language_info": {
   "codemirror_mode": {
    "name": "ipython",
    "version": 3
   },
   "file_extension": ".py",
   "mimetype": "text/x-python",
   "name": "python",
   "nbconvert_exporter": "python",
   "pygments_lexer": "ipython3",
   "version": "3.10.7"
  }
 },
 "nbformat": 4,
 "nbformat_minor": 5
}

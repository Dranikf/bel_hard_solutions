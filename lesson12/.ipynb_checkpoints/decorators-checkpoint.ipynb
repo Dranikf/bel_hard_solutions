{
 "cells": [
  {
   "cell_type": "code",
   "execution_count": 6,
   "id": "b8cef271-7342-4228-bdd9-845887df4cfa",
   "metadata": {},
   "outputs": [
    {
     "name": "stdout",
     "output_type": "stream",
     "text": [
      "Передали ли мне что-нибудь?:\n",
      "()\n",
      "{}\n",
      "Python is cool, no argument here.\n",
      "Передали ли мне что-нибудь?:\n",
      "(4, 5, 6)\n",
      "{}\n",
      "4 5 6\n"
     ]
    }
   ],
   "source": [
    "def a_decorator_passing_arbitrary_arguments(function_to_decorate):\n",
    "     # Данная \"обёртка\" принимает любые аргументы\n",
    "    def a_wrapper_accepting_arbitrary_arguments(*args, **kwargs):\n",
    "        print(\"Передали ли мне что-нибудь?:\")\n",
    "        print(args)\n",
    "        print(kwargs)\n",
    "        function_to_decorate(*args, **kwargs)\n",
    "    return a_wrapper_accepting_arbitrary_arguments\n",
    "\n",
    "# Декорирование функции без аргументов\n",
    "@a_decorator_passing_arbitrary_arguments\n",
    "def function_with_no_argument():\n",
    "     print(\"Python is cool, no argument here.\")\n",
    "        \n",
    "function_with_no_argument()\n",
    "\n",
    "# Дкорирование функции с обычными аргументами\n",
    "@a_decorator_passing_arbitrary_arguments\n",
    "def function_with_arguments(a, b, c):\n",
    "    print(a,b,c)\n",
    "    \n",
    "function_with_arguments(4,5,6)"
   ]
  }
 ],
 "metadata": {
  "kernelspec": {
   "display_name": "Python 3 (ipykernel)",
   "language": "python",
   "name": "python3"
  },
  "language_info": {
   "codemirror_mode": {
    "name": "ipython",
    "version": 3
   },
   "file_extension": ".py",
   "mimetype": "text/x-python",
   "name": "python",
   "nbconvert_exporter": "python",
   "pygments_lexer": "ipython3",
   "version": "3.10.7"
  }
 },
 "nbformat": 4,
 "nbformat_minor": 5
}

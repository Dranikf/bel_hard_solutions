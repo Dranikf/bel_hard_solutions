{
 "cells": [
  {
   "cell_type": "markdown",
   "id": "32b10099-4925-4e50-bf61-343e8e621495",
   "metadata": {},
   "source": [
    "**Урок 6**"
   ]
  },
  {
   "cell_type": "markdown",
   "id": "4420224a-0083-4548-aa7c-e4be0853aea1",
   "metadata": {},
   "source": [
    "приращение списков"
   ]
  },
  {
   "cell_type": "code",
   "execution_count": 3,
   "id": "1187a3cd-1ff8-49d5-8e72-f791278247d2",
   "metadata": {},
   "outputs": [
    {
     "data": {
      "text/plain": [
       "[5, 3]"
      ]
     },
     "execution_count": 3,
     "metadata": {},
     "output_type": "execute_result"
    }
   ],
   "source": [
    "mas = []\n",
    "mas += [5]\n",
    "mas += [3]\n",
    "mas"
   ]
  },
  {
   "cell_type": "markdown",
   "id": "564951d5-d9c9-421c-91a3-f106b2bc7d78",
   "metadata": {},
   "source": [
    "Lambda"
   ]
  },
  {
   "cell_type": "markdown",
   "id": "1e1a92e4-27f8-496e-80fd-ca3b4f0137ac",
   "metadata": {},
   "source": [
    "Фишки с глобальными/логкальными переменными. Это выдает ошибку, мы не объявили!"
   ]
  },
  {
   "cell_type": "code",
   "execution_count": 1,
   "id": "1b4e92d9-586a-4b4b-8778-6254fff6ebfa",
   "metadata": {},
   "outputs": [
    {
     "ename": "UnboundLocalError",
     "evalue": "local variable 'x' referenced before assignment",
     "output_type": "error",
     "traceback": [
      "\u001b[0;31m---------------------------------------------------------------------------\u001b[0m",
      "\u001b[0;31mUnboundLocalError\u001b[0m                         Traceback (most recent call last)",
      "Input \u001b[0;32mIn [1]\u001b[0m, in \u001b[0;36m<module>\u001b[0;34m\u001b[0m\n\u001b[1;32m      3\u001b[0m     x \u001b[38;5;241m=\u001b[39m x\u001b[38;5;241m+\u001b[39m \u001b[38;5;241m100\u001b[39m\n\u001b[1;32m      4\u001b[0m     \u001b[38;5;28mprint\u001b[39m(x)\n\u001b[0;32m----> 6\u001b[0m \u001b[43mf\u001b[49m\u001b[43m(\u001b[49m\u001b[43m)\u001b[49m\n\u001b[1;32m      7\u001b[0m \u001b[38;5;28mprint\u001b[39m(x)\n",
      "Input \u001b[0;32mIn [1]\u001b[0m, in \u001b[0;36mf\u001b[0;34m()\u001b[0m\n\u001b[1;32m      2\u001b[0m \u001b[38;5;28;01mdef\u001b[39;00m \u001b[38;5;21mf\u001b[39m():\n\u001b[0;32m----> 3\u001b[0m     x \u001b[38;5;241m=\u001b[39m \u001b[43mx\u001b[49m\u001b[38;5;241m+\u001b[39m \u001b[38;5;241m100\u001b[39m\n\u001b[1;32m      4\u001b[0m     \u001b[38;5;28mprint\u001b[39m(x)\n",
      "\u001b[0;31mUnboundLocalError\u001b[0m: local variable 'x' referenced before assignment"
     ]
    }
   ],
   "source": [
    "x = 100\n",
    "def f():\n",
    "    x = x+ 100\n",
    "    print(x)\n",
    "    \n",
    "f()\n",
    "print(x)"
   ]
  },
  {
   "cell_type": "markdown",
   "id": "ca49001a-f375-46d0-8265-54a3bf42a0bc",
   "metadata": {},
   "source": [
    "# Классы"
   ]
  },
  {
   "cell_type": "code",
   "execution_count": 35,
   "id": "a88e40d5-25bb-416b-8d96-f9491e087298",
   "metadata": {},
   "outputs": [],
   "source": [
    "class car:\n",
    "    def __init__(self, mark, model, price, power):\n",
    "        self.mark = mark\n",
    "        self.model = model\n",
    "        self.price = price\n",
    "        self.power = power\n",
    "        \n",
    "    def __str__(self):\n",
    "        '''\n",
    "            Стандарный метод для вывода.\n",
    "            Будет взаимодействовать с функцией print\n",
    "        '''\n",
    "        return f'''{self.mark} {self.model} {self.price} {self.power}'''\n",
    "    def say(self):\n",
    "        print(\"Воу!\")\n",
    "    \n",
    "    \n",
    "        \n",
    "my_car = car(\"mercedes\", \"E220\", 45000, 230)"
   ]
  },
  {
   "cell_type": "markdown",
   "id": "4886fc19-db5a-4dbc-a26d-84b0b9b07b72",
   "metadata": {},
   "source": [
    "Вызов метода `__str__`"
   ]
  },
  {
   "cell_type": "code",
   "execution_count": 20,
   "id": "1a41e61d-f2e5-4b0b-ad3f-0318727d5c3f",
   "metadata": {},
   "outputs": [
    {
     "data": {
      "text/plain": [
       "'\\n        mercedes \\n        E220 \\n        45000 \\n        230\\n        '"
      ]
     },
     "execution_count": 39,
     "metadata": {},
     "output_type": "execute_result"
    }
   ],
   "source": [
    "str(my_car)"
   ]
  },
  {
   "cell_type": "markdown",
   "id": "2353d093-7520-4fa4-b83e-685077ebf1cb",
   "metadata": {},
   "source": [
    "Можно так сделать"
   ]
  },
  {
   "cell_type": "code",
   "execution_count": 31,
   "id": "09cf7764-d853-48f8-8939-940e452971da",
   "metadata": {},
   "outputs": [
    {
     "name": "stdout",
     "output_type": "stream",
     "text": [
      "я супер сточка\n"
     ]
    }
   ],
   "source": [
    "car.total = \"я супер сточка\"\n",
    "a = car(1,2,3,4)\n",
    "print(a.total)\n",
    "# а после этого можно уже не будет поля total\n",
    "del car.total"
   ]
  },
  {
   "cell_type": "markdown",
   "id": "ac3e58c9-a18a-451c-b26f-ff1539f93246",
   "metadata": {},
   "source": [
    "Альтернативный способ вызвать метод"
   ]
  },
  {
   "cell_type": "code",
   "execution_count": 36,
   "id": "fa839ed6-0861-4d38-8521-77a96193ecc9",
   "metadata": {},
   "outputs": [
    {
     "name": "stdout",
     "output_type": "stream",
     "text": [
      "Воу!\n"
     ]
    }
   ],
   "source": [
    "my_car = car(1,23,45,5)\n",
    "# то есть я передал экземпляр\n",
    "# и он попал в аргумент self\n",
    "car.say(my_car)"
   ]
  },
  {
   "cell_type": "markdown",
   "id": "86f6d4c3-850e-4f9d-8555-c2c6ec919eb0",
   "metadata": {},
   "source": [
    "Задача с выводом"
   ]
  },
  {
   "cell_type": "code",
   "execution_count": 44,
   "id": "f1882285-4f41-41a7-b70d-2ca6a3343b79",
   "metadata": {},
   "outputs": [
    {
     "name": "stdout",
     "output_type": "stream",
     "text": [
      "Ksenia может купить:\n",
      "Vika может купить:\n",
      "Milana может купить:\n",
      "GILI 1 5000 200\n",
      "Folksvagen 2 1000 150\n",
      "Fedor может купить:\n",
      "GILI 1 5000 200\n",
      "Folksvagen 2 1000 150\n",
      "Fedor Cars super 150000 500\n"
     ]
    }
   ],
   "source": [
    "class car:\n",
    "    def __init__(self, mark, model, price, power):\n",
    "        self.mark = mark\n",
    "        self.model = model\n",
    "        self.price = price\n",
    "        self.power = power\n",
    "        \n",
    "    def __str__(self):\n",
    "        '''\n",
    "            Стандарный метод для вывода.\n",
    "            Будет взаимодействовать с функцией print\n",
    "        '''\n",
    "        return f'''{self.mark} {self.model} {self.price} {self.power}'''\n",
    "    def say(self):\n",
    "        print(\"Воу!\")\n",
    "        \n",
    "class Customer():\n",
    "    def __init__(self, name, money):\n",
    "        self.name = name\n",
    "        self.money = money\n",
    "        \n",
    "    def __str__(self):\n",
    "        return self.name + \" может купить:\"\n",
    "        \n",
    "car_list = [\n",
    "    car(\"GILI\", \"1\", 5000, 200),\n",
    "    car(\"Folksvagen\", \"2\", 1000, 150),\n",
    "    car(\"Fedor Cars\", \"super\", 150000, 500)\n",
    "]\n",
    "\n",
    "customres = [\n",
    "    Customer(\"Ksenia\", 10),\n",
    "    Customer(\"Vika\", 500), \n",
    "    Customer(\"Milana\", 10000),\n",
    "    Customer(\"Fedor\", 3392013809128)\n",
    "]\n",
    "\n",
    "for cust in customres:\n",
    "    print(cust)\n",
    "    for car in car_list:\n",
    "        if car.price < cust.money:\n",
    "            print(car)"
   ]
  }
 ],
 "metadata": {
  "kernelspec": {
   "display_name": "Python 3 (ipykernel)",
   "language": "python",
   "name": "python3"
  },
  "language_info": {
   "codemirror_mode": {
    "name": "ipython",
    "version": 3
   },
   "file_extension": ".py",
   "mimetype": "text/x-python",
   "name": "python",
   "nbconvert_exporter": "python",
   "pygments_lexer": "ipython3",
   "version": "3.10.7"
  }
 },
 "nbformat": 4,
 "nbformat_minor": 5
}

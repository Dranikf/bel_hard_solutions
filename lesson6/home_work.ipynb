{
 "cells": [
  {
   "cell_type": "markdown",
   "id": "9d43381b-ce4e-4c88-8d4a-e41567b8e918",
   "metadata": {},
   "source": [
    "**Домашняя работа к занятию 22.10.2022**\n",
    "\n",
    "Тут я буду разбираться с тем как использовать tkinter"
   ]
  },
  {
   "cell_type": "code",
   "execution_count": 1,
   "id": "d33d6667-9091-4ae2-ac29-3b03e0dc93ce",
   "metadata": {},
   "outputs": [],
   "source": [
    "from tkinter import *"
   ]
  },
  {
   "cell_type": "markdown",
   "id": "e56cc38e-1aa2-4b07-9049-f92ba654f32d",
   "metadata": {
    "jp-MarkdownHeadingCollapsed": true,
    "tags": []
   },
   "source": [
    "# Основы `tkinter`"
   ]
  },
  {
   "cell_type": "markdown",
   "id": "03428808-0162-49de-960e-779988606292",
   "metadata": {
    "jp-MarkdownHeadingCollapsed": true,
    "tags": []
   },
   "source": [
    "### Начало работы"
   ]
  },
  {
   "cell_type": "markdown",
   "id": "e655f208-60b5-405e-82bd-3d504299e290",
   "metadata": {},
   "source": [
    "Как запустить окошко в `tkinter`:\n",
    "- создаётся `root`;\n",
    "- вызывается метод `mainloop`."
   ]
  },
  {
   "cell_type": "code",
   "execution_count": 15,
   "id": "0a001bd6-45be-49f3-bb71-440c3ace4594",
   "metadata": {},
   "outputs": [],
   "source": [
    "Tk().mainloop()"
   ]
  },
  {
   "cell_type": "markdown",
   "id": "2b8a2648-b427-43c2-b89f-b09de685146e",
   "metadata": {},
   "source": [
    "Начнем понемногу заполнять наше окошко"
   ]
  },
  {
   "cell_type": "code",
   "execution_count": 17,
   "id": "0d95a3ac-5bbf-4683-b6b7-01614e969d8f",
   "metadata": {},
   "outputs": [],
   "source": [
    "root = Tk()\n",
    "\n",
    "# создание элементов\n",
    "e = Entry(root, width=20)\n",
    "b = Button(root, text=\"Преобразовать\")\n",
    "l = Label(root, bg='black', fg='white', width=20)\n",
    "\n",
    "# простейший способ занинуть элементы в окошко\n",
    "e.pack()\n",
    "b.pack()\n",
    "l.pack()\n",
    "\n",
    "root.mainloop()"
   ]
  },
  {
   "cell_type": "markdown",
   "id": "ab62c5f9-68d7-4355-a34d-2b037affcce4",
   "metadata": {},
   "source": [
    "**Обработчик события.** Заполним научим кнопку доставать запить из строки ввода и, поменяв порядок сров на обратный помещать этот текст в label"
   ]
  },
  {
   "cell_type": "code",
   "execution_count": 20,
   "id": "f6b09494-0bf5-45b6-9da1-863e20721bb5",
   "metadata": {},
   "outputs": [
    {
     "name": "stdout",
     "output_type": "stream",
     "text": [
      "<ButtonPress event state=Mod2 num=1 x=55 y=14>\n",
      "<ButtonPress event state=Mod2 num=1 x=55 y=14>\n",
      "<ButtonPress event state=Mod2 num=1 x=55 y=14>\n",
      "<ButtonPress event state=Mod2 num=1 x=55 y=14>\n",
      "<ButtonPress event state=Mod2 num=1 x=81 y=23>\n",
      "<ButtonPress event state=Mod2 num=1 x=94 y=14>\n",
      "<ButtonPress event state=Mod2 num=1 x=17 y=15>\n"
     ]
    }
   ],
   "source": [
    "root = Tk()\n",
    "\n",
    "# создание элементов\n",
    "e = Entry(root, width=20)\n",
    "b = Button(root, text=\"Преобразовать\")\n",
    "l = Label(root, bg='black', fg='white', width=20)\n",
    "\n",
    "# простейший способ занинуть элементы в окошко\n",
    "e.pack()\n",
    "b.pack()\n",
    "l.pack()\n",
    "\n",
    "def strToSortlist(event):\n",
    "    '''\n",
    "        Это и есть обработчик события\n",
    "    '''\n",
    "    s = e.get()\n",
    "    s = s.split()\n",
    "    s.sort()\n",
    "    print(event)\n",
    "    l['text'] = ' '.join(s)\n",
    "\n",
    "# говорим кнопке что происходит когда её нажимают\n",
    "b.bind('<Button-1>', strToSortlist)\n",
    "    \n",
    "root.mainloop()"
   ]
  },
  {
   "cell_type": "markdown",
   "id": "7408017a-081e-4057-b447-d2690ab91be3",
   "metadata": {
    "jp-MarkdownHeadingCollapsed": true,
    "tags": []
   },
   "source": [
    "### ООП в `tkinter`\n",
    "\n",
    "Обычно используют объектно ориентированный подход - то же самое, что в прошлой ячейке , только созданное через `class Block` "
   ]
  },
  {
   "cell_type": "code",
   "execution_count": 22,
   "id": "51189831-510b-43e3-80ab-9c923a142859",
   "metadata": {},
   "outputs": [],
   "source": [
    "class Block:\n",
    "    def __init__(self, master):\n",
    "        self.e = Entry(master, width=20)\n",
    "        self.b = Button(master, text=\"Преобразовать\")\n",
    "        self.l = Label(master, bg='black', fg='white', width=20)\n",
    "        \n",
    "        # альтернативный способ задать обработчик\n",
    "        # события, только почему-то не просит event\n",
    "        self.b['command'] = self.strToSortlist\n",
    "        \n",
    "        \n",
    "        self.e.pack()\n",
    "        self.b.pack()\n",
    "        self.l.pack()\n",
    "    def strToSortlist(self):\n",
    "        s = self.e.get()\n",
    "        s = s.split()\n",
    "        s.sort()\n",
    "        self.l['text'] = ' '.join(s)\n",
    "        \n",
    "root = Tk()\n",
    "\n",
    "Block(root)\n",
    "\n",
    "root.mainloop()"
   ]
  },
  {
   "cell_type": "markdown",
   "id": "e48e98d4-f353-48f6-ab4a-a05ea460d487",
   "metadata": {},
   "source": [
    "Таким обрзом можно создавать несколько односипных комбинаций виджетов в одном окне"
   ]
  },
  {
   "cell_type": "code",
   "execution_count": 29,
   "id": "f41627c7-bd6b-4e59-a3eb-dcef75d7cb56",
   "metadata": {},
   "outputs": [],
   "source": [
    "class Block:\n",
    "    \n",
    "    def __init__(self, master):\n",
    "        self.e = Entry(master, width=20)\n",
    "        self.b = Button(master, text=\"Преобразовать\")\n",
    "        self.l = Label(master, bg='black', fg='white', width=20)\n",
    "        self.e.pack()\n",
    "        self.b.pack()\n",
    "        self.l.pack()\n",
    "        \n",
    "    def setFunc(self, func):\n",
    "        '''\n",
    "            Тут задается дейсвие которое делает кнопка.\n",
    "            func - это сточка которая будет соответсвать действию\n",
    "                   может принимать занчения {strToSortlist, strReverse}\n",
    "                   обе эти функции объявляют ниже;\n",
    "        '''\n",
    "        self.b['command'] = eval('self.' + func)\n",
    "        \n",
    "    def strToSortlist(self):\n",
    "        '''\n",
    "            Чтение строки записанной в строке ввода\n",
    "            и выдача его в label в отсортированном виде.\n",
    "        '''\n",
    "        s = self.e.get()\n",
    "        s = s.split()\n",
    "        s.sort()\n",
    "        self.l['text'] = ' '.join(s)\n",
    "        \n",
    "    def strReverse(self):\n",
    "        '''\n",
    "            Чтение строки записанной в строке ввода\n",
    "            и выдача его в label в обратном порядке слов.\n",
    "        '''\n",
    "        s = self.e.get()\n",
    "        s = s.split()\n",
    "        s.reverse()\n",
    "        self.l['text'] = ' '.join(s)\n",
    "        \n",
    "\n",
    "root = Tk()\n",
    "\n",
    "first_block = Block(root)\n",
    "first_block.setFunc('strToSortlist')\n",
    "\n",
    "second_block = Block(root)\n",
    "second_block.setFunc('strReverse')\n",
    "\n",
    "root.mainloop()"
   ]
  },
  {
   "cell_type": "markdown",
   "id": "882f1476-69b9-45ed-bc20-88a7f768231a",
   "metadata": {},
   "source": [
    "Из мнтересного в последнем блоке кода:"
   ]
  },
  {
   "cell_type": "code",
   "execution_count": 25,
   "id": "aa3a7117-6316-4c1b-8e63-9cc71728b878",
   "metadata": {},
   "outputs": [
    {
     "name": "stdout",
     "output_type": "stream",
     "text": [
      "test\n"
     ]
    }
   ],
   "source": [
    "# выполнить код заданный строчкой\n",
    "eval(\"print('test')\")"
   ]
  },
  {
   "cell_type": "markdown",
   "id": "1c8a01b5-29bf-4b7a-88e3-da207e9c61dd",
   "metadata": {
    "jp-MarkdownHeadingCollapsed": true,
    "tags": []
   },
   "source": [
    "### Практическое\n",
    "\n",
    "Требуется создать простейший калькулятор с двумя операндами. И кнопками обозначающими действия. Этот колькулатор долшен приводить к ошибке в клучае некорректных операндов."
   ]
  },
  {
   "cell_type": "markdown",
   "id": "7de18b79-5d91-4998-984b-3277f584b304",
   "metadata": {},
   "source": [
    "*Обработчики событий*"
   ]
  },
  {
   "cell_type": "code",
   "execution_count": 67,
   "id": "24cecfd5-7ebe-4826-9265-45c6ecc593be",
   "metadata": {},
   "outputs": [],
   "source": [
    "def make_compution(oper1, oper2, operation):\n",
    "    '''\n",
    "        Функция производит вычисление какой либо операци\n",
    "        доступной в калькуляторе. Для операндов предусмотрена\n",
    "        проверка соотсветвия числовому типу.\n",
    "        Inputs:\n",
    "            oper1 - str первый операнд;\n",
    "            oper2 - str второй операнд;\n",
    "            operation - str арифметическая операция, предусмотрены {+,-,*,/}\n",
    "    '''\n",
    "    \n",
    "    try:\n",
    "        float(oper1)\n",
    "        float(oper2)\n",
    "    except ValueError:\n",
    "        return \"Ошибка\"\n",
    "\n",
    "    return eval(oper1 + operation + oper2)\n",
    "\n",
    "def plus_button(event):\n",
    "    result_lab['text'] = make_compution(op1_ent.get(), op2_ent.get(), \"+\")\n",
    "    \n",
    "def minus_button(event):\n",
    "    result_lab['text'] = make_compution(op1_ent.get(), op2_ent.get(), \"-\")\n",
    "\n",
    "def divide_button(event):\n",
    "    result_lab['text'] = make_compution(op1_ent.get(), op2_ent.get(), \"/\")\n",
    "\n",
    "def multiply_button(event):\n",
    "    result_lab['text'] = make_compution(op1_ent.get(), op2_ent.get(), \"*\")"
   ]
  },
  {
   "cell_type": "code",
   "execution_count": null,
   "id": "dacb2f58-906e-4b93-8f34-c46c6106dfa4",
   "metadata": {},
   "outputs": [],
   "source": [
    "root = Tk()\n",
    "\n",
    "# Создание=================================\n",
    "op1_ent = Entry(root)\n",
    "op2_ent = Entry(root)\n",
    "\n",
    "plus_but = Button(root, text = \"+\")\n",
    "minus_but = Button(root, text = \"-\")\n",
    "multiply_but = Button(root, text = \"*\")\n",
    "divide_but = Button(root, text = \"/\")\n",
    "\n",
    "result_lab = Label()\n",
    "# ==========================================\n",
    "\n",
    "# Размещение================================\n",
    "op1_ent.pack()\n",
    "op2_ent.pack()\n",
    "\n",
    "plus_but.pack()\n",
    "minus_but.pack()\n",
    "multiply_but.pack()\n",
    "divide_but.pack()\n",
    "\n",
    "result_lab.pack()\n",
    "# ==========================================\n",
    "\n",
    "\n",
    "plus_but.bind(\"<Button-1>\", plus_button)\n",
    "minus_but.bind(\"<Button-1>\", minus_button)\n",
    "multiply_but.bind(\"<Button-1>\", multiply_button)\n",
    "divide_but.bind(\"<Button-1>\", divide_button)\n",
    "\n",
    "root.mainloop()"
   ]
  },
  {
   "cell_type": "markdown",
   "id": "387a28f7-a7b6-42aa-806b-1108381dffab",
   "metadata": {},
   "source": [
    "В итоге получается вот такой калькуляторчик\n",
    "\n",
    "<img src=\"calculator1.png\">"
   ]
  },
  {
   "cell_type": "markdown",
   "id": "f3ab9e49-84c9-4fdd-9a48-dfee6c7ac614",
   "metadata": {
    "jp-MarkdownHeadingCollapsed": true,
    "tags": []
   },
   "source": [
    "# Button, Label и Entry"
   ]
  },
  {
   "cell_type": "markdown",
   "id": "33c35f89-32cb-47f1-8cfb-e6250cee8a84",
   "metadata": {
    "jp-MarkdownHeadingCollapsed": true,
    "tags": []
   },
   "source": [
    "### Button\n",
    "\n",
    "Основные свойсва кнопки (и не только):\n",
    "- `text` отвечает за надпись на кнопке;\n",
    "- `bg` овечает за цвет заднего фона;\n",
    "- `activebackground` фон кропки в состоянии наведения на неё;\n",
    "- `fg` цвет текста кнопки;\n",
    "- `activeforeground` цвет текста кнопки в наведенном состоянии."
   ]
  },
  {
   "cell_type": "code",
   "execution_count": 10,
   "id": "f82a5e55-fd31-468c-8dd6-52b0930eff71",
   "metadata": {},
   "outputs": [],
   "source": [
    "root = Tk()\n",
    "b1 = Button(text=\"Изменить\", width=15, height=3)\n",
    "\n",
    "def change():\n",
    "    b1['text'] = \"Изменено\"\n",
    "    b1['bg'] = '#000000'\n",
    "    b1['activebackground'] = '#555555'\n",
    "    b1['fg'] = '#ff00ff'\n",
    "    b1['activeforeground'] = '#ffffff'\n",
    "\n",
    "b1.config(command=change)\n",
    "\n",
    "b1.pack()\n",
    "root.mainloop()"
   ]
  },
  {
   "cell_type": "markdown",
   "id": "437bc3ab-8bca-4d26-9c10-282b54761a3b",
   "metadata": {
    "jp-MarkdownHeadingCollapsed": true,
    "tags": []
   },
   "source": [
    "### Label"
   ]
  },
  {
   "cell_type": "markdown",
   "id": "10310d11-e7a7-4a88-92f2-6e81fd6eb82b",
   "metadata": {},
   "source": [
    "Основные свойсва метки (и не только):\n",
    "- `font` позволит настроить шрифт;\n",
    "- `bd` позволит настроить отступы от текста в пикселях."
   ]
  },
  {
   "cell_type": "code",
   "execution_count": 18,
   "id": "a3c7be50-44ac-4074-ae32-84a1eb6a5c33",
   "metadata": {},
   "outputs": [],
   "source": [
    "root = Tk()\n",
    "l1 = Label(\n",
    "    text=\"bd = 20\", \n",
    "    font=\"Arial 32\"\n",
    ")\n",
    "l2 = Label(\n",
    "    text=\"bd = 0\", \n",
    "    font=(\"Comic Sans MS\", 24, \"bold\")\n",
    ")\n",
    "l1.config(bd=20, bg='#ffaaaa')\n",
    "l2.config(bg='#aaffff')\n",
    "l1.pack()\n",
    "l2.pack()\n",
    "root.mainloop()"
   ]
  },
  {
   "cell_type": "markdown",
   "id": "357abf2f-8d90-4881-b5be-b22de003c3d1",
   "metadata": {
    "jp-MarkdownHeadingCollapsed": true,
    "tags": []
   },
   "source": [
    "### Entry (строка ввода)\n",
    "\n",
    "Свойсва схожи с `Button` и `Label`, основной интерес к методам:\n",
    "- `insert` вставит текст в строку ввода (`<позиция>`, `<текст>`), для вставки в конец строки можно исопльзовать константу `END`;\n",
    "- `get` получит текст из строки ввода;\n",
    "- `delete` произведет удаление текста из строки ввода."
   ]
  },
  {
   "cell_type": "code",
   "execution_count": 20,
   "id": "353efea4-266c-4f7d-a05c-5f1064c8ab7b",
   "metadata": {},
   "outputs": [],
   "source": [
    "root = Tk()\n",
    "e1 = Entry(width=50)\n",
    "def insert():\n",
    "    e1.insert(END,\"Tkinter - GUI \")\n",
    "b = Button(text=\"Вставить\", command=insert)\n",
    "e1.pack()\n",
    "b.pack()\n",
    "root.mainloop()"
   ]
  },
  {
   "cell_type": "markdown",
   "id": "8e493179-82df-43fa-adb3-32af275ceb73",
   "metadata": {
    "jp-MarkdownHeadingCollapsed": true,
    "tags": []
   },
   "source": [
    "### Практическое\n",
    "\n",
    "Напишите программу, состоящую из семи кнопок, цвета которых соответствуют цветам радуги. При нажатии на ту или иную кнопку в текстовое поле должен вставляться код цвета, а в метку – название цвета.<br>\n",
    "Коды цветов в шестнадцатеричной кодировке: \n",
    "- #ff0000 – красный;\n",
    "- #ff7d00 – оранжевый;\n",
    "- #ffff00 – желтый; \n",
    "- #00ff00 – зеленый; \n",
    "- #007dff – голубой;\n",
    "- #0000ff – синий; \n",
    "- #7d00ff – фиолетовый."
   ]
  },
  {
   "cell_type": "code",
   "execution_count": 144,
   "id": "02e0a3ec-241c-48e9-8aa4-bc1dba7eae17",
   "metadata": {},
   "outputs": [],
   "source": [
    "colors_dict = {\n",
    "    \"#ff0000\" : \"Красный\",\n",
    "    \"#ff7d00\" : \"Оранжевый\",\n",
    "    \"#ffff00\" : \"Желтый\",\n",
    "    \"#00ff00\" : \"Зеленый\",\n",
    "    \"#007dff\" : \"Голубой\",\n",
    "    \"#0000ff\" : \"Синий\",\n",
    "    \"#7d00ff\" : \"Фиолетовый\"\n",
    "}\n",
    "\n",
    "root = Tk()\n",
    "\n",
    "name_label = Label(width = 20)\n",
    "code_entry = Entry(width = 20, justify = CENTER)\n",
    "\n",
    "name_label.pack()\n",
    "code_entry.pack()\n",
    "\n",
    "def deal_with_color(code, color):\n",
    "    '''\n",
    "        Замена цвета в программе\n",
    "    '''\n",
    "    name_label[\"text\"] = color\n",
    "    code_entry.delete(0,END)\n",
    "    code_entry.insert(0, code)\n",
    "\n",
    "# Этот цикл не работает как надо\n",
    "# пока разберусь, решил захардкодить\n",
    "# for code, color in colors_dict.items():\n",
    "#     Button(\n",
    "#         bg = code, width = 17,\n",
    "#         command = lambda : deal_with_color(code, color)\n",
    "#     ).pack()\n",
    "  \n",
    "    \n",
    "Button(\n",
    "    bg = \"#ff0000\", width = 17,\n",
    "    command = lambda : deal_with_color(\"#ff0000\", \"Красный\")\n",
    ").pack()\n",
    "Button(\n",
    "    bg = \"#ff7d00\", width = 17,\n",
    "    command = lambda : deal_with_color(\"#ff7d00\", \"Оранжевый\")\n",
    ").pack()\n",
    "Button(\n",
    "    bg = \"#ffff00\", width = 17,\n",
    "    command = lambda : deal_with_color(\"#ffff00\", \"Желтый\")\n",
    ").pack()\n",
    "Button(\n",
    "    bg = \"#00ff00\", width = 17,\n",
    "    command = lambda : deal_with_color(\"#00ff00\", \"Зеленый\")\n",
    ").pack()\n",
    "Button(\n",
    "    bg = \"#007dff\", width = 17,\n",
    "    command = lambda : deal_with_color(\"#007dff\", \"Голубой\")\n",
    ").pack()\n",
    "Button(\n",
    "    bg = \"#0000ff\", width = 17,\n",
    "    command = lambda : deal_with_color(\"#0000ff\", \"Синий\")\n",
    ").pack()\n",
    "Button(\n",
    "    bg = \"#7d00ff\", width = 17,\n",
    "    command = lambda : deal_with_color(\"#7d00ff\", \"Фиолетовый\")\n",
    ").pack()\n",
    "    \n",
    "root.mainloop()"
   ]
  },
  {
   "cell_type": "markdown",
   "id": "b369e20b-15b6-461f-b0ea-7c67a5c27077",
   "metadata": {},
   "source": [
    "В результате получается окошко вида\n",
    "\n",
    "<img src=\"colors picker.png\">"
   ]
  },
  {
   "cell_type": "code",
   "execution_count": 134,
   "id": "e85b0eb2-22cb-4167-a53b-7af553f23176",
   "metadata": {},
   "outputs": [
    {
     "name": "stdout",
     "output_type": "stream",
     "text": [
      "4\n"
     ]
    }
   ],
   "source": [
    "functions_list = []\n",
    "\n",
    "for i in range(5):\n",
    "    f = lambda : print(i)\n",
    "    functions_list.append(f)\n",
    "    \n",
    "functions_list[0]()"
   ]
  },
  {
   "cell_type": "code",
   "execution_count": 116,
   "id": "457b25a1-902c-481c-ab28-31268f659ea6",
   "metadata": {},
   "outputs": [
    {
     "name": "stdout",
     "output_type": "stream",
     "text": [
      "1\n"
     ]
    }
   ],
   "source": [
    "functions_list.append(lambda : print(0))\n",
    "functions_list.append(lambda : print(1))\n",
    "\n",
    "functions_list[1]()"
   ]
  },
  {
   "cell_type": "markdown",
   "id": "04a9fdaf-7bd8-4215-8aa0-160db99e566f",
   "metadata": {},
   "source": [
    "# Метод `pack` (как располагать элемены в окне)\n",
    "\n",
    "Альтеративные методы `grid` и `place`"
   ]
  },
  {
   "cell_type": "markdown",
   "id": "92c91961-b8ad-4e92-9286-ce83fc0b5501",
   "metadata": {},
   "source": [
    "Четыре раскрашенные `Label` которые мы будем размещать всевозможнейшеми образами, предусмотренными методом `pack`."
   ]
  },
  {
   "cell_type": "code",
   "execution_count": 16,
   "id": "605341aa-3ac5-45a3-bee5-fa45d84bad2d",
   "metadata": {},
   "outputs": [],
   "source": [
    "default_label_sizes = {\n",
    "    \"width\" : 7, \"height\" : 4\n",
    "}\n",
    "\n",
    "def define_labels():\n",
    "    l1 = Label(**default_label_sizes, bg='yellow', text=\"1\")\n",
    "    l2 = Label(**default_label_sizes, bg='orange', text=\"2\")\n",
    "    l3 = Label(**default_label_sizes, bg='lightgreen', text=\"3\")\n",
    "    l4 = Label(**default_label_sizes, bg='lightblue', text=\"4\")\n",
    "    \n",
    "    global l_arr \n",
    "    l_arr = [l1, l2, l3, l4]"
   ]
  },
  {
   "cell_type": "markdown",
   "id": "5738306f-f084-4c0e-b785-93b41bf0ff65",
   "metadata": {
    "tags": []
   },
   "source": [
    "## Параметр `side`"
   ]
  },
  {
   "cell_type": "markdown",
   "id": "3b3672d7-1072-4d5f-a14e-8a7eae037005",
   "metadata": {
    "jp-MarkdownHeadingCollapsed": true,
    "tags": []
   },
   "source": [
    "### `TOP` или как дейсвует `pack` по умолчанию"
   ]
  },
  {
   "cell_type": "markdown",
   "id": "b6c73451-42c3-4314-8180-03501fb5e974",
   "metadata": {},
   "source": [
    "По умолчанию элементы пытаются занять самую высокую возможную позицию (эквивалентно если методу `pack` в параметр `side` передать предопределенную константу `TOP`)."
   ]
  },
  {
   "cell_type": "code",
   "execution_count": 13,
   "id": "ac42be0e-e9ef-4ccb-9d6e-f39b45ba1776",
   "metadata": {},
   "outputs": [],
   "source": [
    "root = Tk()\n",
    "define_labels()\n",
    "\n",
    "for l in l_arr:\n",
    "    l.pack()\n",
    "\n",
    "root.mainloop()"
   ]
  },
  {
   "cell_type": "markdown",
   "id": "d5edfc5d-de80-46b3-90c5-c16a044e80a9",
   "metadata": {},
   "source": [
    "<img src=\"pack_side_top.png\">"
   ]
  },
  {
   "cell_type": "markdown",
   "id": "937f7b7b-0893-466f-b41e-fd98f4fe0688",
   "metadata": {
    "jp-MarkdownHeadingCollapsed": true,
    "tags": []
   },
   "source": [
    "### `BOTTOM` \n",
    "\n",
    "Если же указать в параметр `side` предопределенную констану `BOTTOM`, то получаем, что элементы пытается занять самую низкую возможную позицию"
   ]
  },
  {
   "cell_type": "code",
   "execution_count": null,
   "id": "22afe149-45c8-4211-bd50-b74692c97786",
   "metadata": {},
   "outputs": [],
   "source": [
    "root = Tk()\n",
    "define_labels()\n",
    "\n",
    "for l in l_arr:\n",
    "    l.pack(side = BOTTOM)\n",
    "\n",
    "root.mainloop()"
   ]
  },
  {
   "cell_type": "markdown",
   "id": "535b981e-99aa-4665-9eaa-21d1ee6d246e",
   "metadata": {},
   "source": [
    "<img src=\"pack_side_bottom.png\">"
   ]
  },
  {
   "cell_type": "markdown",
   "id": "72f0630d-b4f2-4335-b3d0-5a8f8c21b1b4",
   "metadata": {
    "tags": []
   },
   "source": [
    "### `LEFT` и `RIGHT` сработают аналогично"
   ]
  },
  {
   "cell_type": "markdown",
   "id": "a5f38a2d-de46-4d4a-8dd3-b6d2f7341766",
   "metadata": {
    "jp-MarkdownHeadingCollapsed": true,
    "tags": []
   },
   "source": [
    "### Некторые интерестные комбинации"
   ]
  },
  {
   "cell_type": "markdown",
   "id": "f839e0ca-3506-4c45-92e4-67e3900fb595",
   "metadata": {},
   "source": [
    "`LEFT` вклинивается между `TOP` и `BOTTOM`"
   ]
  },
  {
   "cell_type": "code",
   "execution_count": 17,
   "id": "9e73c92a-fe2e-4b0e-ae64-7c85a56dd982",
   "metadata": {},
   "outputs": [],
   "source": [
    "root = Tk()\n",
    "define_labels()\n",
    "\n",
    "l_arr[0].pack(side=TOP)\n",
    "l_arr[1].pack(side=BOTTOM)\n",
    "l_arr[2].pack(side=LEFT)\n",
    "\n",
    "root.mainloop()"
   ]
  },
  {
   "cell_type": "markdown",
   "id": "d959a3be-a26a-4fc5-bd13-f8c69d2f7472",
   "metadata": {},
   "source": [
    "<img src=\"pack_side_LEFT_LEFT_TOP.png\">"
   ]
  },
  {
   "cell_type": "markdown",
   "id": "19cdaa46-bea0-488b-b441-c2ddbe5e55e3",
   "metadata": {},
   "source": [
    "Два `LEFT` занимают максимальную левую позицию, а остальные виджеты уже \"пляшут пот эту дудку\"."
   ]
  },
  {
   "cell_type": "code",
   "execution_count": 10,
   "id": "216256bb-6e1f-40d0-b82b-2b09ad1d67d7",
   "metadata": {},
   "outputs": [],
   "source": [
    "root = Tk()\n",
    "define_labels()\n",
    "\n",
    "l_arr[0].pack(side=LEFT)\n",
    "l_arr[1].pack(side=LEFT)\n",
    "l_arr[2].pack(side=TOP)\n",
    "l_arr[3].pack(side=BOTTOM)\n",
    "\n",
    "root.mainloop()"
   ]
  },
  {
   "cell_type": "markdown",
   "id": "aa09de3a-c801-4b10-8406-52de2d148a9c",
   "metadata": {},
   "source": [
    "<img src=\"pack_side_LEFT_LEFT_TOP_BOTTOM.png\">"
   ]
  },
  {
   "cell_type": "code",
   "execution_count": 13,
   "id": "14916ac5-bda3-4996-91cf-67d827f5d469",
   "metadata": {},
   "outputs": [],
   "source": [
    "root = Tk()\n",
    "define_labels()\n",
    "\n",
    "l_arr[0].pack(side=LEFT)\n",
    "l_arr[1].pack(side=LEFT)\n",
    "l_arr[2].pack(side=TOP)\n",
    "l_arr[3].pack(side=BOTTOM)\n",
    "\n",
    "root.mainloop()"
   ]
  },
  {
   "cell_type": "markdown",
   "id": "6d03c552-27f2-4c83-9079-172c4bdf9204",
   "metadata": {},
   "source": [
    "## `Frame`, ` (рамка)\n",
    "\n",
    "Предыдущие примеры наглядно показывают, что такой подход не имеет ряд ограничений. Для из преодаления используют `Frame`"
   ]
  },
  {
   "cell_type": "code",
   "execution_count": 23,
   "id": "8b0177ba-9455-4fd5-9ff2-8326b5fd4282",
   "metadata": {},
   "outputs": [],
   "source": [
    "root = Tk()\n",
    "define_labels()\n",
    "\n",
    "t_fr = Frame()\n",
    "b_fr = Frame()\n",
    "\n",
    "t_fr.pack()\n",
    "b_fr.pack()\n",
    "\n",
    "Label(\n",
    "    t_fr, **default_label_sizes, bg = \"yellow\", text = \"1\"\n",
    ").pack(side = LEFT)\n",
    "Label(\n",
    "    t_fr, **default_label_sizes, bg = \"blue\", text = \"2\"\n",
    ").pack(side = LEFT)\n",
    "\n",
    "Label(\n",
    "    b_fr, **default_label_sizes, bg = \"purple\", text = \"3\"\n",
    ").pack(side = LEFT)\n",
    "Label(\n",
    "    b_fr, **default_label_sizes, bg = \"orange\", text = \"4\"\n",
    ").pack(side = LEFT)\n",
    "\n",
    "\n",
    "root.mainloop()"
   ]
  },
  {
   "cell_type": "markdown",
   "id": "0591c334-28d5-480f-b42d-f7f0c8c6e182",
   "metadata": {},
   "source": [
    "# Выполнение домашнего задания"
   ]
  }
 ],
 "metadata": {
  "kernelspec": {
   "display_name": "Python 3 (ipykernel)",
   "language": "python",
   "name": "python3"
  },
  "language_info": {
   "codemirror_mode": {
    "name": "ipython",
    "version": 3
   },
   "file_extension": ".py",
   "mimetype": "text/x-python",
   "name": "python",
   "nbconvert_exporter": "python",
   "pygments_lexer": "ipython3",
   "version": "3.10.7"
  }
 },
 "nbformat": 4,
 "nbformat_minor": 5
}

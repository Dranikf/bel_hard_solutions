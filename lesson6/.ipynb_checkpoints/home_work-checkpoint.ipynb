{
 "cells": [
  {
   "cell_type": "markdown",
   "id": "9d43381b-ce4e-4c88-8d4a-e41567b8e918",
   "metadata": {},
   "source": [
    "**Домашняя работа к занятию 22.10.2022**\n",
    "\n",
    "Тут я буду разбираться с тем как использовать tkinter"
   ]
  },
  {
   "cell_type": "markdown",
   "id": "e56cc38e-1aa2-4b07-9049-f92ba654f32d",
   "metadata": {
    "tags": []
   },
   "source": [
    "# Основы `tkinter`"
   ]
  },
  {
   "cell_type": "code",
   "execution_count": 8,
   "id": "01e7a76c-cce3-49dc-b81e-88b924bf6b47",
   "metadata": {},
   "outputs": [],
   "source": [
    "from tkinter import Tk, Entry, Button, Label"
   ]
  },
  {
   "cell_type": "markdown",
   "id": "03428808-0162-49de-960e-779988606292",
   "metadata": {
    "tags": []
   },
   "source": [
    "### Начало работы"
   ]
  },
  {
   "cell_type": "markdown",
   "id": "e655f208-60b5-405e-82bd-3d504299e290",
   "metadata": {},
   "source": [
    "Как запустить окошко в `tkinter`:\n",
    "- создаётся `root`;\n",
    "- вызывается метод `mainloop`."
   ]
  },
  {
   "cell_type": "code",
   "execution_count": 15,
   "id": "0a001bd6-45be-49f3-bb71-440c3ace4594",
   "metadata": {},
   "outputs": [],
   "source": [
    "Tk().mainloop()"
   ]
  },
  {
   "cell_type": "markdown",
   "id": "2b8a2648-b427-43c2-b89f-b09de685146e",
   "metadata": {},
   "source": [
    "Начнем понемногу заполнять наше окошко"
   ]
  },
  {
   "cell_type": "code",
   "execution_count": 17,
   "id": "0d95a3ac-5bbf-4683-b6b7-01614e969d8f",
   "metadata": {},
   "outputs": [],
   "source": [
    "root = Tk()\n",
    "\n",
    "# создание элементов\n",
    "e = Entry(root, width=20)\n",
    "b = Button(root, text=\"Преобразовать\")\n",
    "l = Label(root, bg='black', fg='white', width=20)\n",
    "\n",
    "# простейший способ занинуть элементы в окошко\n",
    "e.pack()\n",
    "b.pack()\n",
    "l.pack()\n",
    "\n",
    "root.mainloop()"
   ]
  },
  {
   "cell_type": "markdown",
   "id": "ab62c5f9-68d7-4355-a34d-2b037affcce4",
   "metadata": {},
   "source": [
    "**Обработчик события.** Заполним научим кнопку доставать запить из строки ввода и, поменяв порядок сров на обратный помещать этот текст в label"
   ]
  },
  {
   "cell_type": "code",
   "execution_count": 20,
   "id": "f6b09494-0bf5-45b6-9da1-863e20721bb5",
   "metadata": {},
   "outputs": [
    {
     "name": "stdout",
     "output_type": "stream",
     "text": [
      "<ButtonPress event state=Mod2 num=1 x=55 y=14>\n",
      "<ButtonPress event state=Mod2 num=1 x=55 y=14>\n",
      "<ButtonPress event state=Mod2 num=1 x=55 y=14>\n",
      "<ButtonPress event state=Mod2 num=1 x=55 y=14>\n",
      "<ButtonPress event state=Mod2 num=1 x=81 y=23>\n",
      "<ButtonPress event state=Mod2 num=1 x=94 y=14>\n",
      "<ButtonPress event state=Mod2 num=1 x=17 y=15>\n"
     ]
    }
   ],
   "source": [
    "root = Tk()\n",
    "\n",
    "# создание элементов\n",
    "e = Entry(root, width=20)\n",
    "b = Button(root, text=\"Преобразовать\")\n",
    "l = Label(root, bg='black', fg='white', width=20)\n",
    "\n",
    "# простейший способ занинуть элементы в окошко\n",
    "e.pack()\n",
    "b.pack()\n",
    "l.pack()\n",
    "\n",
    "def strToSortlist(event):\n",
    "    '''\n",
    "        Это и есть обработчик события\n",
    "    '''\n",
    "    s = e.get()\n",
    "    s = s.split()\n",
    "    s.sort()\n",
    "    print(event)\n",
    "    l['text'] = ' '.join(s)\n",
    "\n",
    "# говорим кнопке что происходит когда её нажимают\n",
    "b.bind('<Button-1>', strToSortlist)\n",
    "    \n",
    "root.mainloop()"
   ]
  },
  {
   "cell_type": "markdown",
   "id": "7408017a-081e-4057-b447-d2690ab91be3",
   "metadata": {
    "tags": []
   },
   "source": [
    "### ООП в `tkinter`\n",
    "\n",
    "Обычно используют объектно ориентированный подход - то же самое, что в прошлой ячейке , только созданное через `class Block` "
   ]
  },
  {
   "cell_type": "code",
   "execution_count": 22,
   "id": "51189831-510b-43e3-80ab-9c923a142859",
   "metadata": {},
   "outputs": [],
   "source": [
    "class Block:\n",
    "    def __init__(self, master):\n",
    "        self.e = Entry(master, width=20)\n",
    "        self.b = Button(master, text=\"Преобразовать\")\n",
    "        self.l = Label(master, bg='black', fg='white', width=20)\n",
    "        \n",
    "        # альтернативный способ задать обработчик\n",
    "        # события, только почему-то не просит event\n",
    "        self.b['command'] = self.strToSortlist\n",
    "        \n",
    "        \n",
    "        self.e.pack()\n",
    "        self.b.pack()\n",
    "        self.l.pack()\n",
    "    def strToSortlist(self):\n",
    "        s = self.e.get()\n",
    "        s = s.split()\n",
    "        s.sort()\n",
    "        self.l['text'] = ' '.join(s)\n",
    "        \n",
    "root = Tk()\n",
    "\n",
    "Block(root)\n",
    "\n",
    "root.mainloop()"
   ]
  },
  {
   "cell_type": "markdown",
   "id": "e48e98d4-f353-48f6-ab4a-a05ea460d487",
   "metadata": {},
   "source": [
    "Таким обрзом можно создавать несколько односипных комбинаций виджетов в одном окне"
   ]
  },
  {
   "cell_type": "code",
   "execution_count": 29,
   "id": "f41627c7-bd6b-4e59-a3eb-dcef75d7cb56",
   "metadata": {},
   "outputs": [],
   "source": [
    "class Block:\n",
    "    \n",
    "    def __init__(self, master):\n",
    "        self.e = Entry(master, width=20)\n",
    "        self.b = Button(master, text=\"Преобразовать\")\n",
    "        self.l = Label(master, bg='black', fg='white', width=20)\n",
    "        self.e.pack()\n",
    "        self.b.pack()\n",
    "        self.l.pack()\n",
    "        \n",
    "    def setFunc(self, func):\n",
    "        '''\n",
    "            Тут задается дейсвие которое делает кнопка.\n",
    "            func - это сточка которая будет соответсвать действию\n",
    "                   может принимать занчения {strToSortlist, strReverse}\n",
    "                   обе эти функции объявляют ниже;\n",
    "        '''\n",
    "        self.b['command'] = eval('self.' + func)\n",
    "        \n",
    "    def strToSortlist(self):\n",
    "        '''\n",
    "            Чтение строки записанной в строке ввода\n",
    "            и выдача его в label в отсортированном виде.\n",
    "        '''\n",
    "        s = self.e.get()\n",
    "        s = s.split()\n",
    "        s.sort()\n",
    "        self.l['text'] = ' '.join(s)\n",
    "        \n",
    "    def strReverse(self):\n",
    "        '''\n",
    "            Чтение строки записанной в строке ввода\n",
    "            и выдача его в label в обратном порядке слов.\n",
    "        '''\n",
    "        s = self.e.get()\n",
    "        s = s.split()\n",
    "        s.reverse()\n",
    "        self.l['text'] = ' '.join(s)\n",
    "        \n",
    "\n",
    "root = Tk()\n",
    "\n",
    "first_block = Block(root)\n",
    "first_block.setFunc('strToSortlist')\n",
    "\n",
    "second_block = Block(root)\n",
    "second_block.setFunc('strReverse')\n",
    "\n",
    "root.mainloop()"
   ]
  },
  {
   "cell_type": "markdown",
   "id": "882f1476-69b9-45ed-bc20-88a7f768231a",
   "metadata": {},
   "source": [
    "Из мнтересного в последнем блоке кода:"
   ]
  },
  {
   "cell_type": "code",
   "execution_count": 25,
   "id": "aa3a7117-6316-4c1b-8e63-9cc71728b878",
   "metadata": {},
   "outputs": [
    {
     "name": "stdout",
     "output_type": "stream",
     "text": [
      "test\n"
     ]
    }
   ],
   "source": [
    "# выполнить код заданный строчкой\n",
    "eval(\"print('test')\")"
   ]
  },
  {
   "cell_type": "markdown",
   "id": "1c8a01b5-29bf-4b7a-88e3-da207e9c61dd",
   "metadata": {},
   "source": [
    "### Практическое\n",
    "\n",
    "Требуется создать простейший калькулятор с двумя операндами. И кнопками обозначающими действия."
   ]
  },
  {
   "cell_type": "markdown",
   "id": "7de18b79-5d91-4998-984b-3277f584b304",
   "metadata": {},
   "source": [
    "*Обработчики событий*"
   ]
  },
  {
   "cell_type": "code",
   "execution_count": 67,
   "id": "24cecfd5-7ebe-4826-9265-45c6ecc593be",
   "metadata": {},
   "outputs": [],
   "source": [
    "def make_compution(oper1, oper2, operation):\n",
    "    '''\n",
    "        Функция производит вычисление какой либо операци\n",
    "        доступной в калькуляторе. Для операндов предусмотрена\n",
    "        проверка соотсветвия числовому типу.\n",
    "        Inputs:\n",
    "            oper1 - str первый операнд;\n",
    "            oper2 - str второй операнд;\n",
    "            operation - str арифметическая операция, предусмотрены {+,-,*,/}\n",
    "    '''\n",
    "    \n",
    "    try:\n",
    "        float(oper1)\n",
    "        float(oper2)\n",
    "    except ValueError:\n",
    "        return \"Ошибка\"\n",
    "\n",
    "    return eval(oper1 + operation + oper2)\n",
    "\n",
    "def plus_button(event):\n",
    "    result_lab['text'] = make_compution(op1_ent.get(), op2_ent.get(), \"+\")\n",
    "    \n",
    "def minus_button(event):\n",
    "    result_lab['text'] = make_compution(op1_ent.get(), op2_ent.get(), \"-\")\n",
    "\n",
    "def divide_button(event):\n",
    "    result_lab['text'] = make_compution(op1_ent.get(), op2_ent.get(), \"/\")\n",
    "\n",
    "def multiply_button(event):\n",
    "    result_lab['text'] = make_compution(op1_ent.get(), op2_ent.get(), \"*\")"
   ]
  },
  {
   "cell_type": "code",
   "execution_count": null,
   "id": "dacb2f58-906e-4b93-8f34-c46c6106dfa4",
   "metadata": {},
   "outputs": [],
   "source": [
    "root = Tk()\n",
    "\n",
    "# Создание=================================\n",
    "op1_ent = Entry(root)\n",
    "op2_ent = Entry(root)\n",
    "\n",
    "plus_but = Button(root, text = \"+\")\n",
    "minus_but = Button(root, text = \"-\")\n",
    "multiply_but = Button(root, text = \"*\")\n",
    "divide_but = Button(root, text = \"/\")\n",
    "\n",
    "result_lab = Label()\n",
    "# ==========================================\n",
    "\n",
    "# Размещение================================\n",
    "op1_ent.pack()\n",
    "op2_ent.pack()\n",
    "\n",
    "plus_but.pack()\n",
    "minus_but.pack()\n",
    "multiply_but.pack()\n",
    "divide_but.pack()\n",
    "\n",
    "result_lab.pack()\n",
    "# ==========================================\n",
    "\n",
    "\n",
    "plus_but.bind(\"<Button-1>\", plus_button)\n",
    "minus_but.bind(\"<Button-1>\", minus_button)\n",
    "multiply_but.bind(\"<Button-1>\", multiply_button)\n",
    "divide_but.bind(\"<Button-1>\", divide_button)\n",
    "\n",
    "root.mainloop()"
   ]
  },
  {
   "cell_type": "markdown",
   "id": "387a28f7-a7b6-42aa-806b-1108381dffab",
   "metadata": {},
   "source": [
    "В итоге получается вот такой калькуляторчик\n",
    "\n",
    "<img src=\"calculator1.png\">"
   ]
  },
  {
   "cell_type": "markdown",
   "id": "0591c334-28d5-480f-b42d-f7f0c8c6e182",
   "metadata": {},
   "source": [
    "# Выполнение домашнего задания"
   ]
  }
 ],
 "metadata": {
  "kernelspec": {
   "display_name": "Python 3 (ipykernel)",
   "language": "python",
   "name": "python3"
  },
  "language_info": {
   "codemirror_mode": {
    "name": "ipython",
    "version": 3
   },
   "file_extension": ".py",
   "mimetype": "text/x-python",
   "name": "python",
   "nbconvert_exporter": "python",
   "pygments_lexer": "ipython3",
   "version": "3.10.7"
  }
 },
 "nbformat": 4,
 "nbformat_minor": 5
}

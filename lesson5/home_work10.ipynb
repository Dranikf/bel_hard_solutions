{
 "cells": [
  {
   "cell_type": "markdown",
   "id": "60dc4123-2d0f-4268-9631-f24386bf4d76",
   "metadata": {},
   "source": [
    "**Домашнее задание от занятия про функции**"
   ]
  },
  {
   "cell_type": "markdown",
   "id": "095f1791-0e87-48ce-aabd-40dd95e07d12",
   "metadata": {},
   "source": [
    "<img src=\"10.17.png\">"
   ]
  },
  {
   "cell_type": "code",
   "execution_count": 5,
   "id": "0a0533d5-d7c1-4920-994c-fc6af4ef82f4",
   "metadata": {},
   "outputs": [
    {
     "name": "stdout",
     "output_type": "stream",
     "text": [
      "Результат заданного выражения:  162.90322580645162\n"
     ]
    }
   ],
   "source": [
    "def f(n):\n",
    "    res = 1\n",
    "    for i in range(n):\n",
    "        res *= (i+1)\n",
    "    return res\n",
    "\n",
    "print(\"Результат заданного выражения: \", (2*f(5) + 3*f(8))/(f(6) + f(4)))"
   ]
  },
  {
   "cell_type": "markdown",
   "id": "8ec879db-0f77-4ed1-98c3-814ac415817e",
   "metadata": {},
   "source": [
    "<img src=\"10.22.png\">"
   ]
  },
  {
   "cell_type": "code",
   "execution_count": 34,
   "id": "9936bf73-15cc-4f37-8a73-19b816f76007",
   "metadata": {},
   "outputs": [
    {
     "name": "stdout",
     "output_type": "stream",
     "text": [
      "Получены числа  [41, 1, 13, 30, 31, 74]\n",
      "А максимальное из них 74\n"
     ]
    }
   ],
   "source": [
    "def get_max(a, b):\n",
    "    '''\n",
    "        Вернет большее из двух \n",
    "        переданных чисел\n",
    "    '''\n",
    "    if a > b:\n",
    "        return a\n",
    "    else:\n",
    "        return b\n",
    "    \n",
    "from random import randint\n",
    "\n",
    "numbers = [randint(0,100) for i in range(6)]\n",
    "print(\"Получены числа \", numbers)\n",
    "\n",
    "\n",
    "max_val = numbers[0]\n",
    "for val in numbers[1:]:\n",
    "    max_val = get_max(max_val, val)\n",
    "    \n",
    "print(\"А максимальное из них\", max_val)"
   ]
  },
  {
   "cell_type": "markdown",
   "id": "6c5dabb8-1881-49ff-8902-c989e2a14e63",
   "metadata": {},
   "source": [
    "<img src=\"10.23(1).png\">\n",
    "<img src=\"10.23(2).png\">"
   ]
  },
  {
   "cell_type": "markdown",
   "id": "40e0d083-6011-4805-83c9-c11dc01a67e6",
   "metadata": {},
   "source": [
    "- январь (1) - 31;<br>\n",
    "- февраль (2) - 28/29;<br>\n",
    "- март (3) - 31;<br>\n",
    "- апрель (4) - 30;<br>\n",
    "- май (5) - 31;<br>\n",
    "- инюнь (6) - 30;<br>\n",
    "- июль (7) - 31;<br>\n",
    "- август (8) - 31;<br>\n",
    "- сентябрь (9) - 30;<br>\n",
    "- октябрь (10) - 31;<br>\n",
    "- ноябрь (11) - 30;<br>\n",
    "- декабрь (12) - 31."
   ]
  },
  {
   "cell_type": "code",
   "execution_count": 86,
   "id": "fc752e76-7ca6-4911-bafa-5ecff7f09fee",
   "metadata": {},
   "outputs": [
    {
     "name": "stdout",
     "output_type": "stream",
     "text": [
      "**********\n",
      "Предыдущий день  [9, 9, 2022]\n",
      "Задан день  [10, 9, 2022]\n",
      "Следующий день  [11, 9, 2022]\n",
      "**********\n",
      "Предыдущий день  [30, 4, 2022]\n",
      "Задан день  [1, 5, 2022]\n",
      "Следующий день  [2, 5, 2022]\n",
      "**********\n",
      "Предыдущий день  [31, 12, 2021]\n",
      "Задан день  [1, 1, 2022]\n",
      "Следующий день  [2, 1, 2022]\n",
      "**********\n",
      "Предыдущий день  [28, 2, 2022]\n",
      "Задан день  [1, 3, 2022]\n",
      "Следующий день  [2, 3, 2022]\n",
      "**********\n",
      "Предыдущий день  [29, 2, 2020]\n",
      "Задан день  [1, 3, 2020]\n",
      "Следующий день  [2, 3, 2020]\n",
      "**********\n",
      "Предыдущий день  [30, 10, 2022]\n",
      "Задан день  [31, 10, 2022]\n",
      "Следующий день  [1, 11, 2022]\n",
      "**********\n",
      "Предыдущий день  [30, 12, 2022]\n",
      "Задан день  [31, 12, 2022]\n",
      "Следующий день  [1, 1, 2023]\n",
      "**********\n",
      "Предыдущий день  [27, 2, 2022]\n",
      "Задан день  [28, 2, 2022]\n",
      "Следующий день  [1, 3, 2022]\n",
      "**********\n",
      "Предыдущий день  [27, 2, 2020]\n",
      "Задан день  [28, 2, 2020]\n",
      "Следующий день  [29, 2, 2020]\n",
      "**********\n",
      "Предыдущий день  [28, 2, 2020]\n",
      "Задан день  [29, 2, 2020]\n",
      "Следующий день  [1, 3, 2020]\n"
     ]
    }
   ],
   "source": [
    "from copy import copy\n",
    "\n",
    "\n",
    "def month_days(m, y):\n",
    "    '''\n",
    "        Вычисление числа дней \n",
    "        заданного месяца\n",
    "    '''\n",
    "    \n",
    "    m += 0 if m < 7 else 1\n",
    "    if m == 2:\n",
    "        return 28 if y%4 else 29\n",
    "    \n",
    "    return 30 + (1 if m%2 else 0)\n",
    "\n",
    "\n",
    "def get_prev_day(day):\n",
    "    '''\n",
    "        Функция для получения предыдущего дня\n",
    "    '''\n",
    "    \n",
    "    prev_day = copy(day)\n",
    "    \n",
    "    if day[0] == 1:\n",
    "        # первое число какого-то месяца\n",
    "        if day[1] == 1:\n",
    "            # тут получается перовое января\n",
    "            prev_day[2] -= 1\n",
    "            prev_day[1] = 12\n",
    "        else:\n",
    "            # а тут первое число любого другого месяца\n",
    "            prev_day[1] -= 1\n",
    "        prev_day[0] = month_days(prev_day[1], prev_day[2])\n",
    "    else:\n",
    "        prev_day[0] -= 1\n",
    "    \n",
    "    return prev_day\n",
    "\n",
    "\n",
    "def get_next_day(day):\n",
    "    '''\n",
    "        Функция для получения следующего месяца\n",
    "    '''\n",
    "    \n",
    "    next_day = copy(day)\n",
    "    \n",
    "    if day[0] == month_days(day[1], day[2]):\n",
    "        # если имею дело с последним числом какго-либо месяца\n",
    "        if day[1] == 12:\n",
    "            #  тут получается последний день какого-либо года\n",
    "            next_day[2] += 1\n",
    "            next_day[1] = 1\n",
    "        else:\n",
    "            # а тут получается последний день любого месяца кроме 12\n",
    "            next_day[1] += 1\n",
    "        next_day[0] = 1\n",
    "    else:\n",
    "        next_day[0] += 1\n",
    "    \n",
    "    return next_day\n",
    "\n",
    "# даты для проверки созданных алгоритмов\n",
    "intresting_dates = [\n",
    "    [10, 9, 2022], # ничем не примечательная дата\n",
    "    # это я тестирую, что там по предыдущему дню\n",
    "    [1, 5, 2022], # первый день случайного месяца\n",
    "    [1, 1, 2022], # первый день года\n",
    "    [1, 3, 2022], # первый марта не весокостного года\n",
    "    [1, 3, 2020], # первое марта весокостного года\n",
    "    # это я тестирую, что там по завтрашнему дню\n",
    "    [31,10, 2022], # последний день случайного месяца\n",
    "    [31,12, 2022], # последний день года\n",
    "    [28, 2, 2022], # 28 марта невесокостного года\n",
    "    [28, 2, 2020], # 28 марта весокостного года\n",
    "    [29, 2, 2020]  # 29 марта весокостного года\n",
    "]\n",
    "\n",
    "for date in intresting_dates:\n",
    "    print(\"*\"*10)\n",
    "    \n",
    "    print(\"Предыдущий день \", get_prev_day(date))\n",
    "    print(\"Задан день \", date)\n",
    "    print(\"Следующий день \", get_next_day(date))"
   ]
  },
  {
   "cell_type": "markdown",
   "id": "626f268f-3a50-4d70-832a-967175e4e947",
   "metadata": {},
   "source": [
    "<img src=\"10.26.png\">"
   ]
  },
  {
   "cell_type": "code",
   "execution_count": 13,
   "id": "c09d2de8-3a60-4e53-8ea0-9fe667cf47db",
   "metadata": {},
   "outputs": [
    {
     "name": "stdin",
     "output_type": "stream",
     "text": [
      "Введите a,b,c через зарятую 45,54,63\n"
     ]
    },
    {
     "name": "stdout",
     "output_type": "stream",
     "text": [
      "НОД введенных чисел  9\n"
     ]
    }
   ],
   "source": [
    "def eucl_gcd(a,b):\n",
    "    while True:\n",
    "        diff = abs(a-b)\n",
    "        a = min([a,b])\n",
    "        b = diff\n",
    "        if a == b:\n",
    "            return a\n",
    "\n",
    "a,b,c = [int(a) for a in \n",
    "input(\"Введите a,b,c через зарятую\").split(\",\")]\n",
    "print(\"НОД введенных чисел \", eucl_gcd(a, eucl_gcd(b,c)))"
   ]
  },
  {
   "cell_type": "markdown",
   "id": "b765ba5c-f264-445f-a5db-ff0131cf5a91",
   "metadata": {},
   "source": [
    "<img src=\"10.41.png\">"
   ]
  },
  {
   "cell_type": "code",
   "execution_count": 16,
   "id": "05f90f00-64d6-40e1-9e73-936f93292201",
   "metadata": {},
   "outputs": [
    {
     "data": {
      "text/plain": [
       "24"
      ]
     },
     "execution_count": 16,
     "metadata": {},
     "output_type": "execute_result"
    }
   ],
   "source": [
    "def fact(n):\n",
    "    if n > 1:\n",
    "        return n*fact(n-1)\n",
    "    else:\n",
    "        return 1\n",
    "    \n",
    "fact(4)"
   ]
  },
  {
   "cell_type": "markdown",
   "id": "cd7eafb4-c4fc-4562-ae02-55fe30c1d4a5",
   "metadata": {},
   "source": [
    "<img src=\"10.43.png\">"
   ]
  },
  {
   "cell_type": "markdown",
   "id": "7ca301b6-f196-4373-a980-1a0d72ea8b85",
   "metadata": {},
   "source": [
    "a)"
   ]
  },
  {
   "cell_type": "code",
   "execution_count": 21,
   "id": "72499657-2aa7-4282-af0b-bd7b088a1303",
   "metadata": {},
   "outputs": [
    {
     "data": {
      "text/plain": [
       "18"
      ]
     },
     "execution_count": 21,
     "metadata": {},
     "output_type": "execute_result"
    }
   ],
   "source": [
    "def num_sum(n):\n",
    "    next_num = n//10\n",
    "    return n%10 + (num_sum(next_num) if next_num != 0 else 0)\n",
    "num_sum(323532)"
   ]
  },
  {
   "cell_type": "markdown",
   "id": "e6dbc00d-ccab-481f-b395-07c0d88f7c8a",
   "metadata": {},
   "source": [
    "b)"
   ]
  },
  {
   "cell_type": "code",
   "execution_count": 24,
   "id": "b5fa657b-eee3-4685-8dbf-403dab25af47",
   "metadata": {},
   "outputs": [
    {
     "data": {
      "text/plain": [
       "5"
      ]
     },
     "execution_count": 24,
     "metadata": {},
     "output_type": "execute_result"
    }
   ],
   "source": [
    "def num_count(n):\n",
    "    next_num = n//10\n",
    "    return 1 + (num_count(next_num) if next_num != 0 else 0)\n",
    "num_count(12345)"
   ]
  },
  {
   "cell_type": "markdown",
   "id": "e26a0c43-733b-4ebb-b395-8528e5f74435",
   "metadata": {},
   "source": [
    "<img src=\"10.44.png\">"
   ]
  },
  {
   "cell_type": "code",
   "execution_count": 6,
   "id": "658c1b47-c8fa-4338-a15d-e7476fe808d1",
   "metadata": {},
   "outputs": [
    {
     "data": {
      "text/plain": [
       "6"
      ]
     },
     "execution_count": 6,
     "metadata": {},
     "output_type": "execute_result"
    }
   ],
   "source": [
    "def num_sum(n):\n",
    "    '''\n",
    "        Подсчет количества цифр в числе\n",
    "    '''\n",
    "    next_num = n//10\n",
    "    return n%10 + (num_sum(next_num) if next_num != 0 else 0)\n",
    "\n",
    "def num_root(n):\n",
    "    '''\n",
    "        Вычисление числового корня числа\n",
    "    '''\n",
    "    return n if n//10 == 0 else num_root(num_sum(n))\n",
    "\n",
    "num_root(12345)"
   ]
  },
  {
   "cell_type": "markdown",
   "id": "9dfaa919-e161-4049-8fab-06682a830676",
   "metadata": {},
   "source": [
    "<img src=\"10.53.png\">"
   ]
  },
  {
   "cell_type": "code",
   "execution_count": 9,
   "id": "dfe79344-d3f9-4153-b1f4-5f90c1f1e980",
   "metadata": {},
   "outputs": [
    {
     "name": "stdin",
     "output_type": "stream",
     "text": [
      "Введите число 4\n",
      "Введите число 5\n",
      "Введите число 6\n",
      "Введите число 0\n"
     ]
    },
    {
     "data": {
      "text/plain": [
       "[0, 6, 5, 4]"
      ]
     },
     "execution_count": 9,
     "metadata": {},
     "output_type": "execute_result"
    }
   ],
   "source": [
    "def get_queue(lst = []):\n",
    "    n = int(input(\"Введите число\"))\n",
    "    lst += [n]\n",
    "    if n != 0:\n",
    "        return get_queue(lst)\n",
    "    else:\n",
    "        return lst[::-1]\n",
    "    \n",
    "get_queue()"
   ]
  },
  {
   "cell_type": "markdown",
   "id": "034f806d-b768-4e68-b71e-98622ef5b7bd",
   "metadata": {},
   "source": [
    "Решение преподвателя"
   ]
  },
  {
   "cell_type": "code",
   "execution_count": 13,
   "id": "0b346dff-ffa5-4c20-9f76-b39acbe2f3f8",
   "metadata": {},
   "outputs": [
    {
     "name": "stdin",
     "output_type": "stream",
     "text": [
      "Input 3\n",
      "Input 4\n",
      "Input 5\n",
      "Input 3\n",
      "Input 1\n",
      "Input 2\n",
      "Input 4\n",
      "Input 0\n"
     ]
    },
    {
     "name": "stdout",
     "output_type": "stream",
     "text": [
      "4\n",
      "2\n",
      "1\n",
      "3\n",
      "5\n",
      "4\n",
      "3\n"
     ]
    }
   ],
   "source": [
    "def fanc():\n",
    "    n = int(input(\"Input\"))\n",
    "    if n != 0:\n",
    "        fanc()\n",
    "        print(n)\n",
    "\n",
    "fanc()"
   ]
  }
 ],
 "metadata": {
  "kernelspec": {
   "display_name": "Python 3 (ipykernel)",
   "language": "python",
   "name": "python3"
  },
  "language_info": {
   "codemirror_mode": {
    "name": "ipython",
    "version": 3
   },
   "file_extension": ".py",
   "mimetype": "text/x-python",
   "name": "python",
   "nbconvert_exporter": "python",
   "pygments_lexer": "ipython3",
   "version": "3.10.7"
  }
 },
 "nbformat": 4,
 "nbformat_minor": 5
}

{
 "cells": [
  {
   "cell_type": "markdown",
   "id": "994e3bbd-4fad-4e06-8da0-151573f517e8",
   "metadata": {},
   "source": [
    "**Требудется разобраться и идеей абстрактных классов и интерфейсов а таже реализовать один из вариантов**\n",
    "\n",
    "<img src=\"home_work_tasks.jpg\">"
   ]
  },
  {
   "cell_type": "markdown",
   "id": "349c7f0a-517b-42ec-aba6-5b46dbf1497b",
   "metadata": {},
   "source": []
  }
 ],
 "metadata": {
  "kernelspec": {
   "display_name": "Python 3 (ipykernel)",
   "language": "python",
   "name": "python3"
  },
  "language_info": {
   "codemirror_mode": {
    "name": "ipython",
    "version": 3
   },
   "file_extension": ".py",
   "mimetype": "text/x-python",
   "name": "python",
   "nbconvert_exporter": "python",
   "pygments_lexer": "ipython3",
   "version": "3.10.7"
  }
 },
 "nbformat": 4,
 "nbformat_minor": 5
}
